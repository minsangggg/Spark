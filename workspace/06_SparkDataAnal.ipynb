{
 "cells": [
  {
   "cell_type": "code",
   "execution_count": 63,
   "id": "b3c2df23-b6db-49d3-9081-7e7b1b2e18e2",
   "metadata": {},
   "outputs": [],
   "source": [
    "from pyspark.sql import SparkSession\n",
    "spark=SparkSession.builder.master(\"local\").appName(\"spark-sql\").getOrCreate()"
   ]
  },
  {
   "cell_type": "code",
   "execution_count": 2,
   "id": "449750f6-1835-4e2e-9d1d-09ed9c54b4a8",
   "metadata": {},
   "outputs": [],
   "source": [
    "df=spark.read.format('json')\\\n",
    "        .load(\"learning_spark_data/2015-summary.json\")"
   ]
  },
  {
   "cell_type": "code",
   "execution_count": 3,
   "id": "68d12f17-0577-4961-b175-c9df994f9bc2",
   "metadata": {},
   "outputs": [
    {
     "data": {
      "text/plain": [
       "256"
      ]
     },
     "execution_count": 3,
     "metadata": {},
     "output_type": "execute_result"
    }
   ],
   "source": [
    "df.count()"
   ]
  },
  {
   "cell_type": "code",
   "execution_count": 4,
   "id": "126011bb-062b-48e8-991e-251fa08441aa",
   "metadata": {},
   "outputs": [
    {
     "name": "stdout",
     "output_type": "stream",
     "text": [
      "+-----------------+-------------------+-----+\n",
      "|DEST_COUNTRY_NAME|ORIGIN_COUNTRY_NAME|count|\n",
      "+-----------------+-------------------+-----+\n",
      "|    United States|            Romania|   15|\n",
      "|    United States|            Croatia|    1|\n",
      "|    United States|            Ireland|  344|\n",
      "|            Egypt|      United States|   15|\n",
      "|    United States|              India|   62|\n",
      "|    United States|          Singapore|    1|\n",
      "|    United States|            Grenada|   62|\n",
      "|       Costa Rica|      United States|  588|\n",
      "|          Senegal|      United States|   40|\n",
      "|          Moldova|      United States|    1|\n",
      "+-----------------+-------------------+-----+\n",
      "only showing top 10 rows\n",
      "\n"
     ]
    }
   ],
   "source": [
    "df.show(10)"
   ]
  },
  {
   "cell_type": "code",
   "execution_count": 6,
   "id": "ec4fdfe2-c484-46a2-85e6-2968a50b2328",
   "metadata": {},
   "outputs": [
    {
     "data": {
      "text/plain": [
       "[('DEST_COUNTRY_NAME', 'string'),\n",
       " ('ORIGIN_COUNTRY_NAME', 'string'),\n",
       " ('count', 'bigint')]"
      ]
     },
     "execution_count": 6,
     "metadata": {},
     "output_type": "execute_result"
    }
   ],
   "source": [
    "df.dtypes"
   ]
  },
  {
   "cell_type": "code",
   "execution_count": 15,
   "id": "6611fa4b-a44a-4409-bd18-e480af8be03a",
   "metadata": {},
   "outputs": [
    {
     "name": "stdout",
     "output_type": "stream",
     "text": [
      "root\n",
      " |-- DEST_COUNTRY_NAME: string (nullable = true)\n",
      " |-- ORIGIN_COUNTRY_NAME: string (nullable = true)\n",
      " |-- count: long (nullable = true)\n",
      "\n"
     ]
    }
   ],
   "source": [
    "df.printSchema()"
   ]
  },
  {
   "cell_type": "code",
   "execution_count": 26,
   "id": "8a75b03e-1d48-4348-bb06-b7b7e17cad01",
   "metadata": {},
   "outputs": [],
   "source": [
    "#df.collect()"
   ]
  },
  {
   "cell_type": "code",
   "execution_count": 16,
   "id": "cb234ef7-370b-4056-a7a5-47182a4572d4",
   "metadata": {},
   "outputs": [
    {
     "data": {
      "text/plain": [
       "[Row(DEST_COUNTRY_NAME='United States', ORIGIN_COUNTRY_NAME='Romania', count=15),\n",
       " Row(DEST_COUNTRY_NAME='United States', ORIGIN_COUNTRY_NAME='Croatia', count=1),\n",
       " Row(DEST_COUNTRY_NAME='United States', ORIGIN_COUNTRY_NAME='Ireland', count=344)]"
      ]
     },
     "execution_count": 16,
     "metadata": {},
     "output_type": "execute_result"
    }
   ],
   "source": [
    "df.take(3)"
   ]
  },
  {
   "cell_type": "code",
   "execution_count": 17,
   "id": "532390a7-1de3-4533-9e06-fa26e552d010",
   "metadata": {},
   "outputs": [
    {
     "name": "stdout",
     "output_type": "stream",
     "text": [
      "+-----+\n",
      "|count|\n",
      "+-----+\n",
      "|   15|\n",
      "|    1|\n",
      "|  344|\n",
      "|   15|\n",
      "|   62|\n",
      "+-----+\n",
      "only showing top 5 rows\n",
      "\n"
     ]
    }
   ],
   "source": [
    "df.select('count').show(5)"
   ]
  },
  {
   "cell_type": "code",
   "execution_count": 27,
   "id": "20bb89ea-7535-4a88-8f87-3abd7ed6cbc8",
   "metadata": {},
   "outputs": [
    {
     "name": "stdout",
     "output_type": "stream",
     "text": [
      "+--------------------+\n",
      "|   DEST_COUNTRY_NAME|\n",
      "+--------------------+\n",
      "|            Anguilla|\n",
      "|              Russia|\n",
      "|            Paraguay|\n",
      "|             Senegal|\n",
      "|              Sweden|\n",
      "|            Kiribati|\n",
      "|              Guyana|\n",
      "|         Philippines|\n",
      "|            Djibouti|\n",
      "|            Malaysia|\n",
      "|           Singapore|\n",
      "|                Fiji|\n",
      "|              Turkey|\n",
      "|                Iraq|\n",
      "|             Germany|\n",
      "|              Jordan|\n",
      "|               Palau|\n",
      "|Turks and Caicos ...|\n",
      "|              France|\n",
      "|              Greece|\n",
      "+--------------------+\n",
      "only showing top 20 rows\n",
      "\n"
     ]
    }
   ],
   "source": [
    "df.select('DEST_COUNTRY_NAME').distinct().show()"
   ]
  },
  {
   "cell_type": "code",
   "execution_count": 30,
   "id": "712036f6-4c80-4af0-9a0c-6ca64fee6c89",
   "metadata": {},
   "outputs": [
    {
     "data": {
      "text/plain": [
       "132"
      ]
     },
     "execution_count": 30,
     "metadata": {},
     "output_type": "execute_result"
    }
   ],
   "source": [
    "df1=df.select('DEST_COUNTRY_NAME').distinct().cache() #메모리유지\n",
    "df1.count()"
   ]
  },
  {
   "cell_type": "code",
   "execution_count": 31,
   "id": "45152882-c4bd-4342-9e48-3b45f07f679e",
   "metadata": {},
   "outputs": [
    {
     "data": {
      "text/plain": [
       "<Row('hello', None, 1, False)>"
      ]
     },
     "execution_count": 31,
     "metadata": {},
     "output_type": "execute_result"
    }
   ],
   "source": [
    "#ROW class를 이용한 단일 레코드 생성\n",
    "\n",
    "from pyspark.sql import Row\n",
    "myRow=Row('hello',None,1,False)\n",
    "myRow"
   ]
  },
  {
   "cell_type": "code",
   "execution_count": 32,
   "id": "ef434ed0-70f9-424e-8253-27516922898d",
   "metadata": {},
   "outputs": [
    {
     "data": {
      "text/plain": [
       "DataFrame[DEST_COUNTRY_NAME: string, ORIGIN_COUNTRY_NAME: string, count: bigint, withinCountry: boolean]"
      ]
     },
     "execution_count": 32,
     "metadata": {},
     "output_type": "execute_result"
    }
   ],
   "source": [
    "#새로운 컬럼 추가하기\n",
    "from pyspark.sql.functions import expr\n",
    "\n",
    "df3=df.withColumn('withinCountry', expr('ORIGIN_COUNTRY_NAME==DEST_COUNTRY_NAME')) #expr sql 표현식을 받아 생성\n",
    "df3"
   ]
  },
  {
   "cell_type": "code",
   "execution_count": 33,
   "id": "4f00d109-d40e-4d5d-aba0-4a03265c8359",
   "metadata": {},
   "outputs": [
    {
     "name": "stdout",
     "output_type": "stream",
     "text": [
      "+-----------------+-------------------+-----+-------------+\n",
      "|DEST_COUNTRY_NAME|ORIGIN_COUNTRY_NAME|count|withinCountry|\n",
      "+-----------------+-------------------+-----+-------------+\n",
      "|    United States|            Romania|   15|        false|\n",
      "|    United States|            Croatia|    1|        false|\n",
      "|    United States|            Ireland|  344|        false|\n",
      "+-----------------+-------------------+-----+-------------+\n",
      "only showing top 3 rows\n",
      "\n"
     ]
    }
   ],
   "source": [
    "df3.show(3)"
   ]
  },
  {
   "cell_type": "code",
   "execution_count": 35,
   "id": "a4989766-a43e-436b-95b4-9889e38c7a4f",
   "metadata": {},
   "outputs": [
    {
     "name": "stdout",
     "output_type": "stream",
     "text": [
      "+-----------------+-------------------+------+-------------+\n",
      "|DEST_COUNTRY_NAME|ORIGIN_COUNTRY_NAME| count|withinCountry|\n",
      "+-----------------+-------------------+------+-------------+\n",
      "|    United States|      United States|370002|         true|\n",
      "+-----------------+-------------------+------+-------------+\n",
      "\n"
     ]
    }
   ],
   "source": [
    "df3.filter('withinCountry=True').show(3)"
   ]
  },
  {
   "cell_type": "code",
   "execution_count": 37,
   "id": "2f5cf689-ffe4-4b9b-8411-ab5bd50c80ad",
   "metadata": {},
   "outputs": [
    {
     "name": "stdout",
     "output_type": "stream",
     "text": [
      "+-----------------+-------------------+------+-------------+\n",
      "|DEST_COUNTRY_NAME|ORIGIN_COUNTRY_NAME| count|withinCountry|\n",
      "+-----------------+-------------------+------+-------------+\n",
      "|    United States|      United States|370002|         true|\n",
      "+-----------------+-------------------+------+-------------+\n",
      "\n"
     ]
    }
   ],
   "source": [
    "df3.where(df3.withinCountry == True).show(3)"
   ]
  },
  {
   "cell_type": "code",
   "execution_count": null,
   "id": "0021df2a-8b9d-41d0-9990-7809c4235c53",
   "metadata": {},
   "outputs": [],
   "source": [
    "# case when 'count' 10이하는 under, 이상은 upper로 변환 > category컬럼 추가"
   ]
  },
  {
   "cell_type": "code",
   "execution_count": 39,
   "id": "ff6b88bc-936b-4a5a-87dd-d5de3e869bc6",
   "metadata": {},
   "outputs": [],
   "source": [
    "from pyspark.sql.functions import when"
   ]
  },
  {
   "cell_type": "code",
   "execution_count": 45,
   "id": "1495ba86-b1a9-418a-b4f3-cc74261bcb82",
   "metadata": {},
   "outputs": [
    {
     "name": "stdout",
     "output_type": "stream",
     "text": [
      "+-----+--------+\n",
      "|count|category|\n",
      "+-----+--------+\n",
      "|   15|   upper|\n",
      "|    1|   under|\n",
      "|  344|   upper|\n",
      "|   15|   upper|\n",
      "|   62|   upper|\n",
      "|    1|   under|\n",
      "|   62|   upper|\n",
      "|  588|   upper|\n",
      "|   40|   upper|\n",
      "|    1|   under|\n",
      "|  325|   upper|\n",
      "|   39|   upper|\n",
      "|   64|   upper|\n",
      "|    1|   under|\n",
      "|   41|   upper|\n",
      "|   30|   upper|\n",
      "|    6|   under|\n",
      "|    4|   under|\n",
      "|  230|   upper|\n",
      "|    1|   under|\n",
      "+-----+--------+\n",
      "only showing top 20 rows\n",
      "\n"
     ]
    }
   ],
   "source": [
    "df4=df3.withColumn('category', \n",
    "              when(df3['count']<=10, 'under').otherwise('upper'))\n",
    "df4.select('count','category').show()"
   ]
  },
  {
   "cell_type": "code",
   "execution_count": 47,
   "id": "15a6a344-e72f-4a30-b5c7-d3f9eb342357",
   "metadata": {},
   "outputs": [
    {
     "name": "stdout",
     "output_type": "stream",
     "text": [
      "+-----------------+-------------------+-----+-------------+--------+\n",
      "|DEST_COUNTRY_NAME|ORIGIN_COUNTRY_NAME|count|withinCountry|category|\n",
      "+-----------------+-------------------+-----+-------------+--------+\n",
      "|    United States|            Romania|   15|        false|   upper|\n",
      "|    United States|            Croatia|    1|        false|   under|\n",
      "|    United States|            Ireland|  344|        false|   upper|\n",
      "|            Egypt|      United States|   15|        false|   upper|\n",
      "|    United States|              India|   62|        false|   upper|\n",
      "|    United States|          Singapore|    1|        false|   under|\n",
      "|    United States|            Grenada|   62|        false|   upper|\n",
      "|       Costa Rica|      United States|  588|        false|   upper|\n",
      "+-----------------+-------------------+-----+-------------+--------+\n",
      "only showing top 8 rows\n",
      "\n"
     ]
    }
   ],
   "source": [
    "df4.show(8)"
   ]
  },
  {
   "cell_type": "code",
   "execution_count": null,
   "id": "3756e532-8849-46ba-8688-6e9da3388466",
   "metadata": {},
   "outputs": [],
   "source": [
    "#DataFrame의 select(),where(),filter()트랜스포메이션\n",
    "#show(), count()액션"
   ]
  },
  {
   "cell_type": "code",
   "execution_count": 58,
   "id": "b6c601f7-1dcf-4b17-9d8f-1e429e427f92",
   "metadata": {},
   "outputs": [],
   "source": [
    "spark.stop()"
   ]
  },
  {
   "cell_type": "markdown",
   "id": "76446316-5171-4357-b185-b506416bfdb1",
   "metadata": {},
   "source": [
    "## 집계함수"
   ]
  },
  {
   "cell_type": "code",
   "execution_count": 50,
   "id": "154429f0-13c1-4948-8b0b-e5ddfa53fdf5",
   "metadata": {},
   "outputs": [],
   "source": [
    "# emp_df, dept_df"
   ]
  },
  {
   "cell_type": "code",
   "execution_count": 64,
   "id": "2018a7d8-b8bf-474f-b580-6ace122e683e",
   "metadata": {},
   "outputs": [],
   "source": [
    "emp_df = spark.read.csv(\"learning_spark_data/emp.csv\", header=True, inferSchema=True)\n",
    "dept_df = spark.read.csv(\"learning_spark_data/dept.csv\", header=True, inferSchema=True)"
   ]
  },
  {
   "cell_type": "code",
   "execution_count": 65,
   "id": "ad214e36-8e10-4d87-956e-da652a13f93f",
   "metadata": {},
   "outputs": [
    {
     "name": "stdout",
     "output_type": "stream",
     "text": [
      "+-----+------+--------+----+----------+----+----+------+\n",
      "|empno| ename|     job| mgr|  hiredate| sal|comm|deptno|\n",
      "+-----+------+--------+----+----------+----+----+------+\n",
      "| 7369| SMITH|   CLERK|7902|1980-12-17| 800|NULL|    20|\n",
      "| 7499| ALLEN|SALESMAN|7698|1981-02-20|1600| 300|    30|\n",
      "| 7521|  WARD|SALESMAN|7698|1981-02-22|1250| 500|    30|\n",
      "| 7566| JONES| MANAGER|7839|1981-04-02|2975|NULL|    20|\n",
      "| 7654|MARTIN|SALESMAN|7698|1981-09-28|1250|1400|    30|\n",
      "+-----+------+--------+----+----------+----+----+------+\n",
      "only showing top 5 rows\n",
      "\n"
     ]
    }
   ],
   "source": [
    "emp_df.show(5)"
   ]
  },
  {
   "cell_type": "code",
   "execution_count": 66,
   "id": "13567970-6487-48d4-8e7f-a4390181ca0c",
   "metadata": {},
   "outputs": [
    {
     "name": "stdout",
     "output_type": "stream",
     "text": [
      "+------+----------+--------+\n",
      "|deptno|     dname|     loc|\n",
      "+------+----------+--------+\n",
      "|    10|ACCOUNTING|NEW YORK|\n",
      "|    20|  RESEARCH|  DALLAS|\n",
      "|    30|     SALES| CHICAGO|\n",
      "|    40|OPERATIONS|  BOSTON|\n",
      "+------+----------+--------+\n",
      "\n"
     ]
    }
   ],
   "source": [
    "dept_df.show(5)"
   ]
  },
  {
   "cell_type": "code",
   "execution_count": 71,
   "id": "89473663-5a36-4e67-b2af-a549382f4d7f",
   "metadata": {},
   "outputs": [
    {
     "name": "stdout",
     "output_type": "stream",
     "text": [
      "+------+------+\n",
      "| ENAME|Deptno|\n",
      "+------+------+\n",
      "| SMITH|    20|\n",
      "| ALLEN|    30|\n",
      "|  WARD|    30|\n",
      "| JONES|    20|\n",
      "|MARTIN|    30|\n",
      "+------+------+\n",
      "only showing top 5 rows\n",
      "\n"
     ]
    }
   ],
   "source": [
    "emp_df.select('ENAME','Deptno').show(5)"
   ]
  },
  {
   "cell_type": "code",
   "execution_count": 68,
   "id": "24fcd508-67e5-4739-b634-708f4495f72f",
   "metadata": {},
   "outputs": [
    {
     "name": "stdout",
     "output_type": "stream",
     "text": [
      "+-----+-----+-------+----+----------+----+----+------+\n",
      "|empno|ename|    job| mgr|  hiredate| sal|comm|deptno|\n",
      "+-----+-----+-------+----+----------+----+----+------+\n",
      "| 7369|SMITH|  CLERK|7902|1980-12-17| 800|NULL|    20|\n",
      "| 7566|JONES|MANAGER|7839|1981-04-02|2975|NULL|    20|\n",
      "| 7788|SCOTT|ANALYST|7566|1987-04-19|3000|NULL|    20|\n",
      "| 7876|ADAMS|  CLERK|7788|1987-05-23|1100|NULL|    20|\n",
      "| 7902| FORD|ANALYST|7566|1981-12-03|3000|NULL|    20|\n",
      "+-----+-----+-------+----+----------+----+----+------+\n",
      "\n"
     ]
    }
   ],
   "source": [
    "emp_df.select('*').where('deptno=20').show()"
   ]
  },
  {
   "cell_type": "code",
   "execution_count": 69,
   "id": "b9087eb8-2d26-4a28-a5ef-3a4967d7cde0",
   "metadata": {},
   "outputs": [
    {
     "name": "stdout",
     "output_type": "stream",
     "text": [
      "+--------+\n",
      "|count(1)|\n",
      "+--------+\n",
      "|      15|\n",
      "+--------+\n",
      "\n"
     ]
    }
   ],
   "source": [
    "#Expr을 통한 조건식\n",
    "emp_df.selectExpr('count(*)').show()"
   ]
  },
  {
   "cell_type": "code",
   "execution_count": 75,
   "id": "9498b70b-fe2a-48fd-a434-a272727c0f6c",
   "metadata": {},
   "outputs": [
    {
     "name": "stdout",
     "output_type": "stream",
     "text": [
      "+-------------------+\n",
      "|count(DISTINCT job)|\n",
      "+-------------------+\n",
      "|                  5|\n",
      "+-------------------+\n",
      "\n"
     ]
    }
   ],
   "source": [
    "from pyspark.sql.functions import countDistinct\n",
    "emp_df.select(countDistinct('job')).show()"
   ]
  },
  {
   "cell_type": "code",
   "execution_count": 76,
   "id": "8be6ab15-0f6a-4222-9d7b-733636a1bf20",
   "metadata": {},
   "outputs": [
    {
     "name": "stdout",
     "output_type": "stream",
     "text": [
      "+--------------------------+\n",
      "|approx_count_distinct(job)|\n",
      "+--------------------------+\n",
      "|                         5|\n",
      "+--------------------------+\n",
      "\n"
     ]
    }
   ],
   "source": [
    "from pyspark.sql.functions import approx_count_distinct #오차범위 설정\n",
    "emp_df.select(approx_count_distinct('job',0.1)).show()"
   ]
  },
  {
   "cell_type": "code",
   "execution_count": null,
   "id": "66c1c4cb-d2bf-4a5a-908f-834f8c370536",
   "metadata": {},
   "outputs": [],
   "source": [
    "#first,last,min,max,sum,avg ->function으로 처리"
   ]
  },
  {
   "cell_type": "code",
   "execution_count": 155,
   "id": "55208cf1-32b1-44ab-96cb-d4e9326d32ee",
   "metadata": {},
   "outputs": [
    {
     "name": "stdout",
     "output_type": "stream",
     "text": [
      "+------------+--------+-----------+----------+---------+\n",
      "|count(empno)|count(1)|count(comm)|max(ename)|max(comm)|\n",
      "+------------+--------+-----------+----------+---------+\n",
      "|          15|      15|          4|      WARD|     1400|\n",
      "+------------+--------+-----------+----------+---------+\n",
      "\n"
     ]
    }
   ],
   "source": [
    "emp_df.select(count('empno'), count('*'), count('comm'), max('ename'), max('comm')).show()"
   ]
  },
  {
   "cell_type": "code",
   "execution_count": 82,
   "id": "b300c31c-69bf-4b5a-9201-da649e4fbecf",
   "metadata": {},
   "outputs": [
    {
     "name": "stdout",
     "output_type": "stream",
     "text": [
      "+----------+\n",
      "|first(sal)|\n",
      "+----------+\n",
      "|       800|\n",
      "+----------+\n",
      "\n"
     ]
    }
   ],
   "source": [
    "from pyspark.sql.functions import first\n",
    "emp_df.select(first('sal', ignorenulls=True)).show()"
   ]
  },
  {
   "cell_type": "code",
   "execution_count": 83,
   "id": "5fc7c591-9c56-4382-8711-9f1cfdd32d49",
   "metadata": {},
   "outputs": [
    {
     "name": "stdout",
     "output_type": "stream",
     "text": [
      "+---------+\n",
      "|last(sal)|\n",
      "+---------+\n",
      "|     3200|\n",
      "+---------+\n",
      "\n"
     ]
    }
   ],
   "source": [
    "from pyspark.sql.functions import last\n",
    "emp_df.select(last('sal',ignorenulls=True)).show()"
   ]
  },
  {
   "cell_type": "code",
   "execution_count": 87,
   "id": "06b2701e-a37a-48f8-92d7-3a7d299db9a9",
   "metadata": {},
   "outputs": [
    {
     "name": "stdout",
     "output_type": "stream",
     "text": [
      "+--------+\n",
      "|min(sal)|\n",
      "+--------+\n",
      "|     800|\n",
      "+--------+\n",
      "\n"
     ]
    }
   ],
   "source": [
    "from pyspark.sql.functions import min\n",
    "emp_df.select(min('sal')).show()"
   ]
  },
  {
   "cell_type": "code",
   "execution_count": 89,
   "id": "624fee63-4e3e-46ea-bdda-9c86f8dca2f7",
   "metadata": {},
   "outputs": [
    {
     "name": "stdout",
     "output_type": "stream",
     "text": [
      "+--------+\n",
      "|max(sal)|\n",
      "+--------+\n",
      "|    5000|\n",
      "+--------+\n",
      "\n"
     ]
    }
   ],
   "source": [
    "from pyspark.sql.functions import max\n",
    "emp_df.select(max('sal')).show()"
   ]
  },
  {
   "cell_type": "code",
   "execution_count": 153,
   "id": "9807c252-341d-4e57-807e-3857750dfdbd",
   "metadata": {},
   "outputs": [
    {
     "name": "stdout",
     "output_type": "stream",
     "text": [
      "+--------+\n",
      "|sum(sal)|\n",
      "+--------+\n",
      "|   32225|\n",
      "+--------+\n",
      "\n"
     ]
    }
   ],
   "source": [
    "from pyspark.sql.functions import col\n",
    "emp_df.select(sum('sal')).show()"
   ]
  },
  {
   "cell_type": "code",
   "execution_count": 97,
   "id": "173f953b-468b-460f-87d0-a833b35fdd65",
   "metadata": {},
   "outputs": [
    {
     "name": "stdout",
     "output_type": "stream",
     "text": [
      "+-----------------+\n",
      "|sum(DISTINCT sal)|\n",
      "+-----------------+\n",
      "|            27975|\n",
      "+-----------------+\n",
      "\n"
     ]
    }
   ],
   "source": [
    "emp_df.selectExpr('sum(distinct sal)').show()"
   ]
  },
  {
   "cell_type": "code",
   "execution_count": 154,
   "id": "79bd4560-1a1c-4f2e-94ac-c48dad60614f",
   "metadata": {},
   "outputs": [
    {
     "name": "stdout",
     "output_type": "stream",
     "text": [
      "+------------------+\n",
      "|          avg(sal)|\n",
      "+------------------+\n",
      "|2148.3333333333335|\n",
      "+------------------+\n",
      "\n"
     ]
    }
   ],
   "source": [
    "from pyspark.sql.functions import avg\n",
    "emp_df.select(avg('sal')).show()"
   ]
  },
  {
   "cell_type": "code",
   "execution_count": 157,
   "id": "17256ea8-2837-4517-9fae-9cdf9187e0a8",
   "metadata": {},
   "outputs": [
    {
     "name": "stdout",
     "output_type": "stream",
     "text": [
      "+--------+------------------+------------------+\n",
      "|sum(sal)|          avg(sal)|          avg(sal)|\n",
      "+--------+------------------+------------------+\n",
      "|   32225|2148.3333333333335|2148.3333333333335|\n",
      "+--------+------------------+------------------+\n",
      "\n"
     ]
    }
   ],
   "source": [
    "emp_df.select(sum('sal'), mean('sal'), avg('sal')).show()"
   ]
  },
  {
   "cell_type": "code",
   "execution_count": null,
   "id": "f9ca835c-82f0-4b1a-be7c-ffccf63d318a",
   "metadata": {},
   "outputs": [],
   "source": [
    "#total_sal/total_transaction, avg_salary,mean_salary"
   ]
  },
  {
   "cell_type": "code",
   "execution_count": 110,
   "id": "7cad8c47-474c-4732-b9bd-171529dea4c3",
   "metadata": {},
   "outputs": [
    {
     "name": "stdout",
     "output_type": "stream",
     "text": [
      "+-------------------------------+----------+-----------+\n",
      "|total_sal_per_total_transaction|avg_salary|mean_salary|\n",
      "+-------------------------------+----------+-----------+\n",
      "|                       2148.333|  2148.333|   2148.333|\n",
      "+-------------------------------+----------+-----------+\n",
      "\n"
     ]
    }
   ],
   "source": [
    "from pyspark.sql.functions import sum, count, avg, mean, round\n",
    "\n",
    "emp_df.select(\n",
    "    round(sum('sal') / count('sal'), 3).alias('total_sal_per_total_transaction'),\n",
    "    round(avg('sal'), 3).alias('avg_salary'),\n",
    "    round(mean('sal'), 3).alias('mean_salary')\n",
    ").show()"
   ]
  },
  {
   "cell_type": "code",
   "execution_count": 108,
   "id": "bc89700e-9b51-4b3b-91b4-f92f093ab18e",
   "metadata": {},
   "outputs": [
    {
     "name": "stdout",
     "output_type": "stream",
     "text": [
      "+---------+-----+\n",
      "|      job|count|\n",
      "+---------+-----+\n",
      "|  ANALYST|    2|\n",
      "| SALESMAN|    4|\n",
      "|    CLERK|    5|\n",
      "|  MANAGER|    3|\n",
      "|PRESIDENT|    1|\n",
      "+---------+-----+\n",
      "\n"
     ]
    }
   ],
   "source": [
    "#그룹화\n",
    "emp_df.groupby('job').count().show()"
   ]
  },
  {
   "cell_type": "code",
   "execution_count": 113,
   "id": "36be6b29-3719-4d90-8cf3-3b853eee5354",
   "metadata": {},
   "outputs": [
    {
     "name": "stdout",
     "output_type": "stream",
     "text": [
      "+---------+---+----------+--------+\n",
      "|      job|qty|count(job)|sum(sal)|\n",
      "+---------+---+----------+--------+\n",
      "|  ANALYST|  2|         2|    6000|\n",
      "| SALESMAN|  4|         4|    5600|\n",
      "|    CLERK|  5|         5|    7350|\n",
      "|  MANAGER|  3|         3|    8275|\n",
      "|PRESIDENT|  1|         1|    5000|\n",
      "+---------+---+----------+--------+\n",
      "\n"
     ]
    }
   ],
   "source": [
    "#select job,\n",
    "#       count(job),\n",
    "#       sum(sal)\n",
    "#group by job\n",
    "emp_df.groupBy('job').agg(\n",
    "    count('job').alias('qty'),\n",
    "    expr('count(job)'),\n",
    "    sum('sal')\n",
    ").show()"
   ]
  },
  {
   "cell_type": "code",
   "execution_count": 115,
   "id": "901a0a0d-be59-40f0-a5c0-63eac0c62709",
   "metadata": {},
   "outputs": [
    {
     "name": "stdout",
     "output_type": "stream",
     "text": [
      "+---------+-------+---------+\n",
      "|      job|SAL_AVG|SAL_STDEV|\n",
      "+---------+-------+---------+\n",
      "|  ANALYST| 3000.0|      0.0|\n",
      "| SALESMAN| 1400.0|   177.95|\n",
      "|    CLERK| 1470.0|   984.63|\n",
      "|  MANAGER|2758.33|   274.24|\n",
      "|PRESIDENT| 5000.0|     NULL|\n",
      "+---------+-------+---------+\n",
      "\n"
     ]
    }
   ],
   "source": [
    "#sal의 평균 SAL_AVG, 표준편차 SAL_STDEV를 job별로 계산해서 출력,소수점2자리\n",
    "from pyspark.sql.functions import avg, stddev, round\n",
    "\n",
    "emp_df.groupBy('job').agg(\n",
    "    round(avg('sal'),2).alias('SAL_AVG'),\n",
    "    round(stddev('sal'),2).alias('SAL_STDEV')\n",
    ").show()\n"
   ]
  },
  {
   "cell_type": "markdown",
   "id": "2676131a-1baa-4c8e-bc4d-32d1a05d4aea",
   "metadata": {},
   "source": [
    "### 급여 Top 10 구하기"
   ]
  },
  {
   "cell_type": "code",
   "execution_count": 158,
   "id": "04e0349c-1913-4abb-b041-4452ba00d34e",
   "metadata": {},
   "outputs": [
    {
     "name": "stdout",
     "output_type": "stream",
     "text": [
      "+-----+------+---------+----+----------+----+----+------+\n",
      "|empno| ename|      job| mgr|  hiredate| sal|comm|deptno|\n",
      "+-----+------+---------+----+----------+----+----+------+\n",
      "| 7839|  KING|PRESIDENT|NULL|1981-11-17|5000|NULL|    10|\n",
      "| 9292|  JACK|    CLERK|7782|1982-01-23|3200|NULL|    70|\n",
      "| 7788| SCOTT|  ANALYST|7566|1987-04-19|3000|NULL|    20|\n",
      "| 7902|  FORD|  ANALYST|7566|1981-12-03|3000|NULL|    20|\n",
      "| 7566| JONES|  MANAGER|7839|1981-04-02|2975|NULL|    20|\n",
      "| 7698| BLAKE|  MANAGER|7839|1981-05-01|2850|NULL|    30|\n",
      "| 7782| CLARK|  MANAGER|7839|1981-06-09|2450|NULL|    10|\n",
      "| 7499| ALLEN| SALESMAN|7698|1981-02-20|1600| 300|    30|\n",
      "| 7844|TURNER| SALESMAN|7698|1981-09-08|1500|   0|    30|\n",
      "| 7934|MILLER|    CLERK|7782|1982-01-23|1300|NULL|    10|\n",
      "+-----+------+---------+----+----------+----+----+------+\n",
      "\n"
     ]
    }
   ],
   "source": [
    "emp_df.groupby('ename')\\\n",
    "    .agg(max('sal').alias('max_sal'))\\\n",
    "    .orderBy(col('max_sal').desc())\\\n",
    ".show(10)"
   ]
  },
  {
   "cell_type": "code",
   "execution_count": 159,
   "id": "5508a058-8867-4b9d-8993-dab7a7e21a52",
   "metadata": {},
   "outputs": [
    {
     "name": "stdout",
     "output_type": "stream",
     "text": [
      "+-----+------+---------+----+----------+----+----+------+\n",
      "|empno| ename|      job| mgr|  hiredate| sal|comm|deptno|\n",
      "+-----+------+---------+----+----------+----+----+------+\n",
      "| 7839|  KING|PRESIDENT|NULL|1981-11-17|5000|NULL|    10|\n",
      "| 9292|  JACK|    CLERK|7782|1982-01-23|3200|NULL|    70|\n",
      "| 7788| SCOTT|  ANALYST|7566|1987-04-19|3000|NULL|    20|\n",
      "| 7902|  FORD|  ANALYST|7566|1981-12-03|3000|NULL|    20|\n",
      "| 7566| JONES|  MANAGER|7839|1981-04-02|2975|NULL|    20|\n",
      "| 7698| BLAKE|  MANAGER|7839|1981-05-01|2850|NULL|    30|\n",
      "| 7782| CLARK|  MANAGER|7839|1981-06-09|2450|NULL|    10|\n",
      "| 7499| ALLEN| SALESMAN|7698|1981-02-20|1600| 300|    30|\n",
      "| 7844|TURNER| SALESMAN|7698|1981-09-08|1500|   0|    30|\n",
      "| 7934|MILLER|    CLERK|7782|1982-01-23|1300|NULL|    10|\n",
      "+-----+------+---------+----+----------+----+----+------+\n",
      "\n"
     ]
    }
   ],
   "source": [
    "emp_df.orderBy(emp_df.sal.desc()).limit(10).show()"
   ]
  },
  {
   "cell_type": "code",
   "execution_count": 124,
   "id": "c088fd6f-1738-405b-9abc-be7fe8f5a93c",
   "metadata": {},
   "outputs": [
    {
     "data": {
      "text/plain": [
       "Column<'RANK() OVER (ORDER BY sal DESC NULLS LAST unspecifiedframe$())'>"
      ]
     },
     "execution_count": 124,
     "metadata": {},
     "output_type": "execute_result"
    }
   ],
   "source": [
    "#윈도우 함수 \n",
    "from pyspark.sql.functions import desc, rank\n",
    "from pyspark.sql.window import Window\n",
    "\n",
    "windowspec=Window.orderBy(desc('sal'))\n",
    "salAllRank=rank().over(windowspec)\n",
    "salAllRank"
   ]
  },
  {
   "cell_type": "code",
   "execution_count": 125,
   "id": "5e2267c0-1b06-40cc-b890-f94162b9f4fd",
   "metadata": {},
   "outputs": [
    {
     "name": "stdout",
     "output_type": "stream",
     "text": [
      "+-----+------+---------+----+----------+----+----+------+\n",
      "|empno| ename|      job| mgr|  hiredate| sal|comm|deptno|\n",
      "+-----+------+---------+----+----------+----+----+------+\n",
      "| 7369| SMITH|    CLERK|7902|1980-12-17| 800|NULL|    20|\n",
      "| 7499| ALLEN| SALESMAN|7698|1981-02-20|1600| 300|    30|\n",
      "| 7521|  WARD| SALESMAN|7698|1981-02-22|1250| 500|    30|\n",
      "| 7566| JONES|  MANAGER|7839|1981-04-02|2975|NULL|    20|\n",
      "| 7654|MARTIN| SALESMAN|7698|1981-09-28|1250|1400|    30|\n",
      "| 7698| BLAKE|  MANAGER|7839|1981-05-01|2850|NULL|    30|\n",
      "| 7782| CLARK|  MANAGER|7839|1981-06-09|2450|NULL|    10|\n",
      "| 7788| SCOTT|  ANALYST|7566|1987-04-19|3000|NULL|    20|\n",
      "| 7839|  KING|PRESIDENT|NULL|1981-11-17|5000|NULL|    10|\n",
      "| 7844|TURNER| SALESMAN|7698|1981-09-08|1500|   0|    30|\n",
      "+-----+------+---------+----+----------+----+----+------+\n",
      "only showing top 10 rows\n",
      "\n"
     ]
    }
   ],
   "source": [
    "emp_df.show(10)"
   ]
  },
  {
   "cell_type": "code",
   "execution_count": 126,
   "id": "9a9ab019-7bb2-49fb-9e86-2c90c7b8bd12",
   "metadata": {},
   "outputs": [
    {
     "name": "stdout",
     "output_type": "stream",
     "text": [
      "+-----+------+---------+----+----------+----+----+------+-----------+\n",
      "|empno| ename|      job| mgr|  hiredate| sal|comm|deptno|salary rank|\n",
      "+-----+------+---------+----+----------+----+----+------+-----------+\n",
      "| 7839|  KING|PRESIDENT|NULL|1981-11-17|5000|NULL|    10|          1|\n",
      "| 9292|  JACK|    CLERK|7782|1982-01-23|3200|NULL|    70|          2|\n",
      "| 7788| SCOTT|  ANALYST|7566|1987-04-19|3000|NULL|    20|          3|\n",
      "| 7902|  FORD|  ANALYST|7566|1981-12-03|3000|NULL|    20|          3|\n",
      "| 7566| JONES|  MANAGER|7839|1981-04-02|2975|NULL|    20|          5|\n",
      "| 7698| BLAKE|  MANAGER|7839|1981-05-01|2850|NULL|    30|          6|\n",
      "| 7782| CLARK|  MANAGER|7839|1981-06-09|2450|NULL|    10|          7|\n",
      "| 7499| ALLEN| SALESMAN|7698|1981-02-20|1600| 300|    30|          8|\n",
      "| 7844|TURNER| SALESMAN|7698|1981-09-08|1500|   0|    30|          9|\n",
      "| 7934|MILLER|    CLERK|7782|1982-01-23|1300|NULL|    10|         10|\n",
      "+-----+------+---------+----+----------+----+----+------+-----------+\n",
      "only showing top 10 rows\n",
      "\n"
     ]
    }
   ],
   "source": [
    "emp_df.withColumn('salary rank', salAllRank).show(10)"
   ]
  },
  {
   "cell_type": "code",
   "execution_count": null,
   "id": "74a5f826-d32e-4563-ac39-8b7726726a63",
   "metadata": {},
   "outputs": [],
   "source": [
    "# 직무별로 rank작성\n",
    "#window.partitionBy()\n",
    "#job_rank_df 작성"
   ]
  },
  {
   "cell_type": "code",
   "execution_count": 139,
   "id": "ecd0461e-de48-436a-bb38-d1564342b8c8",
   "metadata": {},
   "outputs": [
    {
     "name": "stdout",
     "output_type": "stream",
     "text": [
      "+------+---------+----+------------------+\n",
      "| ename|      job| sal|salary_rank_by_job|\n",
      "+------+---------+----+------------------+\n",
      "| SCOTT|  ANALYST|3000|                 1|\n",
      "|  FORD|  ANALYST|3000|                 1|\n",
      "|  JACK|    CLERK|3200|                 1|\n",
      "|MILLER|    CLERK|1300|                 2|\n",
      "| ADAMS|    CLERK|1100|                 3|\n",
      "| JAMES|    CLERK| 950|                 4|\n",
      "| SMITH|    CLERK| 800|                 5|\n",
      "| JONES|  MANAGER|2975|                 1|\n",
      "| BLAKE|  MANAGER|2850|                 2|\n",
      "| CLARK|  MANAGER|2450|                 3|\n",
      "|  KING|PRESIDENT|5000|                 1|\n",
      "| ALLEN| SALESMAN|1600|                 1|\n",
      "|TURNER| SALESMAN|1500|                 2|\n",
      "|  WARD| SALESMAN|1250|                 3|\n",
      "|MARTIN| SALESMAN|1250|                 3|\n",
      "+------+---------+----+------------------+\n",
      "\n"
     ]
    }
   ],
   "source": [
    "emp_df.withColumn('salary_rank_by_job', \n",
    "                  rank().over(Window.partitionBy('job').orderBy(desc('sal')))) \\\n",
    "    .select('ename','job', 'sal', 'salary_rank_by_job') \\\n",
    "    .show()"
   ]
  },
  {
   "cell_type": "code",
   "execution_count": 129,
   "id": "0b0db856-d2f2-47e0-b9ad-234c8efc0fa2",
   "metadata": {},
   "outputs": [
    {
     "data": {
      "text/plain": [
       "[('empno', 'int'),\n",
       " ('ename', 'string'),\n",
       " ('job', 'string'),\n",
       " ('mgr', 'int'),\n",
       " ('hiredate', 'date'),\n",
       " ('sal', 'int'),\n",
       " ('comm', 'int'),\n",
       " ('deptno', 'int')]"
      ]
     },
     "execution_count": 129,
     "metadata": {},
     "output_type": "execute_result"
    }
   ],
   "source": [
    "emp_df.dtypes"
   ]
  },
  {
   "cell_type": "markdown",
   "id": "20f69b4d-c592-47c3-94d9-ced074ce3723",
   "metadata": {},
   "source": [
    "### 부서별 순위"
   ]
  },
  {
   "cell_type": "code",
   "execution_count": 162,
   "id": "7ef23bcf-68ee-4c50-9c6a-e797bfdc1135",
   "metadata": {},
   "outputs": [
    {
     "name": "stdout",
     "output_type": "stream",
     "text": [
      "+------+------+----+----------------+\n",
      "| ename|deptno| sal|dept_salary_rank|\n",
      "+------+------+----+----------------+\n",
      "|  KING|    10|5000|               1|\n",
      "| CLARK|    10|2450|               2|\n",
      "|MILLER|    10|1300|               3|\n",
      "| SCOTT|    20|3000|               1|\n",
      "|  FORD|    20|3000|               2|\n",
      "| JONES|    20|2975|               3|\n",
      "| ADAMS|    20|1100|               4|\n",
      "| SMITH|    20| 800|               5|\n",
      "| BLAKE|    30|2850|               1|\n",
      "| ALLEN|    30|1600|               2|\n",
      "|TURNER|    30|1500|               3|\n",
      "|  WARD|    30|1250|               4|\n",
      "|MARTIN|    30|1250|               5|\n",
      "| JAMES|    30| 950|               6|\n",
      "|  JACK|    70|3200|               1|\n",
      "+------+------+----+----------------+\n",
      "\n"
     ]
    }
   ],
   "source": [
    "from pyspark.sql.functions import rank, dense_rank, row_number, col, desc\n",
    "\n",
    "#부서별 급여순위\n",
    "dept_window_spec = Window.partitionBy('deptno').orderBy(desc('sal'))\n",
    "df_with_dept_rank = emp_df.withColumn('dept_salary_rank', \n",
    "                                  row_number().over(dept_window_spec))\n",
    "df_with_dept_rank.select('ename', 'deptno', 'sal', 'dept_salary_rank').show()"
   ]
  },
  {
   "cell_type": "code",
   "execution_count": 141,
   "id": "23cb99a2-3994-43e3-afe9-17d86046b82b",
   "metadata": {},
   "outputs": [],
   "source": [
    "#누적 급여 sum('sal').over()\n"
   ]
  },
  {
   "cell_type": "code",
   "execution_count": 163,
   "id": "b8dce67c-91b6-4e61-9f63-3f682e44ae5b",
   "metadata": {},
   "outputs": [
    {
     "name": "stdout",
     "output_type": "stream",
     "text": [
      "+------+------+----+-----------------+\n",
      "| ename|deptno| sal|cumulative_salary|\n",
      "+------+------+----+-----------------+\n",
      "| CLARK|    10|2450|             2450|\n",
      "|  KING|    10|5000|             7450|\n",
      "|MILLER|    10|1300|             8750|\n",
      "| SMITH|    20| 800|              800|\n",
      "| JONES|    20|2975|             3775|\n",
      "| SCOTT|    20|3000|             6775|\n",
      "| ADAMS|    20|1100|             7875|\n",
      "|  FORD|    20|3000|            10875|\n",
      "| ALLEN|    30|1600|             1600|\n",
      "|  WARD|    30|1250|             2850|\n",
      "|MARTIN|    30|1250|             4100|\n",
      "| BLAKE|    30|2850|             6950|\n",
      "|TURNER|    30|1500|             8450|\n",
      "| JAMES|    30| 950|             9400|\n",
      "|  JACK|    70|3200|             3200|\n",
      "+------+------+----+-----------------+\n",
      "\n"
     ]
    }
   ],
   "source": [
    "#부서별 누적급여1\n",
    "\n",
    "window_spec_sum = Window.partitionBy('deptno').orderBy('empno')\n",
    "df_cumulative = emp_df.withColumn('cumulative_salary', \n",
    "                                sum('sal').over(window_spec_sum))\n",
    "df_cumulative.select('ename', 'deptno', 'sal', 'cumulative_salary').show()"
   ]
  },
  {
   "cell_type": "code",
   "execution_count": 150,
   "id": "c06e4df6-230a-4b0f-9ef0-f2549c54c28a",
   "metadata": {},
   "outputs": [
    {
     "name": "stdout",
     "output_type": "stream",
     "text": [
      "+----------+------+----+---------------+\n",
      "|     dname| ename| sal|dept_cumsum_sal|\n",
      "+----------+------+----+---------------+\n",
      "|ACCOUNTING|MILLER|1300|           1300|\n",
      "|ACCOUNTING| CLARK|2450|           3750|\n",
      "|ACCOUNTING|  KING|5000|           8750|\n",
      "|  RESEARCH| SMITH| 800|            800|\n",
      "|  RESEARCH| ADAMS|1100|           1900|\n",
      "|  RESEARCH| JONES|2975|           4875|\n",
      "|  RESEARCH| SCOTT|3000|          10875|\n",
      "|  RESEARCH|  FORD|3000|          10875|\n",
      "|     SALES| JAMES| 950|            950|\n",
      "|     SALES|  WARD|1250|           3450|\n",
      "|     SALES|MARTIN|1250|           3450|\n",
      "|     SALES|TURNER|1500|           4950|\n",
      "|     SALES| ALLEN|1600|           6550|\n",
      "|     SALES| BLAKE|2850|           9400|\n",
      "+----------+------+----+---------------+\n",
      "\n"
     ]
    }
   ],
   "source": [
    "#부서별 누적급여2\n",
    "\n",
    "# 2. 조인\n",
    "emp_dept_df = emp_df.join(\n",
    "    dept_df,\n",
    "    emp_df.deptno == dept_df.deptno,\n",
    "    'inner'\n",
    ")\n",
    "\n",
    "# 3. 누적합\n",
    "windowspec = Window.partitionBy('dname').orderBy('sal')\n",
    "result_df = emp_dept_df.withColumn(\n",
    "    'dept_cumsum_sal',\n",
    "    sum('sal').over(windowspec)\n",
    ")\n",
    "\n",
    "# 4. 결과\n",
    "result_df.select('dname', 'ename', 'sal', 'dept_cumsum_sal') \\\n",
    "    .orderBy('dname', 'sal') \\\n",
    "    .show()"
   ]
  },
  {
   "cell_type": "code",
   "execution_count": 164,
   "id": "eb2c90ff-e307-4568-8365-d8209bc4fbde",
   "metadata": {},
   "outputs": [
    {
     "name": "stdout",
     "output_type": "stream",
     "text": [
      "+------+------+----+------------------+\n",
      "| ename|deptno| sal|   dept_avg_salary|\n",
      "+------+------+----+------------------+\n",
      "| CLARK|    10|2450|2916.6666666666665|\n",
      "|  KING|    10|5000|2916.6666666666665|\n",
      "|MILLER|    10|1300|2916.6666666666665|\n",
      "| SMITH|    20| 800|            2175.0|\n",
      "| JONES|    20|2975|            2175.0|\n",
      "| SCOTT|    20|3000|            2175.0|\n",
      "| ADAMS|    20|1100|            2175.0|\n",
      "|  FORD|    20|3000|            2175.0|\n",
      "| ALLEN|    30|1600|1566.6666666666667|\n",
      "|  WARD|    30|1250|1566.6666666666667|\n",
      "|MARTIN|    30|1250|1566.6666666666667|\n",
      "| BLAKE|    30|2850|1566.6666666666667|\n",
      "|TURNER|    30|1500|1566.6666666666667|\n",
      "| JAMES|    30| 950|1566.6666666666667|\n",
      "|  JACK|    70|3200|            3200.0|\n",
      "+------+------+----+------------------+\n",
      "\n"
     ]
    }
   ],
   "source": [
    "#부서별 평균급여와 직원 개별 급여 비교1\n",
    "\n",
    "window_spec_avg = Window.partitionBy('deptno')\n",
    "df_avg_compare = emp_df.withColumn('dept_avg_salary', \n",
    "                        avg('sal').over(window_spec_avg))\n",
    "df_avg_compare.select('ename', 'deptno', 'sal', 'dept_avg_salary').show()"
   ]
  },
  {
   "cell_type": "code",
   "execution_count": 152,
   "id": "799825fe-c279-429a-b37d-a82e5eb8dc94",
   "metadata": {},
   "outputs": [
    {
     "name": "stdout",
     "output_type": "stream",
     "text": [
      "+----------+------+----+------------------+-------------------+\n",
      "|     dname| ename| sal|      dept_avg_sal|     compare_to_avg|\n",
      "+----------+------+----+------------------+-------------------+\n",
      "|ACCOUNTING| CLARK|2450|2916.6666666666665| -466.6666666666665|\n",
      "|ACCOUNTING|  KING|5000|2916.6666666666665| 2083.3333333333335|\n",
      "|ACCOUNTING|MILLER|1300|2916.6666666666665|-1616.6666666666665|\n",
      "|  RESEARCH| ADAMS|1100|            2175.0|            -1075.0|\n",
      "|  RESEARCH|  FORD|3000|            2175.0|              825.0|\n",
      "|  RESEARCH| JONES|2975|            2175.0|              800.0|\n",
      "|  RESEARCH| SCOTT|3000|            2175.0|              825.0|\n",
      "|  RESEARCH| SMITH| 800|            2175.0|            -1375.0|\n",
      "|     SALES| ALLEN|1600|1566.6666666666667|  33.33333333333326|\n",
      "|     SALES| BLAKE|2850|1566.6666666666667| 1283.3333333333333|\n",
      "|     SALES| JAMES| 950|1566.6666666666667| -616.6666666666667|\n",
      "|     SALES|MARTIN|1250|1566.6666666666667|-316.66666666666674|\n",
      "|     SALES|TURNER|1500|1566.6666666666667| -66.66666666666674|\n",
      "|     SALES|  WARD|1250|1566.6666666666667|-316.66666666666674|\n",
      "+----------+------+----+------------------+-------------------+\n",
      "\n"
     ]
    }
   ],
   "source": [
    "#부서별 평균급여와 직원 개별 급여 비교2\n",
    "\n",
    "emp_dept_df=emp_df.join( dept_df,\n",
    "                        emp_df.deptno==dept_df.deptno,\n",
    "                        'inner'\n",
    "                       )\n",
    "\n",
    "#부서별 평균급여 구하기\n",
    "\n",
    "windowspec=Window.partitionBy('dname')\n",
    "emp_dept_with_avg=emp_dept_df.withColumn(\n",
    "    'dept_avg_sal',\n",
    "    avg('sal').over(windowspec)\n",
    ")\n",
    "\n",
    "#직원 급여와 부서 평균급여, 비교결과\n",
    "result_df=emp_dept_with_avg.withColumn(\n",
    "    'compare_to_avg',\n",
    "    col('sal')-col('dept_avg_sal')\n",
    ")\n",
    "\n",
    "# 5. 결과 출력\n",
    "result_df.select('dname', 'ename', 'sal', 'dept_avg_sal', 'compare_to_avg') \\\n",
    "    .orderBy('dname', 'ename') \\\n",
    "    .show()"
   ]
  },
  {
   "cell_type": "code",
   "execution_count": 165,
   "id": "da7b0307-3cf9-49b6-88a7-2ba86e5082f6",
   "metadata": {},
   "outputs": [
    {
     "name": "stdout",
     "output_type": "stream",
     "text": [
      "root\n",
      " |-- deptno: integer (nullable = true)\n",
      " |-- dname: string (nullable = true)\n",
      " |-- loc: string (nullable = true)\n",
      "\n"
     ]
    }
   ],
   "source": [
    "dept_df.printSchema()"
   ]
  },
  {
   "cell_type": "code",
   "execution_count": 167,
   "id": "326250cc-b234-4bee-b658-7f2ef76d3180",
   "metadata": {},
   "outputs": [
    {
     "name": "stdout",
     "output_type": "stream",
     "text": [
      "+-----+------+---------+----+----------+----+----+------+------+----------+--------+\n",
      "|empno| ename|      job| mgr|  hiredate| sal|comm|deptno|deptno|     dname|     loc|\n",
      "+-----+------+---------+----+----------+----+----+------+------+----------+--------+\n",
      "| 7369| SMITH|    CLERK|7902|1980-12-17| 800|NULL|    20|    20|  RESEARCH|  DALLAS|\n",
      "| 7499| ALLEN| SALESMAN|7698|1981-02-20|1600| 300|    30|    30|     SALES| CHICAGO|\n",
      "| 7521|  WARD| SALESMAN|7698|1981-02-22|1250| 500|    30|    30|     SALES| CHICAGO|\n",
      "| 7566| JONES|  MANAGER|7839|1981-04-02|2975|NULL|    20|    20|  RESEARCH|  DALLAS|\n",
      "| 7654|MARTIN| SALESMAN|7698|1981-09-28|1250|1400|    30|    30|     SALES| CHICAGO|\n",
      "| 7698| BLAKE|  MANAGER|7839|1981-05-01|2850|NULL|    30|    30|     SALES| CHICAGO|\n",
      "| 7782| CLARK|  MANAGER|7839|1981-06-09|2450|NULL|    10|    10|ACCOUNTING|NEW YORK|\n",
      "| 7788| SCOTT|  ANALYST|7566|1987-04-19|3000|NULL|    20|    20|  RESEARCH|  DALLAS|\n",
      "| 7839|  KING|PRESIDENT|NULL|1981-11-17|5000|NULL|    10|    10|ACCOUNTING|NEW YORK|\n",
      "| 7844|TURNER| SALESMAN|7698|1981-09-08|1500|   0|    30|    30|     SALES| CHICAGO|\n",
      "| 7876| ADAMS|    CLERK|7788|1987-05-23|1100|NULL|    20|    20|  RESEARCH|  DALLAS|\n",
      "| 7900| JAMES|    CLERK|7698|1981-12-03| 950|NULL|    30|    30|     SALES| CHICAGO|\n",
      "| 7902|  FORD|  ANALYST|7566|1981-12-03|3000|NULL|    20|    20|  RESEARCH|  DALLAS|\n",
      "| 7934|MILLER|    CLERK|7782|1982-01-23|1300|NULL|    10|    10|ACCOUNTING|NEW YORK|\n",
      "+-----+------+---------+----+----------+----+----+------+------+----------+--------+\n",
      "\n"
     ]
    }
   ],
   "source": [
    "emp_dept_df=emp_df.join(dept_df,emp_df['deptno']==dept_df['deptno'])\n",
    "emp_dept_df.show()"
   ]
  },
  {
   "cell_type": "code",
   "execution_count": 168,
   "id": "f782be66-feed-4d23-90b8-d6b6844ff3ee",
   "metadata": {},
   "outputs": [
    {
     "name": "stdout",
     "output_type": "stream",
     "text": [
      "+------+------+----------+\n",
      "| ename|deptno|     dname|\n",
      "+------+------+----------+\n",
      "| SMITH|    20|  RESEARCH|\n",
      "| ALLEN|    30|     SALES|\n",
      "|  WARD|    30|     SALES|\n",
      "| JONES|    20|  RESEARCH|\n",
      "|MARTIN|    30|     SALES|\n",
      "| BLAKE|    30|     SALES|\n",
      "| CLARK|    10|ACCOUNTING|\n",
      "| SCOTT|    20|  RESEARCH|\n",
      "|  KING|    10|ACCOUNTING|\n",
      "|TURNER|    30|     SALES|\n",
      "| ADAMS|    20|  RESEARCH|\n",
      "| JAMES|    30|     SALES|\n",
      "|  FORD|    20|  RESEARCH|\n",
      "|MILLER|    10|ACCOUNTING|\n",
      "+------+------+----------+\n",
      "\n"
     ]
    }
   ],
   "source": [
    "join_df=emp_df.join(dept_df, on='deptno', how='inner')\n",
    "join_df.select('ename','deptno','dname').show()"
   ]
  },
  {
   "cell_type": "code",
   "execution_count": 169,
   "id": "52337208-4dfc-4cb9-a7b7-5c804f0eb271",
   "metadata": {},
   "outputs": [],
   "source": [
    "spark.stop()"
   ]
  },
  {
   "cell_type": "code",
   "execution_count": null,
   "id": "680bb28e-2666-4c10-a2d4-84754b2af10b",
   "metadata": {},
   "outputs": [],
   "source": []
  },
  {
   "cell_type": "code",
   "execution_count": null,
   "id": "4d7c9b3a-c787-415d-bb6f-02fce75dcf50",
   "metadata": {},
   "outputs": [],
   "source": []
  },
  {
   "cell_type": "code",
   "execution_count": null,
   "id": "cd4e6712-adce-4f7c-8974-5cb1de09ac0b",
   "metadata": {},
   "outputs": [],
   "source": []
  },
  {
   "cell_type": "code",
   "execution_count": null,
   "id": "9b071834-b7b8-4a25-a3f1-e09732fe64bc",
   "metadata": {},
   "outputs": [],
   "source": []
  },
  {
   "cell_type": "code",
   "execution_count": null,
   "id": "eb2402a5-9ac4-4d9c-bb27-deec56657909",
   "metadata": {},
   "outputs": [],
   "source": []
  },
  {
   "cell_type": "code",
   "execution_count": null,
   "id": "11cf9e0d-efda-49dc-ac8a-651afcd7921b",
   "metadata": {},
   "outputs": [],
   "source": []
  },
  {
   "cell_type": "code",
   "execution_count": null,
   "id": "33d41dba-301e-485d-a736-450cbc83829a",
   "metadata": {},
   "outputs": [],
   "source": []
  },
  {
   "cell_type": "code",
   "execution_count": null,
   "id": "067f9659-27a1-430f-9b8e-d0661a84a86f",
   "metadata": {},
   "outputs": [],
   "source": []
  },
  {
   "cell_type": "code",
   "execution_count": null,
   "id": "b2e3c535-e891-4760-a192-da1283ce44d0",
   "metadata": {},
   "outputs": [],
   "source": []
  },
  {
   "cell_type": "code",
   "execution_count": null,
   "id": "4cf32d3e-745f-4415-bcad-79aee86118cf",
   "metadata": {},
   "outputs": [],
   "source": []
  },
  {
   "cell_type": "code",
   "execution_count": null,
   "id": "2ce4c885-80a3-452a-8905-78eabf358b92",
   "metadata": {},
   "outputs": [],
   "source": []
  },
  {
   "cell_type": "code",
   "execution_count": null,
   "id": "aa2cf415-0330-42f7-a28c-4155cb14e7d7",
   "metadata": {},
   "outputs": [],
   "source": []
  },
  {
   "cell_type": "code",
   "execution_count": null,
   "id": "e0a1fefa-52da-418e-b65d-eca39b22cf4b",
   "metadata": {},
   "outputs": [],
   "source": []
  },
  {
   "cell_type": "code",
   "execution_count": null,
   "id": "77c49780-3b50-42fa-aebb-8ff0674a4d1e",
   "metadata": {},
   "outputs": [],
   "source": []
  },
  {
   "cell_type": "code",
   "execution_count": null,
   "id": "454618d4-9866-407f-be38-ccc53c4d8918",
   "metadata": {},
   "outputs": [],
   "source": []
  }
 ],
 "metadata": {
  "kernelspec": {
   "display_name": "Python 3 (ipykernel)",
   "language": "python",
   "name": "python3"
  },
  "language_info": {
   "codemirror_mode": {
    "name": "ipython",
    "version": 3
   },
   "file_extension": ".py",
   "mimetype": "text/x-python",
   "name": "python",
   "nbconvert_exporter": "python",
   "pygments_lexer": "ipython3",
   "version": "3.11.6"
  }
 },
 "nbformat": 4,
 "nbformat_minor": 5
}
