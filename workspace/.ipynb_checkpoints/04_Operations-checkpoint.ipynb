{
 "cells": [
  {
   "cell_type": "markdown",
   "id": "575d695e-d6c8-4caa-82ca-49b403ccf464",
   "metadata": {},
   "source": [
    "# Reduce\n",
    "RDD.reduce(<func>)\n",
    "사용자가 지정하는 함수를 받아 여러 개의 값을 하나로 줄여줍니다."
   ]
  },
  {
   "cell_type": "code",
   "execution_count": 9,
   "id": "3a3ccd74-2d00-4708-b8b4-f44b3d575f9f",
   "metadata": {},
   "outputs": [],
   "source": [
    "from pyspark import SparkConf, SparkContext\n",
    "from pyspark.sql import SparkSession\n",
    "# 현재 실행 중인 SparkSession 가져오기\n",
    "spark = SparkSession.builder.getOrCreate()\n",
    "sc = spark.sparkContext"
   ]
  },
  {
   "cell_type": "code",
   "execution_count": 4,
   "id": "eba51a75-8d0e-4162-bdbd-13b4a96801bc",
   "metadata": {},
   "outputs": [
    {
     "data": {
      "text/plain": [
       "ParallelCollectionRDD[0] at readRDDFromFile at PythonRDD.scala:289"
      ]
     },
     "execution_count": 4,
     "metadata": {},
     "output_type": "execute_result"
    }
   ],
   "source": [
    "sample_rdd = sc.parallelize([1, 2, 3, 4, 5])\n",
    "sample_rdd"
   ]
  },
  {
   "cell_type": "code",
   "execution_count": 5,
   "id": "9d82aed9-bdfd-420f-87bc-512ac32964c2",
   "metadata": {},
   "outputs": [
    {
     "data": {
      "text/plain": [
       "15"
      ]
     },
     "execution_count": 5,
     "metadata": {},
     "output_type": "execute_result"
    }
   ],
   "source": [
    "#RDD에 있는 숫자의 합계를 계산:\n",
    "sample_rdd.reduce(add)"
   ]
  },
  {
   "cell_type": "code",
   "execution_count": 6,
   "id": "366dc8f4-fc9e-48b3-923e-0c5d2e68b982",
   "metadata": {},
   "outputs": [
    {
     "data": {
      "text/plain": [
       "18"
      ]
     },
     "execution_count": 6,
     "metadata": {},
     "output_type": "execute_result"
    }
   ],
   "source": [
    "sample_rdd = sc.parallelize([1, 2, 3, 4])\n",
    "sample_rdd.reduce(lambda x, y : (x * 2)+ y)"
   ]
  },
  {
   "cell_type": "code",
   "execution_count": 10,
   "id": "969b2502-dccc-4705-b153-920381ff741a",
   "metadata": {},
   "outputs": [
    {
     "data": {
      "text/plain": [
       "26"
      ]
     },
     "execution_count": 10,
     "metadata": {},
     "output_type": "execute_result"
    }
   ],
   "source": [
    "sc.parallelize([1, 2, 3, 4], 1).reduce(lambda x, y : (x * 2) + y) \n",
    "#x는 누적됨."
   ]
  },
  {
   "cell_type": "code",
   "execution_count": 7,
   "id": "6ce00b50-f118-43b8-84d6-b5ce1025cdc3",
   "metadata": {},
   "outputs": [
    {
     "data": {
      "text/plain": [
       "18"
      ]
     },
     "execution_count": 7,
     "metadata": {},
     "output_type": "execute_result"
    }
   ],
   "source": [
    "sc.parallelize([1, 2, 3, 4], 2).reduce(lambda x, y : (x * 2) + y)"
   ]
  },
  {
   "cell_type": "markdown",
   "id": "d8a7aa7b-468b-42cf-9fd8-6e39cd5a1818",
   "metadata": {},
   "source": [
    "## 파티션을 3개로 지정"
   ]
  },
  {
   "cell_type": "code",
   "execution_count": 8,
   "id": "5f437ef1-4fcf-4098-87dc-387abb4abcfa",
   "metadata": {},
   "outputs": [
    {
     "data": {
      "text/plain": [
       "18"
      ]
     },
     "execution_count": 8,
     "metadata": {},
     "output_type": "execute_result"
    }
   ],
   "source": [
    "sc.parallelize([1,2,3,4],3).reduce(lambda x,y:(x*2)+y)"
   ]
  },
  {
   "cell_type": "markdown",
   "id": "258f1ab3-f402-4b71-a2f2-a4a9c119d007",
   "metadata": {},
   "source": [
    "# Fold\r\n",
    "RDD.fold(zeroValue, <func>)\r\n",
    "reduce와 비슷하지만, zeroValue에 넣어놓고 싶은 시작값을 지정해서 reduce가 가능\r\n",
    "zeroValue는 파티션 마다 계산이 일어날 때 하나씩 더해지는 값\r\n",
    "fold()를 사용하여 합계를 구하되, 초기값을 지정"
   ]
  },
  {
   "cell_type": "code",
   "execution_count": 11,
   "id": "d4619dce-e05c-47d2-928b-356f3b0f85ee",
   "metadata": {},
   "outputs": [
    {
     "name": "stdout",
     "output_type": "stream",
     "text": [
      "24\n",
      "24\n"
     ]
    }
   ],
   "source": [
    "rdd = sc.parallelize([2, 3, 4], 4) #파티션 개수가 4\n",
    "#데이터는3개 파티션은 4개이므로 처음에 1이 삽입.\n",
    "#숫자의 곱을 계산해서 합한다\n",
    "print(rdd.reduce(lambda x, y : (x * y))) \n",
    "print(rdd.fold(1, lambda x , y : (x * y))) "
   ]
  },
  {
   "cell_type": "code",
   "execution_count": 12,
   "id": "ee6671bc-da5c-4e85-a546-773c66876459",
   "metadata": {},
   "outputs": [
    {
     "data": {
      "text/plain": [
       "768"
      ]
     },
     "execution_count": 12,
     "metadata": {},
     "output_type": "execute_result"
    }
   ],
   "source": [
    "rdd.fold(2, lambda x , y : (x * y)) \n",
    "# 초기값 2 지정 :: 2x2 , 2x3, 2x4, \"\" > 4 , 6, 8, \"\" \n",
    "# 다시 초기값 2 지정 :: 4x2*6, 48x2*8, \"\" > 768"
   ]
  },
  {
   "cell_type": "code",
   "execution_count": 13,
   "id": "b4943eb6-0a42-40fc-89be-9dec986d3d18",
   "metadata": {},
   "outputs": [
    {
     "name": "stdout",
     "output_type": "stream",
     "text": [
      "9\n",
      "14\n"
     ]
    }
   ],
   "source": [
    "print(rdd.reduce(lambda x, y : x + y)) \n",
    "print(rdd.fold(1, lambda x, y : x + y))"
   ]
  },
  {
   "cell_type": "code",
   "execution_count": 14,
   "id": "6646cae9-ed74-44e7-b986-aec656b7bfc1",
   "metadata": {},
   "outputs": [
    {
     "name": "stdout",
     "output_type": "stream",
     "text": [
      "Total sum: 500000500000\n"
     ]
    }
   ],
   "source": [
    "# 대규모 숫자 데이터셋 생성\n",
    "numbers_rdd = sc.parallelize(range(1, 1000001))\n",
    "\n",
    "# fold를 사용하여 총합계 계산\n",
    "total_sum = numbers_rdd.fold(0, lambda x, y: x + y)\n",
    "\n",
    "print(f\"Total sum: {total_sum}\")"
   ]
  },
  {
   "cell_type": "code",
   "execution_count": 15,
   "id": "3c357051-02e3-4637-9647-aad2ead04587",
   "metadata": {},
   "outputs": [
    {
     "name": "stdout",
     "output_type": "stream",
     "text": [
      "Maximum salary: 80000\n"
     ]
    }
   ],
   "source": [
    "# 직원 급여 데이터\n",
    "salaries_rdd = sc.parallelize([50000, 60000, 55000, 75000, 65000, 80000])\n",
    "\n",
    "# fold를 사용하여 최대 급여 찾기\n",
    "max_salary = salaries_rdd.fold(0, lambda x, y: max(x, y))\n",
    "\n",
    "print(f\"Maximum salary: {max_salary}\")"
   ]
  },
  {
   "cell_type": "code",
   "execution_count": 16,
   "id": "cded8a10-c6e3-4876-b078-67e04ef46aa2",
   "metadata": {},
   "outputs": [
    {
     "name": "stdout",
     "output_type": "stream",
     "text": [
      "Maximum salary by department:\n",
      "IT: 65000\n",
      "HR: 50000\n",
      "Finance: 55000\n"
     ]
    }
   ],
   "source": [
    "# 부서별 직원 급여 데이터\n",
    "dept_salaries = [(\"IT\", 50000), (\"HR\", 45000), (\"IT\", 60000), \n",
    "                 (\"Finance\", 55000), (\"HR\", 50000), (\"IT\", 65000)]\n",
    "dept_rdd = sc.parallelize(dept_salaries)\n",
    "\n",
    "# foldByKey를 사용하여 부서별 최대 급여 찾기\n",
    "max_salary_by_dept = dept_rdd.foldByKey(0, lambda x, y: max(x, y))\n",
    "\n",
    "print(\"Maximum salary by department:\")\n",
    "for dept, max_salary in max_salary_by_dept.collect():\n",
    "    print(f\"{dept}: {max_salary}\")"
   ]
  },
  {
   "cell_type": "markdown",
   "id": "43192f12-61e5-48c0-883f-61f1c294c762",
   "metadata": {},
   "source": [
    "## GroupBy"
   ]
  },
  {
   "cell_type": "markdown",
   "id": "b4b9fcff-2edd-44a8-8a79-192d39d2955c",
   "metadata": {},
   "source": [
    "RDD.groupBy(<func>)  \r\n",
    "그룹핑 함수를 받아 reductio        n\r\n",
    "groupBy() 메서드는 주어진 함수를 기준으로 RDD의 요소들을 그룹화합니다."
   ]
  },
  {
   "cell_type": "code",
   "execution_count": 17,
   "id": "3e832869-91a2-4fbd-b307-776d9807f872",
   "metadata": {},
   "outputs": [
    {
     "data": {
      "text/plain": [
       "[(0, [2, 8]), (1, [1, 1, 3, 5])]"
      ]
     },
     "execution_count": 17,
     "metadata": {},
     "output_type": "execute_result"
    }
   ],
   "source": [
    "rdd = sc.parallelize([1, 1, 2, 3, 5, 8])\n",
    "result = rdd.groupBy(lambda x : x % 2).collect()\n",
    "\n",
    "sorted([(x, sorted(y)) for (x, y) in result])"
   ]
  },
  {
   "cell_type": "code",
   "execution_count": 18,
   "id": "c4358cc2-8762-4372-b6a4-f4fc19624181",
   "metadata": {},
   "outputs": [
    {
     "data": {
      "text/plain": [
       "[(0, [2, 8]), (1, [1, 1, 3, 5])]"
      ]
     },
     "execution_count": 18,
     "metadata": {},
     "output_type": "execute_result"
    }
   ],
   "source": [
    "[(x, sorted(y)) for (x, y) in result]"
   ]
  },
  {
   "cell_type": "code",
   "execution_count": 19,
   "id": "505190b0-7228-41c9-bc68-3861ce90a6cf",
   "metadata": {},
   "outputs": [],
   "source": [
    "#판매 데이터 분석 (카테고리별 총 매출 계산)\n",
    "sales_data = [\n",
    "    (\"Electronics\", 1000),\n",
    "    (\"Clothing\", 500),\n",
    "    (\"Electronics\", 1500),\n",
    "    (\"Books\", 300),\n",
    "    (\"Clothing\", 750),\n",
    "    (\"Books\", 200)\n",
    "]"
   ]
  },
  {
   "cell_type": "code",
   "execution_count": 22,
   "id": "ff0c4e5b-49c0-409f-bd13-abd74551857e",
   "metadata": {},
   "outputs": [
    {
     "name": "stdout",
     "output_type": "stream",
     "text": [
      "Clothing: $1250\n",
      "Electronics: $2500\n",
      "Books: $500\n"
     ]
    }
   ],
   "source": [
    "sales_rdd=sc.parallelize(sales_data) #sales_data RDD로 변환\n",
    "\n",
    "#카테고리별 총 매출 계산\n",
    "category_sales=sales_rdd.groupBy(lambda x:x[0]) \\     #카테고리별로 데이터 그룹화\n",
    "    .mapValues(lambda values: sum(item[1] for item in values)) \\\n",
    "    .collect()\n",
    "\n",
    "'''  예:\n",
    "- \"Electronics\": [(‘Electronics’, 1000), (‘Electronics’, 1500)]\n",
    "- \"Clothing\": [(‘Clothing’, 500), (‘Clothing’, 750)]\n",
    "- \"Books\": [(‘Books’, 300), (‘Books’, 200)]'''\n",
    "\n",
    "\n",
    "#결과\n",
    "for category, total_sales in category_sales:\n",
    "    print(f'{category}: ${total_sales}')"
   ]
  },
  {
   "cell_type": "markdown",
   "id": "bbdc9eb2-b5c7-403d-89e1-956f92edd137",
   "metadata": {},
   "source": [
    "## 로그 데이터 처리 (IP 주소별 접속 횟수 분석)"
   ]
  },
  {
   "cell_type": "code",
   "execution_count": 23,
   "id": "54f4fb15-75dc-4db1-a9dd-9a98efcf7309",
   "metadata": {},
   "outputs": [],
   "source": [
    "\n",
    "# SparkContext 생성 가정 (sc)\n",
    "log_data = [\n",
    "    (\"192.168.1.1\", \"login\"),\n",
    "    (\"192.168.1.2\", \"purchase\"),\n",
    "    (\"192.168.1.1\", \"view\"),\n",
    "    (\"192.168.1.3\", \"login\"),\n",
    "    (\"192.168.1.2\", \"login\"),\n",
    "    (\"192.168.1.1\", \"purchase\")\n",
    "]\n",
    "\n",
    "# RDD 생성\n",
    "log_rdd = sc.parallelize(log_data)"
   ]
  },
  {
   "cell_type": "code",
   "execution_count": 24,
   "id": "6c9f7d0a-462a-431a-8d43-312c96c29039",
   "metadata": {},
   "outputs": [],
   "source": [
    "ip_counts=log_rdd.map(lambda x:(x[0],1)) \\ #value값 다 1로변환\n",
    "                .reduceByKey(lambda x,y:x+y) \\ #같은 value끼리 더함\n",
    "                .collect()"
   ]
  },
  {
   "cell_type": "code",
   "execution_count": 27,
   "id": "11005af3-a14f-488f-a0eb-801558a04a40",
   "metadata": {},
   "outputs": [
    {
     "name": "stdout",
     "output_type": "stream",
     "text": [
      "192.168.1.1 접속 횟수: 3\n",
      "192.168.1.2 접속 횟수: 2\n",
      "192.168.1.3 접속 횟수: 1\n"
     ]
    }
   ],
   "source": [
    "for ip, count in ip_counts:\n",
    "    print(f'{ip} 접속 횟수: {count}')"
   ]
  },
  {
   "cell_type": "markdown",
   "id": "3bddc092-245b-4006-8b64-20d6daf1c7fa",
   "metadata": {},
   "source": [
    "## 학생 성적 데이터 분석 (과목별 평균 성적 계산)"
   ]
  },
  {
   "cell_type": "code",
   "execution_count": 29,
   "id": "3880ebd3-1dcf-446e-93ca-a66b13a24eb4",
   "metadata": {},
   "outputs": [],
   "source": [
    "# SparkContext 생성 가정 (sc)\n",
    "student_grades = [\n",
    "    (\"Math\", 85),\n",
    "    (\"English\", 90),\n",
    "    (\"Math\", 92),\n",
    "    (\"Science\", 88),\n",
    "    (\"English\", 95),\n",
    "    (\"Science\", 82)\n",
    "]\n",
    "\n",
    "# RDD 생성\n",
    "grades_rdd = sc.parallelize(student_grades)"
   ]
  },
  {
   "cell_type": "code",
   "execution_count": 39,
   "id": "a8111e26-fac8-4247-9292-cfe6bf74b1c8",
   "metadata": {},
   "outputs": [],
   "source": [
    "score_count=grades_rdd.map(lambda x:(x[0],(x[1],1))) \n",
    "\n",
    "sum_count=score_count.reduceByKey(lambda x,y: (x[0]+y[0], x[1]+y[1]))\n",
    "\n",
    "subject_avg=sum_count.mapValues(lambda x:x[0]/x[1])\n"
   ]
  },
  {
   "cell_type": "code",
   "execution_count": 40,
   "id": "8adc0716-b242-42a2-9ef9-08d8e57a9b82",
   "metadata": {},
   "outputs": [
    {
     "name": "stdout",
     "output_type": "stream",
     "text": [
      "Science의 평균성적: 85.0\n",
      "Math의 평균성적: 88.5\n",
      "English의 평균성적: 92.5\n"
     ]
    }
   ],
   "source": [
    "for subject, avg in subject_avg.collect():\n",
    "    print(f\"{subject}의 평균성적: {avg}\")"
   ]
  },
  {
   "cell_type": "code",
   "execution_count": null,
   "id": "ce2c6d53-503f-4bef-aa96-c55493107119",
   "metadata": {},
   "outputs": [],
   "source": []
  },
  {
   "cell_type": "markdown",
   "id": "6bd353c9-ad12-4634-8633-6e806693e509",
   "metadata": {},
   "source": [
    "## 5.aggregate 함수 사용 "
   ]
  },
  {
   "cell_type": "code",
   "execution_count": 41,
   "id": "66f97dc6-b2d0-4c1e-ba69-d5a6f29dc955",
   "metadata": {},
   "outputs": [
    {
     "data": {
      "text/plain": [
       "[1, 5, 3, 9, 2, 8, 4, 7, 6]"
      ]
     },
     "execution_count": 41,
     "metadata": {},
     "output_type": "execute_result"
    }
   ],
   "source": [
    "from pyspark import SparkContext\n",
    "\n",
    "sc = SparkContext.getOrCreate()\n",
    "numbers = sc.parallelize([1, 5, 3, 9, 2, 8, 4, 7, 6], numSlices=3)\n",
    "numbers.collect()"
   ]
  },
  {
   "cell_type": "markdown",
   "id": "484c9932-59be-4fc1-8420-42f6c2033475",
   "metadata": {},
   "source": [
    "### glom()은 각 파티션의 내용을 리스트로 감싸서 반환\n",
    "### 즉, 파티션 간의 이동이 없고, 내부 자료구조만 바꾸는 연산\n",
    "### glom()은 RDD의 각 파티션을 배열 형태로 변환하는 narrow transformation"
   ]
  },
  {
   "cell_type": "code",
   "execution_count": 42,
   "id": "b97a1db4-d6b3-48f1-9c6b-2b109960655c",
   "metadata": {},
   "outputs": [
    {
     "data": {
      "text/plain": [
       "[[1, 5, 3], [9, 2, 8], [4, 7, 6]]"
      ]
     },
     "execution_count": 42,
     "metadata": {},
     "output_type": "execute_result"
    }
   ],
   "source": [
    "numbers.glom().collect()"
   ]
  },
  {
   "cell_type": "code",
   "execution_count": 43,
   "id": "3f723ace-c9d2-4fe4-a18a-5ea7ef3fa7c5",
   "metadata": {},
   "outputs": [],
   "source": [
    "numbers = sc.parallelize([1, 5, 3, 9, 2, 8, 4, 7, 6])"
   ]
  },
  {
   "cell_type": "code",
   "execution_count": 44,
   "id": "ef69be59-ad6a-40cf-b970-f06e597a6424",
   "metadata": {},
   "outputs": [
    {
     "data": {
      "text/plain": [
       "(45, 9)"
      ]
     },
     "execution_count": 44,
     "metadata": {},
     "output_type": "execute_result"
    }
   ],
   "source": [
    "# 평균 계산하기\n",
    "sum_count = numbers.aggregate(\n",
    "    (0, 0),  # 초기값 (합계, 개수)\n",
    "    lambda acc, value: (acc[0] + value, acc[1] + 1),  # 각 파티션 내 연산\n",
    "    lambda acc1, acc2: (acc1[0] + acc2[0], acc1[1] + acc2[1])  # 파티션 간 연산\n",
    ")\n",
    "sum_count"
   ]
  },
  {
   "cell_type": "code",
   "execution_count": 45,
   "id": "4f7bd324-93c7-42ff-af87-53411c85c6a1",
   "metadata": {},
   "outputs": [
    {
     "name": "stdout",
     "output_type": "stream",
     "text": [
      "Average: 5.0\n"
     ]
    }
   ],
   "source": [
    "average = sum_count[0] / sum_count[1]\n",
    "print(\"Average:\", average)  # 5.0"
   ]
  },
  {
   "cell_type": "code",
   "execution_count": 46,
   "id": "c8557075-ae86-4982-a938-1882d4c5034e",
   "metadata": {},
   "outputs": [],
   "source": [
    "# agg 연습\n",
    "data = [\"hello\", \"world\", \"spark\"]\n",
    "rdd = sc.parallelize(data)\n",
    "\n",
    "def seq_op(acc, value):\n",
    "    text, idx = acc #누적값\n",
    "    return (f\"{text} {idx}:{value}\".strip(), idx + 1)\n",
    "\n",
    "def comb_op(acc1, acc2):\n",
    "    # 줄 번호 이어붙이기: 앞쪽 text 유지 + 뒤쪽 text 뒤에 붙이기\n",
    "    text1, idx1 = acc1\n",
    "    text2, idx2 = acc2\n",
    "    # 줄 번호 충돌 피하려면 idx 조정 필요 (복잡하므로 단순히 붙임)\n",
    "    return (f\"{text1} {text2}\".strip(), idx1 + idx2)"
   ]
  },
  {
   "cell_type": "code",
   "execution_count": 47,
   "id": "f0ce0014-dd00-4809-9230-eabb75bb3ce6",
   "metadata": {},
   "outputs": [
    {
     "name": "stdout",
     "output_type": "stream",
     "text": [
      "1:hello 1:world 2:spark\n"
     ]
    }
   ],
   "source": [
    "zero = (\"\", 1)\n",
    "\n",
    "result = rdd.aggregate(zero, seq_op, comb_op)[0]\n",
    "print(result)"
   ]
  },
  {
   "cell_type": "code",
   "execution_count": 48,
   "id": "bd25eb32-7c12-4895-b524-c817ff98896f",
   "metadata": {},
   "outputs": [
    {
     "name": "stdout",
     "output_type": "stream",
     "text": [
      "1:spark 2:hadoop 1:ai 2:python 3:sql\n"
     ]
    }
   ],
   "source": [
    "rdd = sc.parallelize([\"spark\", \"hadoop\", \"ai\", \"python\", \"sql\"])\n",
    "result = rdd.aggregate(zero, seq_op, comb_op)[0]\n",
    "print(result)"
   ]
  },
  {
   "cell_type": "code",
   "execution_count": 49,
   "id": "e3246a32-0f6d-40a3-9a79-9839798a2fc4",
   "metadata": {},
   "outputs": [
    {
     "name": "stdout",
     "output_type": "stream",
     "text": [
      "길이 5 이상인 문자열 개수: 3\n"
     ]
    }
   ],
   "source": [
    "# 길이가 5 이상인 문자열 개수 세기\n",
    "rdd = sc.parallelize([\"spark\", \"hadoop\", \"ai\", \"python\", \"sql\"])\n",
    "\n",
    "result = rdd.aggregate(\n",
    "    0,\n",
    "    lambda acc, value: acc + (1 if len(value) >= 5 else 0),\n",
    "    lambda acc1, acc2: acc1 + acc2\n",
    ")\n",
    "\n",
    "print(\"길이 5 이상인 문자열 개수:\", result)"
   ]
  }
 ],
 "metadata": {
  "kernelspec": {
   "display_name": "Python 3 (ipykernel)",
   "language": "python",
   "name": "python3"
  },
  "language_info": {
   "codemirror_mode": {
    "name": "ipython",
    "version": 3
   },
   "file_extension": ".py",
   "mimetype": "text/x-python",
   "name": "python",
   "nbconvert_exporter": "python",
   "pygments_lexer": "ipython3",
   "version": "3.11.6"
  }
 },
 "nbformat": 4,
 "nbformat_minor": 5
}
