{
 "cells": [
  {
   "cell_type": "code",
   "execution_count": 1,
   "id": "d5e17cae-4aa4-47f0-88b1-541d5d370e50",
   "metadata": {},
   "outputs": [],
   "source": [
    "from pyspark.sql import SparkSession"
   ]
  },
  {
   "cell_type": "code",
   "execution_count": 2,
   "id": "aea81a53-4cce-427f-aa59-611a136cd4ef",
   "metadata": {},
   "outputs": [],
   "source": [
    "from pyspark.sql import SparkSession\n",
    "\n",
    "spark = SparkSession.builder \\\n",
    "    .appName(\"restaurant-review-average\") \\\n",
    "    .master(\"local[*]\") \\\n",
    "    .getOrCreate()"
   ]
  },
  {
   "cell_type": "code",
   "execution_count": 3,
   "id": "a4e71cc3-27c6-48f2-9113-906b16536028",
   "metadata": {},
   "outputs": [],
   "source": [
    "sc = spark.sparkContext  # 필요 시 RDD API를 위해 사용"
   ]
  },
  {
   "cell_type": "code",
   "execution_count": 4,
   "id": "4a790d49-b10b-4358-a9c5-28ac604f7373",
   "metadata": {},
   "outputs": [
    {
     "data": {
      "text/plain": [
       "2"
      ]
     },
     "execution_count": 4,
     "metadata": {},
     "output_type": "execute_result"
    }
   ],
   "source": [
    "sc.defaultParallelism"
   ]
  },
  {
   "cell_type": "code",
   "execution_count": 16,
   "id": "2f3aaa3a-9f45-4946-bec0-36410e678cfe",
   "metadata": {},
   "outputs": [],
   "source": [
    "sc.setLogLevel('INFO')"
   ]
  },
  {
   "cell_type": "code",
   "execution_count": 17,
   "id": "72940eea-6765-46e1-8791-80216ed07b1c",
   "metadata": {},
   "outputs": [
    {
     "data": {
      "text/plain": [
       "[('spark.app.name', 'restaurant-review-average'),\n",
       " ('spark.executor.id', 'driver'),\n",
       " ('spark.app.submitTime', '1754273761948'),\n",
       " ('spark.driver.extraJavaOptions',\n",
       "  '-Djava.net.preferIPv6Addresses=false -XX:+IgnoreUnrecognizedVMOptions --add-opens=java.base/java.lang=ALL-UNNAMED --add-opens=java.base/java.lang.invoke=ALL-UNNAMED --add-opens=java.base/java.lang.reflect=ALL-UNNAMED --add-opens=java.base/java.io=ALL-UNNAMED --add-opens=java.base/java.net=ALL-UNNAMED --add-opens=java.base/java.nio=ALL-UNNAMED --add-opens=java.base/java.util=ALL-UNNAMED --add-opens=java.base/java.util.concurrent=ALL-UNNAMED --add-opens=java.base/java.util.concurrent.atomic=ALL-UNNAMED --add-opens=java.base/sun.nio.ch=ALL-UNNAMED --add-opens=java.base/sun.nio.cs=ALL-UNNAMED --add-opens=java.base/sun.security.action=ALL-UNNAMED --add-opens=java.base/sun.util.calendar=ALL-UNNAMED --add-opens=java.security.jgss/sun.security.krb5=ALL-UNNAMED -Djdk.reflect.useDirectMethodHandle=false'),\n",
       " ('spark.driver.host', 'da63fdb0ab59'),\n",
       " ('spark.app.id', 'local-1754273762598'),\n",
       " ('spark.driver.port', '39669'),\n",
       " ('spark.rdd.compress', 'True'),\n",
       " ('spark.serializer.objectStreamReset', '100'),\n",
       " ('spark.master', 'local[*]'),\n",
       " ('spark.submit.pyFiles', ''),\n",
       " ('spark.submit.deployMode', 'client'),\n",
       " ('spark.ui.showConsoleProgress', 'true'),\n",
       " ('spark.app.startTime', '1754273762066'),\n",
       " ('spark.executor.extraJavaOptions',\n",
       "  '-Djava.net.preferIPv6Addresses=false -XX:+IgnoreUnrecognizedVMOptions --add-opens=java.base/java.lang=ALL-UNNAMED --add-opens=java.base/java.lang.invoke=ALL-UNNAMED --add-opens=java.base/java.lang.reflect=ALL-UNNAMED --add-opens=java.base/java.io=ALL-UNNAMED --add-opens=java.base/java.net=ALL-UNNAMED --add-opens=java.base/java.nio=ALL-UNNAMED --add-opens=java.base/java.util=ALL-UNNAMED --add-opens=java.base/java.util.concurrent=ALL-UNNAMED --add-opens=java.base/java.util.concurrent.atomic=ALL-UNNAMED --add-opens=java.base/sun.nio.ch=ALL-UNNAMED --add-opens=java.base/sun.nio.cs=ALL-UNNAMED --add-opens=java.base/sun.security.action=ALL-UNNAMED --add-opens=java.base/sun.util.calendar=ALL-UNNAMED --add-opens=java.security.jgss/sun.security.krb5=ALL-UNNAMED -Djdk.reflect.useDirectMethodHandle=false')]"
      ]
     },
     "execution_count": 17,
     "metadata": {},
     "output_type": "execute_result"
    }
   ],
   "source": [
    "sc.getConf().getAll()"
   ]
  },
  {
   "cell_type": "code",
   "execution_count": 8,
   "id": "715bb25d-0e70-4275-82db-79202cd0c509",
   "metadata": {},
   "outputs": [],
   "source": [
    "data = [\n",
    "    (0, \"짜장면\", \"중식\", 125),\n",
    "    (1, \"짬뽕\", \"중식\", 235),\n",
    "    (2, \"김밥\", \"분식\", 32),\n",
    "    (3, \"떡볶이\", \"분식\", 534),\n",
    "    (4, \"라멘\", \"일식\", 223),\n",
    "    (5, \"돈가스\", \"일식\", 52),\n",
    "    (6, \"우동\", \"일식\", 12),\n",
    "    (7, \"쌀국수\", \"아시안\", 312),\n",
    "    (8, \"햄버거\", \"패스트푸드\", 12),\n",
    "    (9, \"치킨\", \"패스트푸드\", 23),\n",
    "]"
   ]
  },
  {
   "cell_type": "code",
   "execution_count": 9,
   "id": "114645f6-52c9-418e-9ea5-b628b8e3c2b0",
   "metadata": {},
   "outputs": [],
   "source": [
    "rdd1=sc.parallelize(data) #parallelize는 파이썬 리스트를 REDD로 만드는 메소드"
   ]
  },
  {
   "cell_type": "code",
   "execution_count": null,
   "id": "abea904b-9b63-49cc-9ef4-5ddbb51379bc",
   "metadata": {},
   "outputs": [],
   "source": []
  },
  {
   "cell_type": "code",
   "execution_count": 47,
   "id": "fcc04121-20b2-4b52-b271-afefb37ea167",
   "metadata": {},
   "outputs": [
    {
     "data": {
      "text/plain": [
       "['id,item,cateogry,reviews,',\n",
       " '0,짜장면,중식,125,',\n",
       " '1,짬뽕,중식,235,',\n",
       " '2,김밥,분식,32,',\n",
       " '3,떡볶이,분식,534,']"
      ]
     },
     "execution_count": 47,
     "metadata": {},
     "output_type": "execute_result"
    }
   ],
   "source": [
    "lines = sc.textFile(\"file:///home/jovyan/work/learning_spark_data/restaurant_reviews.csv\")\n",
    "\n",
    "lines.take(5)"
   ]
  },
  {
   "cell_type": "code",
   "execution_count": null,
   "id": "8d1558cb-6f03-49ed-8a1f-fe97f35eb161",
   "metadata": {},
   "outputs": [],
   "source": []
  },
  {
   "cell_type": "code",
   "execution_count": 48,
   "id": "d42e5c5f-f0cb-4698-8274-c4e00727a454",
   "metadata": {},
   "outputs": [
    {
     "name": "stdout",
     "output_type": "stream",
     "text": [
      "11\n"
     ]
    }
   ],
   "source": [
    "#총 건수 확인,컬럼명 포함\n",
    "print(lines.count())"
   ]
  },
  {
   "cell_type": "code",
   "execution_count": 37,
   "id": "0de0ce25-5a31-472c-893d-9a1acff90260",
   "metadata": {},
   "outputs": [],
   "source": [
    "# 첫 줄(헤더) 저장\n",
    "header = lines.first()\n",
    "\n",
    "# 데이터 분할 (헤더 제외, 쉼표로 split)\n",
    "split_data = lines.filter(lambda row: row != header) \\\n",
    "            .map(lambda row: row.split(','))"
   ]
  },
  {
   "cell_type": "code",
   "execution_count": 38,
   "id": "dcefd214-197a-4c82-a74e-c1185724dcb2",
   "metadata": {},
   "outputs": [
    {
     "data": {
      "text/plain": [
       "[['0', '짜장면', '중식', '125', ''],\n",
       " ['1', '짬뽕', '중식', '235', ''],\n",
       " ['2', '김밥', '분식', '32', '']]"
      ]
     },
     "execution_count": 38,
     "metadata": {},
     "output_type": "execute_result"
    }
   ],
   "source": [
    "data.take(3)"
   ]
  },
  {
   "cell_type": "code",
   "execution_count": 39,
   "id": "cf654ba8-8cba-41a1-b2db-42f871df10f5",
   "metadata": {},
   "outputs": [
    {
     "name": "stdout",
     "output_type": "stream",
     "text": [
      "[('중식', 125), ('중식', 235), ('분식', 32), ('분식', 534), ('일식', 223), ('일식', 52), ('일식', 12), ('아시안', 312), ('패스트푸드', 12), ('패스트푸드', 23)]\n"
     ]
    }
   ],
   "source": [
    "def parse(fields):\n",
    "    category = fields[2]\n",
    "    reviews = int(fields[3])\n",
    "    return category, reviews\n",
    "\n",
    "category_reviews = split_data.map(parse)\n",
    "print(category_reviews.collect())"
   ]
  },
  {
   "cell_type": "code",
   "execution_count": 116,
   "id": "9fec6313-c365-4893-a88a-285c60caec11",
   "metadata": {},
   "outputs": [
    {
     "name": "stdout",
     "output_type": "stream",
     "text": [
      "('중식', 125)\n"
     ]
    }
   ],
   "source": [
    "print(category_reviews.collect()[0])"
   ]
  },
  {
   "cell_type": "code",
   "execution_count": 117,
   "id": "5535e9ad-1f5f-4c0f-9a40-58d3e318b41c",
   "metadata": {},
   "outputs": [
    {
     "data": {
      "text/plain": [
       "PythonRDD[108] at RDD at PythonRDD.scala:53"
      ]
     },
     "execution_count": 117,
     "metadata": {},
     "output_type": "execute_result"
    }
   ],
   "source": [
    "category_reviews = split_data.map(parse)\n",
    "category_reviews"
   ]
  },
  {
   "cell_type": "code",
   "execution_count": 44,
   "id": "4aa64f28-1f6b-4d36-a3ce-71aef7e6fe1c",
   "metadata": {},
   "outputs": [
    {
     "data": {
      "text/plain": [
       "[('중식', 125),\n",
       " ('중식', 235),\n",
       " ('분식', 32),\n",
       " ('분식', 534),\n",
       " ('일식', 223),\n",
       " ('일식', 52),\n",
       " ('일식', 12),\n",
       " ('아시안', 312),\n",
       " ('패스트푸드', 12),\n",
       " ('패스트푸드', 23)]"
      ]
     },
     "execution_count": 44,
     "metadata": {},
     "output_type": "execute_result"
    }
   ],
   "source": [
    "category_reviews.collect() \n",
    "#RDD(분산 데이터 객체)에 저장된 모든 데이터를\n",
    "#파이썬 리스트로 한 번에 모아서 반환하는 함수"
   ]
  },
  {
   "cell_type": "code",
   "execution_count": 45,
   "id": "49e86bce-ab17-4f47-8a15-69fcfe7e797c",
   "metadata": {},
   "outputs": [
    {
     "data": {
      "text/plain": [
       "[('중식', (125, 1)),\n",
       " ('중식', (235, 1)),\n",
       " ('분식', (32, 1)),\n",
       " ('분식', (534, 1)),\n",
       " ('일식', (223, 1)),\n",
       " ('일식', (52, 1)),\n",
       " ('일식', (12, 1)),\n",
       " ('아시안', (312, 1)),\n",
       " ('패스트푸드', (12, 1)),\n",
       " ('패스트푸드', (23, 1))]"
      ]
     },
     "execution_count": 45,
     "metadata": {},
     "output_type": "execute_result"
    }
   ],
   "source": [
    "category_review_count = category_reviews.mapValues(lambda x : (x, 1)) \n",
    "# x는 review 개수, mapValues는 value만 바꿔줌\n",
    "category_review_count.collect()"
   ]
  },
  {
   "cell_type": "code",
   "execution_count": 50,
   "id": "97e487a2-3832-47eb-ae20-290997170b22",
   "metadata": {},
   "outputs": [
    {
     "data": {
      "text/plain": [
       "[('중식', (360, 2)),\n",
       " ('분식', (566, 2)),\n",
       " ('일식', (287, 3)),\n",
       " ('아시안', (312, 1)),\n",
       " ('패스트푸드', (35, 2))]"
      ]
     },
     "execution_count": 50,
     "metadata": {},
     "output_type": "execute_result"
    }
   ],
   "source": [
    "#같은 key(카테고리)끼리 x와 y의 (리뷰 수 합계, 개수 합계)를 누적\n",
    "#첫번째 중식 x, 두번째 중식 y , [0] 은 리뷰수, [1] 은 개수 -> 같은 키끼리 행을 바꿔가며 계속 누적해 나간다.\n",
    "reduced = category_review_count.reduceByKey(lambda x, y : (x[0] + y[0], x[1] + y[1]))\n",
    "reduced.collect()\n",
    "#카테고리별 리뷰 평균 구하기"
   ]
  },
  {
   "cell_type": "code",
   "execution_count": 51,
   "id": "f8f132b0-bc5e-4257-8bc0-6b714874fd09",
   "metadata": {},
   "outputs": [
    {
     "data": {
      "text/plain": [
       "[('중식', 180.0),\n",
       " ('분식', 283.0),\n",
       " ('일식', 95.66666666666667),\n",
       " ('아시안', 312.0),\n",
       " ('패스트푸드', 17.5)]"
      ]
     },
     "execution_count": 51,
     "metadata": {},
     "output_type": "execute_result"
    }
   ],
   "source": [
    "average = reduced.mapValues(lambda x : x[0] / x[1])\n",
    "average.collect()\n",
    "# 카테고리별 리뷰평균"
   ]
  },
  {
   "cell_type": "markdown",
   "id": "a1d0cf90-fc9a-4a58-a9cc-c09b436c72ce",
   "metadata": {},
   "source": [
    "Persist를 사용하지 않을 때"
   ]
  },
  {
   "cell_type": "code",
   "execution_count": 53,
   "id": "a90d4cbb-a291-4d29-a5b0-1294264b71d8",
   "metadata": {},
   "outputs": [
    {
     "data": {
      "text/plain": [
       "[('중식', 125),\n",
       " ('중식', 235),\n",
       " ('분식', 32),\n",
       " ('분식', 534),\n",
       " ('일식', 223),\n",
       " ('일식', 52),\n",
       " ('일식', 12),\n",
       " ('아시안', 312),\n",
       " ('패스트푸드', 12),\n",
       " ('패스트푸드', 23)]"
      ]
     },
     "execution_count": 53,
     "metadata": {},
     "output_type": "execute_result"
    }
   ],
   "source": [
    "# transformations를 수행할 새로운 RDD 생성\n",
    "categoryReviews = split_data.map(parse)\n",
    "categoryReviews.collect()"
   ]
  },
  {
   "cell_type": "code",
   "execution_count": 54,
   "id": "230a6697-4bb6-4704-920b-2c1991cd04a9",
   "metadata": {},
   "outputs": [],
   "source": [
    "result1 = categoryReviews.take(10) # action을 곧바로 실행"
   ]
  },
  {
   "cell_type": "code",
   "execution_count": 55,
   "id": "07d01b67-d9ec-408d-ae94-877cf3579609",
   "metadata": {},
   "outputs": [],
   "source": [
    "result2 = categoryReviews.mapValues(lambda x : (x, 1)).collect()"
   ]
  },
  {
   "cell_type": "markdown",
   "id": "75492eec-3f39-4a81-96b9-5bebe932c864",
   "metadata": {},
   "source": [
    "## Persist를 사용하는 경우"
   ]
  },
  {
   "cell_type": "code",
   "execution_count": 56,
   "id": "03629b27-63d8-4bfa-a351-47f157995f31",
   "metadata": {},
   "outputs": [
    {
     "data": {
      "text/plain": [
       "PythonRDD[36] at RDD at PythonRDD.scala:53"
      ]
     },
     "execution_count": 56,
     "metadata": {},
     "output_type": "execute_result"
    }
   ],
   "source": [
    "categoryReviews = split_data.map(parse).persist() # categoryReviews RDD는 하나만 존재하는 RDD\n",
    "categoryReviews"
   ]
  },
  {
   "cell_type": "code",
   "execution_count": 57,
   "id": "74b5d4d0-d9a3-4246-8966-18ff40f9fbca",
   "metadata": {},
   "outputs": [
    {
     "data": {
      "text/plain": [
       "[('중식', 125),\n",
       " ('중식', 235),\n",
       " ('분식', 32),\n",
       " ('분식', 534),\n",
       " ('일식', 223),\n",
       " ('일식', 52),\n",
       " ('일식', 12),\n",
       " ('아시안', 312),\n",
       " ('패스트푸드', 12),\n",
       " ('패스트푸드', 23)]"
      ]
     },
     "execution_count": 57,
     "metadata": {},
     "output_type": "execute_result"
    }
   ],
   "source": [
    "result3 = categoryReviews.take(10)\n",
    "result3"
   ]
  },
  {
   "cell_type": "code",
   "execution_count": 58,
   "id": "9dfe6bcf-df93-4f51-a011-6ef2e81c38bf",
   "metadata": {},
   "outputs": [
    {
     "data": {
      "text/plain": [
       "[('중식', (125, 1)),\n",
       " ('중식', (235, 1)),\n",
       " ('분식', (32, 1)),\n",
       " ('분식', (534, 1)),\n",
       " ('일식', (223, 1)),\n",
       " ('일식', (52, 1)),\n",
       " ('일식', (12, 1)),\n",
       " ('아시안', (312, 1)),\n",
       " ('패스트푸드', (12, 1)),\n",
       " ('패스트푸드', (23, 1))]"
      ]
     },
     "execution_count": 58,
     "metadata": {},
     "output_type": "execute_result"
    }
   ],
   "source": [
    "result4 = categoryReviews.mapValues(lambda x : (x, 1)).collect()\n",
    "result4"
   ]
  },
  {
   "cell_type": "code",
   "execution_count": 59,
   "id": "f254782e-cd06-437e-bcae-0006cd9bddb3",
   "metadata": {},
   "outputs": [
    {
     "data": {
      "text/plain": [
       "[('중식', 360), ('분식', 566), ('일식', 287), ('아시안', 312), ('패스트푸드', 35)]"
      ]
     },
     "execution_count": 59,
     "metadata": {},
     "output_type": "execute_result"
    }
   ],
   "source": [
    "# 카테고리별 값1 합계 계산 (첫 번째 연산)\n",
    "result_sum = categoryReviews \\\n",
    "    .reduceByKey(lambda a, b: a + b) \\\n",
    "    .collect()\n",
    "result_sum"
   ]
  },
  {
   "cell_type": "code",
   "execution_count": 60,
   "id": "edf42a3c-5bcb-49ab-b2a0-f60ce5e0aabf",
   "metadata": {},
   "outputs": [
    {
     "data": {
      "text/plain": [
       "[('중식', (125, 1)), ('중식', (235, 1)), ('분식', (32, 1))]"
      ]
     },
     "execution_count": 60,
     "metadata": {},
     "output_type": "execute_result"
    }
   ],
   "source": [
    "# (카테고리, (점수, 1)) 형태로 변환\n",
    "rdd_with_count = categoryReviews.map(lambda x: (x[0], (x[1], 1)))\n",
    "rdd_with_count.take(3)"
   ]
  },
  {
   "cell_type": "code",
   "execution_count": 61,
   "id": "36ee15a4-8b85-4ab7-b43f-d7eae80cce5c",
   "metadata": {},
   "outputs": [
    {
     "data": {
      "text/plain": [
       "[('중식', (360, 2)), ('분식', (566, 2)), ('일식', (287, 3))]"
      ]
     },
     "execution_count": 61,
     "metadata": {},
     "output_type": "execute_result"
    }
   ],
   "source": [
    "# reduceByKey로 (점수 총합, 개수 총합) 집계\n",
    "rdd_sums = rdd_with_count.reduceByKey(lambda a, b: (a[0] + b[0], a[1] + b[1]))\n",
    "rdd_sums.take(3)"
   ]
  },
  {
   "cell_type": "code",
   "execution_count": 62,
   "id": "4aae15a4-cc0e-412b-91a4-d2c99a16625d",
   "metadata": {},
   "outputs": [
    {
     "data": {
      "text/plain": [
       "[('중식', 180.0), ('분식', 283.0), ('일식', 95.67), ('아시안', 312.0), ('패스트푸드', 17.5)]"
      ]
     },
     "execution_count": 62,
     "metadata": {},
     "output_type": "execute_result"
    }
   ],
   "source": [
    "# 평균 계산\n",
    "rdd_avg = rdd_sums.mapValues(lambda x: round(x[0] / x[1], 2))\n",
    "\n",
    "# 결과 출력\n",
    "rdd_avg.collect()"
   ]
  },
  {
   "cell_type": "code",
   "execution_count": 63,
   "id": "72212097-f0f7-4c1c-8fda-7a5fafd6dfda",
   "metadata": {},
   "outputs": [
    {
     "data": {
      "text/plain": [
       "PythonRDD[36] at RDD at PythonRDD.scala:53"
      ]
     },
     "execution_count": 63,
     "metadata": {},
     "output_type": "execute_result"
    }
   ],
   "source": [
    "# 기존 저장 레벨 해제\n",
    "categoryReviews.unpersist()"
   ]
  },
  {
   "cell_type": "code",
   "execution_count": 64,
   "id": "97006531-09ab-410f-b4c4-a084ddc5a756",
   "metadata": {},
   "outputs": [
    {
     "data": {
      "text/plain": [
       "PythonRDD[36] at RDD at PythonRDD.scala:53"
      ]
     },
     "execution_count": 64,
     "metadata": {},
     "output_type": "execute_result"
    }
   ],
   "source": [
    "from pyspark import StorageLevel\n",
    "categoryReviews.persist(StorageLevel.MEMORY_AND_DISK)"
   ]
  },
  {
   "cell_type": "code",
   "execution_count": 65,
   "id": "76990fa9-02bf-448c-b24c-05b3b6964eb6",
   "metadata": {},
   "outputs": [
    {
     "data": {
      "text/plain": [
       "[('중식', 125), ('중식', 235), ('분식', 32)]"
      ]
     },
     "execution_count": 65,
     "metadata": {},
     "output_type": "execute_result"
    }
   ],
   "source": [
    "# 구조 확인하기\n",
    "categoryReviews.take(3)"
   ]
  },
  {
   "cell_type": "code",
   "execution_count": 66,
   "id": "02f1f40e-a33a-4420-a3b8-528773c53a37",
   "metadata": {},
   "outputs": [],
   "source": [
    "result11 = categoryReviews.filter(lambda x: x[1] > 100).count()\n",
    "result12 = categoryReviews.filter(lambda x: x[1] <= 100).count()"
   ]
  },
  {
   "cell_type": "markdown",
   "id": "38d5099c-83aa-49ad-a910-70b598115cbb",
   "metadata": {},
   "source": [
    "# Narrow Transformations\n",
    "\n",
    "1:1 변환 -> 하나의 열을 다룰 때 다른 데이터가 필요 없는 경우\n",
    "filter(), map(), flatMap(), sample(), union()"
   ]
  },
  {
   "cell_type": "markdown",
   "id": "c7420296-2919-4258-9c02-3d8baa77dc03",
   "metadata": {},
   "source": [
    "## FlatMap()"
   ]
  },
  {
   "cell_type": "code",
   "execution_count": 68,
   "id": "15fb1e4b-2d85-4789-98a5-a41a837dbf36",
   "metadata": {},
   "outputs": [
    {
     "data": {
      "text/plain": [
       "[[1, 2], [2, 3], [3, 4]]"
      ]
     },
     "execution_count": 68,
     "metadata": {},
     "output_type": "execute_result"
    }
   ],
   "source": [
    "rdd = sc.parallelize([1, 2, 3])\r\n",
    "rdd_map = rdd.map(lambda x: [x, x + 1])  # => [[1, 2], [2, 3], [3, 4]]\r\n",
    "rdd_map.collect()"
   ]
  },
  {
   "cell_type": "code",
   "execution_count": 69,
   "id": "d5ea29c6-9069-43d1-bdcd-95054929da85",
   "metadata": {},
   "outputs": [
    {
     "data": {
      "text/plain": [
       "[1, 2, 2, 3, 3, 4]"
      ]
     },
     "execution_count": 69,
     "metadata": {},
     "output_type": "execute_result"
    }
   ],
   "source": [
    "rdd_flatmap = rdd.flatMap(lambda x: [x, x + 1])  # => [1, 2, 2, 3, 3, 4]\n",
    "rdd_flatmap.collect()"
   ]
  },
  {
   "cell_type": "code",
   "execution_count": 70,
   "id": "c8f02480-f342-43ec-8cfa-81fbe54559cf",
   "metadata": {},
   "outputs": [],
   "source": [
    "# 텍스트를 단어로 쪼개서 flatmap()"
   ]
  },
  {
   "cell_type": "code",
   "execution_count": 71,
   "id": "dead8fd8-bdd7-49c0-8d0c-74b78409bb9b",
   "metadata": {},
   "outputs": [],
   "source": [
    "movies = [\n",
    "    \"그린 북\",\n",
    "    \"매트릭스\",\n",
    "    \"토이 스토리\",\n",
    "    \"캐스트 어웨이\",\n",
    "    \"포드 V 페라리\",\n",
    "    \"보헤미안 랩소디\",\n",
    "    \"빽 투 더 퓨처\",\n",
    "    \"반지의 제왕\",\n",
    "    \"죽은 시인의 사회\"\n",
    "]"
   ]
  },
  {
   "cell_type": "code",
   "execution_count": 72,
   "id": "268f45c8-30ea-40be-89df-770aa0eb6ec9",
   "metadata": {},
   "outputs": [
    {
     "data": {
      "text/plain": [
       "ParallelCollectionRDD[59] at readRDDFromFile at PythonRDD.scala:289"
      ]
     },
     "execution_count": 72,
     "metadata": {},
     "output_type": "execute_result"
    }
   ],
   "source": [
    "moviesRDD = sc.parallelize(movies)\n",
    "moviesRDD"
   ]
  },
  {
   "cell_type": "code",
   "execution_count": 73,
   "id": "15311ebb-00c6-485e-b442-a92b7bb17147",
   "metadata": {},
   "outputs": [
    {
     "data": {
      "text/plain": [
       "['그린',\n",
       " '북',\n",
       " '매트릭스',\n",
       " '토이',\n",
       " '스토리',\n",
       " '캐스트',\n",
       " '어웨이',\n",
       " '포드',\n",
       " 'V',\n",
       " '페라리',\n",
       " '보헤미안',\n",
       " '랩소디',\n",
       " '빽',\n",
       " '투',\n",
       " '더',\n",
       " '퓨처',\n",
       " '반지의',\n",
       " '제왕',\n",
       " '죽은',\n",
       " '시인의',\n",
       " '사회']"
      ]
     },
     "execution_count": 73,
     "metadata": {},
     "output_type": "execute_result"
    }
   ],
   "source": [
    "#job 추가 x\n",
    "flatMovies = moviesRDD.flatMap(lambda x : x.split(\" \"))\n",
    "flatMovies.collect()"
   ]
  },
  {
   "cell_type": "code",
   "execution_count": null,
   "id": "28268bd1-266e-474c-b5cb-0e52337b56d4",
   "metadata": {},
   "outputs": [],
   "source": [
    "# 집합 Transformation"
   ]
  },
  {
   "cell_type": "code",
   "execution_count": 74,
   "id": "52123d0f-5474-42e3-b71b-643102491893",
   "metadata": {},
   "outputs": [],
   "source": [
    "num1 = sc.parallelize([1, 2, 3, 4, 5])\n",
    "num2 = sc.parallelize([4, 5, 6, 7, 8, 9, 10])"
   ]
  },
  {
   "cell_type": "code",
   "execution_count": 75,
   "id": "617b8876-cc44-4460-bff0-a569340e52b2",
   "metadata": {},
   "outputs": [
    {
     "data": {
      "text/plain": [
       "[4, 5]"
      ]
     },
     "execution_count": 75,
     "metadata": {},
     "output_type": "execute_result"
    }
   ],
   "source": [
    "num1.intersection(num2).collect()"
   ]
  },
  {
   "cell_type": "code",
   "execution_count": null,
   "id": "a2d90bf1-d9be-41bd-a1a6-b2bab24502fd",
   "metadata": {},
   "outputs": [],
   "source": [
    "# 합집합 구하기 - union"
   ]
  },
  {
   "cell_type": "code",
   "execution_count": 76,
   "id": "c1f61a10-c9b8-47cf-9fa7-767fdd48a846",
   "metadata": {},
   "outputs": [
    {
     "data": {
      "text/plain": [
       "UnionRDD[73] at union at NativeMethodAccessorImpl.java:0"
      ]
     },
     "execution_count": 76,
     "metadata": {},
     "output_type": "execute_result"
    }
   ],
   "source": [
    "num_union = num1.union(num2)\n",
    "num_union"
   ]
  },
  {
   "cell_type": "code",
   "execution_count": 77,
   "id": "819acd1e-6042-42db-9fe2-7269ad85cb09",
   "metadata": {},
   "outputs": [
    {
     "data": {
      "text/plain": [
       "[1, 2, 3, 4, 5, 4, 5, 6, 7, 8, 9, 10]"
      ]
     },
     "execution_count": 77,
     "metadata": {},
     "output_type": "execute_result"
    }
   ],
   "source": [
    "num_union.collect()"
   ]
  },
  {
   "cell_type": "code",
   "execution_count": null,
   "id": "8163d3e7-110f-4cc9-be04-533173d7f3da",
   "metadata": {},
   "outputs": [],
   "source": [
    "# 차집합 구하기 - subtract"
   ]
  },
  {
   "cell_type": "code",
   "execution_count": 78,
   "id": "2b6efcae-9115-4b7d-85ad-5e99e7a2508c",
   "metadata": {},
   "outputs": [
    {
     "data": {
      "text/plain": [
       "[1, 2, 3]"
      ]
     },
     "execution_count": 78,
     "metadata": {},
     "output_type": "execute_result"
    }
   ],
   "source": [
    "num1.subtract(num2).collect()"
   ]
  },
  {
   "cell_type": "code",
   "execution_count": null,
   "id": "c481ffdf-f75e-4f2a-bc0c-afc3fc0eff41",
   "metadata": {},
   "outputs": [],
   "source": []
  },
  {
   "cell_type": "code",
   "execution_count": null,
   "id": "9a76f697-56c5-4c21-9a98-78f71ca05142",
   "metadata": {},
   "outputs": [],
   "source": [
    "# 데이터 랜덤 추출 - sample(withReplacement, fraction, seed=None)"
   ]
  },
  {
   "cell_type": "code",
   "execution_count": 82,
   "id": "b8c678dd-6852-4c47-a1f3-1aba89e184c2",
   "metadata": {},
   "outputs": [],
   "source": [
    "numUnion = num1.union(num2)"
   ]
  },
  {
   "cell_type": "code",
   "execution_count": 83,
   "id": "e3c96620-bb9c-4706-9539-6d73d6e59f3f",
   "metadata": {},
   "outputs": [
    {
     "data": {
      "text/plain": [
       "[1, 3, 5, 5, 4]"
      ]
     },
     "execution_count": 83,
     "metadata": {},
     "output_type": "execute_result"
    }
   ],
   "source": [
    "# withReplacement : True -> 중복 추출\n",
    "numUnion.sample(True, 0.3).collect()"
   ]
  },
  {
   "cell_type": "code",
   "execution_count": 84,
   "id": "c07c6315-9d99-4dcb-bbe2-bf8c8c973b9b",
   "metadata": {},
   "outputs": [
    {
     "data": {
      "text/plain": [
       "[1, 2, 3, 5, 4, 6, 7, 8, 9, 10]"
      ]
     },
     "execution_count": 84,
     "metadata": {},
     "output_type": "execute_result"
    }
   ],
   "source": [
    "# withReplacement : False -> 중복 X\n",
    "numUnion.sample(False, 0.7).collect()"
   ]
  },
  {
   "cell_type": "code",
   "execution_count": 85,
   "id": "ea10457d-9a1d-40ae-872d-eb483f224bfd",
   "metadata": {},
   "outputs": [
    {
     "data": {
      "text/plain": [
       "[4, 5, 5, 5, 7]"
      ]
     },
     "execution_count": 85,
     "metadata": {},
     "output_type": "execute_result"
    }
   ],
   "source": [
    "# 랜덤을 고정해서 항상 같은 결과가 나올 수 있도록\n",
    "numUnion.sample(True, 0.5, seed=42).collect()"
   ]
  },
  {
   "cell_type": "code",
   "execution_count": null,
   "id": "280bc4eb-c63e-416c-b66c-91f4f5d2cb8e",
   "metadata": {},
   "outputs": [],
   "source": []
  },
  {
   "cell_type": "code",
   "execution_count": 86,
   "id": "4a1c3dac-491d-4767-9ad8-0bedd94cdd5d",
   "metadata": {},
   "outputs": [],
   "source": [
    "# Wide Transformations"
   ]
  },
  {
   "cell_type": "code",
   "execution_count": 88,
   "id": "461e168a-5041-4f86-9a71-7d9ad0af494d",
   "metadata": {},
   "outputs": [
    {
     "data": {
      "text/plain": [
       "ParallelCollectionRDD[89] at readRDDFromFile at PythonRDD.scala:289"
      ]
     },
     "execution_count": 88,
     "metadata": {},
     "output_type": "execute_result"
    }
   ],
   "source": [
    "foods = sc.parallelize([\n",
    "    \"짜장면\", \"마라탕\", \"짬뽕\", \"떡볶이\", \"쌀국수\", \"짬뽕\", \"짜장면\", \"짜장면\", \"짜장면\", \"라면\", \"우동\", \"라면\"\n",
    "])\n",
    "foods"
   ]
  },
  {
   "cell_type": "code",
   "execution_count": 89,
   "id": "38e66690-6181-4668-bda6-b3154d879157",
   "metadata": {},
   "outputs": [
    {
     "data": {
      "text/plain": [
       "PythonRDD[94] at RDD at PythonRDD.scala:53"
      ]
     },
     "execution_count": 89,
     "metadata": {},
     "output_type": "execute_result"
    }
   ],
   "source": [
    "# 그룹핑의 기준을 문자열의 첫 번째 글자로 설정\n",
    "foodsGroup = foods.groupBy(lambda x : x[0])\n",
    "foodsGroup"
   ]
  },
  {
   "cell_type": "code",
   "execution_count": 98,
   "id": "ed70f2b6-63a6-48f9-9b21-f605df76c608",
   "metadata": {},
   "outputs": [],
   "source": [
    "res=foodsGroup.collect()"
   ]
  },
  {
   "cell_type": "code",
   "execution_count": 99,
   "id": "674fc576-aed3-49ed-9413-27830084a28a",
   "metadata": {},
   "outputs": [
    {
     "name": "stdout",
     "output_type": "stream",
     "text": [
      "짜 ['짜장면', '짜장면', '짜장면', '짜장면']\n",
      "짬 ['짬뽕', '짬뽕']\n",
      "쌀 ['쌀국수']\n",
      "라 ['라면', '라면']\n",
      "우 ['우동']\n",
      "마 ['마라탕']\n",
      "떡 ['떡볶이']\n"
     ]
    }
   ],
   "source": [
    "for (k, v) in res:\n",
    "    print(k, list(v))"
   ]
  },
  {
   "cell_type": "markdown",
   "id": "0e245af3-0109-4b2e-a2f6-f6888805b191",
   "metadata": {},
   "source": [
    "## Narrow 트랜스포메이션"
   ]
  },
  {
   "cell_type": "code",
   "execution_count": 118,
   "id": "12d265c0-bba9-4951-b29d-2d5aee6e18ba",
   "metadata": {},
   "outputs": [],
   "source": [
    "### 2. Narrow 트랜스포메이션 예제\n",
    "numbers = sc.parallelize([1, 2, 3, 4, 5])\n",
    "\n",
    "# 1:1 변환 (Narrow Transformation)"
   ]
  },
  {
   "cell_type": "code",
   "execution_count": 119,
   "id": "b684a0be-04d3-426b-8180-3640917bf704",
   "metadata": {},
   "outputs": [],
   "source": [
    "#wide연산\n",
    "kv_rdd=sc.parallelize([(\"apple\",1),(\"banana\",2),(\"cherry\",3)])"
   ]
  },
  {
   "cell_type": "code",
   "execution_count": 120,
   "id": "2718b9f0-ab3d-48c0-beac-459466312c08",
   "metadata": {},
   "outputs": [
    {
     "data": {
      "text/plain": [
       "[('apple', 10), ('banana', 20), ('cherry', 30)]"
      ]
     },
     "execution_count": 120,
     "metadata": {},
     "output_type": "execute_result"
    }
   ],
   "source": [
    "mapp_values=kv_rdd.mapValues(lambda x: x*10)\n",
    "mapp_values.collect()"
   ]
  },
  {
   "cell_type": "code",
   "execution_count": 121,
   "id": "92438aaf-2411-4aca-a27d-172fc1194a0f",
   "metadata": {},
   "outputs": [
    {
     "data": {
      "text/plain": [
       "[('apple', <pyspark.resultiterable.ResultIterable at 0x7f04e622b8d0>),\n",
       " ('banana', <pyspark.resultiterable.ResultIterable at 0x7f04e60c0b50>),\n",
       " ('cherry', <pyspark.resultiterable.ResultIterable at 0x7f04e60c2e10>)]"
      ]
     },
     "execution_count": 121,
     "metadata": {},
     "output_type": "execute_result"
    }
   ],
   "source": [
    "grouped_rdd=kv_rdd.groupByKey()\n",
    "grouped_rdd.collect()"
   ]
  },
  {
   "cell_type": "code",
   "execution_count": 123,
   "id": "498f8035-aae7-4e5e-a0fd-e4fcab92244b",
   "metadata": {},
   "outputs": [
    {
     "data": {
      "text/plain": [
       "PythonRDD[121] at RDD at PythonRDD.scala:53"
      ]
     },
     "execution_count": 123,
     "metadata": {},
     "output_type": "execute_result"
    }
   ],
   "source": [
    "kv_rdd.reduceByKey(lambda x,y:x+y)"
   ]
  },
  {
   "cell_type": "code",
   "execution_count": 124,
   "id": "7d3c4ee8-9605-4da8-ac9e-0805fccf809a",
   "metadata": {},
   "outputs": [],
   "source": [
    "reduced_rdd=kv_rdd.reduceByKey(lambda x,y: x+y)"
   ]
  },
  {
   "cell_type": "code",
   "execution_count": null,
   "id": "815b5d9d-6f62-4456-be8d-23eb3ef0697f",
   "metadata": {},
   "outputs": [],
   "source": []
  },
  {
   "cell_type": "markdown",
   "id": "460b0325-7d96-4509-a0d4-679ae6a4a47c",
   "metadata": {},
   "source": [
    "## Join"
   ]
  },
  {
   "cell_type": "code",
   "execution_count": 127,
   "id": "3f039715-9fe6-46a9-be3d-b22319e3efed",
   "metadata": {},
   "outputs": [],
   "source": [
    "# 두 RDD 조인하기\n",
    "rdd1 = sc.parallelize([(\"apple\", 2), (\"banana\", 1)])\n",
    "rdd2 = sc.parallelize([(\"apple\", \"fruit\"), (\"banana\", \"fruit\"), (\"carrot\", \"vegetable\")])"
   ]
  },
  {
   "cell_type": "code",
   "execution_count": 130,
   "id": "74ec1f50-41d6-4cd2-b913-8a66ab015d52",
   "metadata": {},
   "outputs": [
    {
     "name": "stdout",
     "output_type": "stream",
     "text": [
      "[('apple', 2), ('banana', 1)]\n"
     ]
    }
   ],
   "source": [
    "distinct_rdd = rdd1.distinct()\n",
    "print(distinct_rdd.collect())"
   ]
  },
  {
   "cell_type": "code",
   "execution_count": 128,
   "id": "41114fe4-67bd-4d72-8c75-aed32acb7cf5",
   "metadata": {},
   "outputs": [
    {
     "name": "stdout",
     "output_type": "stream",
     "text": [
      "[('apple', (2, 'fruit')), ('banana', (1, 'fruit'))]\n"
     ]
    }
   ],
   "source": [
    "# 두 RDD 조인\n",
    "joined_rdd = rdd1.join(rdd2)\n",
    "print(joined_rdd.collect())\n",
    "# 출력 결과: [('apple', (2, 'fruit')), ('banana', (1, 'fruit'))]\n"
   ]
  },
  {
   "cell_type": "code",
   "execution_count": 131,
   "id": "7b431733-e308-4292-aa4b-17219157ba82",
   "metadata": {},
   "outputs": [
    {
     "name": "stdout",
     "output_type": "stream",
     "text": [
      "Distinct RDD: [('apple', 2), ('banana', 1)]\n",
      "Joined RDD: [('apple', (2, 'fruit')), ('banana', (1, 'fruit'))]\n"
     ]
    }
   ],
   "source": [
    "print(\"Distinct RDD:\", distinct_rdd.collect())  # [1, 2, 3]\n",
    "print(\"Joined RDD:\", joined_rdd.collect())  # [(\"apple\", (2, \"fruit\")), (\"banana\", (1, \"fruit\"))]"
   ]
  },
  {
   "cell_type": "markdown",
   "id": "f523dff8-79d8-4973-8e35-c3608e07f1ae",
   "metadata": {},
   "source": [
    "## reduce()"
   ]
  },
  {
   "cell_type": "code",
   "execution_count": 133,
   "id": "bec3bb4e-838f-43b7-975a-20847176c1af",
   "metadata": {},
   "outputs": [],
   "source": [
    "count=1,2,3,4,5"
   ]
  },
  {
   "cell_type": "code",
   "execution_count": 134,
   "id": "bab1fa25-4b74-4ee4-b91b-2c2e1f4fa040",
   "metadata": {},
   "outputs": [
    {
     "name": "stdout",
     "output_type": "stream",
     "text": [
      "Count: (1, 2, 3, 4, 5)\n"
     ]
    },
    {
     "ename": "NameError",
     "evalue": "name 'first_element' is not defined",
     "output_type": "error",
     "traceback": [
      "\u001b[0;31m---------------------------------------------------------------------------\u001b[0m",
      "\u001b[0;31mNameError\u001b[0m                                 Traceback (most recent call last)",
      "Cell \u001b[0;32mIn[134], line 6\u001b[0m\n\u001b[1;32m      3\u001b[0m product_result \u001b[38;5;241m=\u001b[39m numbers\u001b[38;5;241m.\u001b[39mreduce(\u001b[38;5;28;01mlambda\u001b[39;00m x, y: x \u001b[38;5;241m*\u001b[39m y)\n\u001b[1;32m      5\u001b[0m \u001b[38;5;28mprint\u001b[39m(\u001b[38;5;124m\"\u001b[39m\u001b[38;5;124mCount:\u001b[39m\u001b[38;5;124m\"\u001b[39m, count)  \u001b[38;5;66;03m# 5\u001b[39;00m\n\u001b[0;32m----> 6\u001b[0m \u001b[38;5;28mprint\u001b[39m(\u001b[38;5;124m\"\u001b[39m\u001b[38;5;124mFirst element:\u001b[39m\u001b[38;5;124m\"\u001b[39m, \u001b[43mfirst_element\u001b[49m)  \u001b[38;5;66;03m# 1\u001b[39;00m\n\u001b[1;32m      7\u001b[0m \u001b[38;5;28mprint\u001b[39m(\u001b[38;5;124m\"\u001b[39m\u001b[38;5;124mCollected:\u001b[39m\u001b[38;5;124m\"\u001b[39m, collected)  \u001b[38;5;66;03m# [1, 2, 3, 4, 5]\u001b[39;00m\n\u001b[1;32m      8\u001b[0m \u001b[38;5;28mprint\u001b[39m(\u001b[38;5;124m\"\u001b[39m\u001b[38;5;124mTaken:\u001b[39m\u001b[38;5;124m\"\u001b[39m, taken)  \u001b[38;5;66;03m# [1, 2, 3]\u001b[39;00m\n",
      "\u001b[0;31mNameError\u001b[0m: name 'first_element' is not defined"
     ]
    }
   ],
   "source": [
    "# reduce 연산 (결합성과 교환성을 가진 작업)\n",
    "sum_result = numbers.reduce(lambda x, y: x + y)\n",
    "product_result = numbers.reduce(lambda x, y: x * y)\n",
    "\n",
    "print(\"Count:\", count)  # 5\n",
    "print(\"First element:\", first_element)  # 1\n",
    "print(\"Collected:\", collected)  # [1, 2, 3, 4, 5]\n",
    "print(\"Taken:\", taken)  # [1, 2, 3]\n",
    "print(\"Sum:\", sum_result)  # 15\n",
    "print(\"Product:\", product_result)  # 120"
   ]
  }
 ],
 "metadata": {
  "kernelspec": {
   "display_name": "Python 3 (ipykernel)",
   "language": "python",
   "name": "python3"
  },
  "language_info": {
   "codemirror_mode": {
    "name": "ipython",
    "version": 3
   },
   "file_extension": ".py",
   "mimetype": "text/x-python",
   "name": "python",
   "nbconvert_exporter": "python",
   "pygments_lexer": "ipython3",
   "version": "3.11.6"
  }
 },
 "nbformat": 4,
 "nbformat_minor": 5
}
