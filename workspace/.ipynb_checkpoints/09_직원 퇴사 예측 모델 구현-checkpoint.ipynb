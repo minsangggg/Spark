{
 "cells": [
  {
   "cell_type": "code",
   "execution_count": 1,
   "id": "ca74360e-f4e2-4012-bc0e-b3f69dfe87b3",
   "metadata": {},
   "outputs": [],
   "source": [
    "from pyspark.sql import SparkSession\n",
    "\n",
    "MAX_MEMORY='8g'\n",
    "spark=SparkSession.builder.appName(\"HR-Employee-Attrition-Analysis\")\\\n",
    "                          .config('spark.driver.memory',MAX_MEMORY)\\\n",
    "                          .config('spark.executor.memory',MAX_MEMORY)\\\n",
    "                          .getOrCreate()\n"
   ]
  },
  {
   "cell_type": "code",
   "execution_count": 2,
   "id": "cc00a76c-fdeb-4634-b3bc-b06558601ed7",
   "metadata": {},
   "outputs": [
    {
     "name": "stdout",
     "output_type": "stream",
     "text": [
      "/home/jovyan/work/learning_spark_data/WA_Fn-UseC_-HR-Employee-Attrition.csv\n"
     ]
    }
   ],
   "source": [
    "import os\n",
    "cwd = os.getcwd()\n",
    "data_path = os.path.join(cwd, 'learning_spark_data', 'WA_Fn-UseC_-HR-Employee-Attrition.csv')\n",
    "print(data_path)"
   ]
  },
  {
   "cell_type": "code",
   "execution_count": 3,
   "id": "60bbd32a-46c5-4dd6-b325-35484a6e8568",
   "metadata": {},
   "outputs": [
    {
     "data": {
      "text/plain": [
       "'file:////home/jovyan/work/learning_spark_data/WA_Fn-UseC_-HR-Employee-Attrition.csv'"
      ]
     },
     "execution_count": 3,
     "metadata": {},
     "output_type": "execute_result"
    }
   ],
   "source": [
    "file_path=f\"file:///{data_path.replace(os.sep,'/')}\"\n",
    "file_path"
   ]
  },
  {
   "cell_type": "markdown",
   "id": "a17d5008-bfdb-4ea0-834f-cc68eb52db49",
   "metadata": {},
   "source": [
    "## DataFrame 읽기"
   ]
  },
  {
   "cell_type": "code",
   "execution_count": 4,
   "id": "90d811bc-6ac4-4e26-a7a7-8679ec79ee4c",
   "metadata": {},
   "outputs": [
    {
     "name": "stdout",
     "output_type": "stream",
     "text": [
      "root\n",
      " |-- Age: integer (nullable = true)\n",
      " |-- Attrition: string (nullable = true)\n",
      " |-- BusinessTravel: string (nullable = true)\n",
      " |-- DailyRate: integer (nullable = true)\n",
      " |-- Department: string (nullable = true)\n",
      " |-- DistanceFromHome: integer (nullable = true)\n",
      " |-- Education: integer (nullable = true)\n",
      " |-- EducationField: string (nullable = true)\n",
      " |-- EmployeeCount: integer (nullable = true)\n",
      " |-- EmployeeNumber: integer (nullable = true)\n",
      " |-- EnvironmentSatisfaction: integer (nullable = true)\n",
      " |-- Gender: string (nullable = true)\n",
      " |-- HourlyRate: integer (nullable = true)\n",
      " |-- JobInvolvement: integer (nullable = true)\n",
      " |-- JobLevel: integer (nullable = true)\n",
      " |-- JobRole: string (nullable = true)\n",
      " |-- JobSatisfaction: integer (nullable = true)\n",
      " |-- MaritalStatus: string (nullable = true)\n",
      " |-- MonthlyIncome: integer (nullable = true)\n",
      " |-- MonthlyRate: integer (nullable = true)\n",
      " |-- NumCompaniesWorked: integer (nullable = true)\n",
      " |-- Over18: string (nullable = true)\n",
      " |-- OverTime: string (nullable = true)\n",
      " |-- PercentSalaryHike: integer (nullable = true)\n",
      " |-- PerformanceRating: integer (nullable = true)\n",
      " |-- RelationshipSatisfaction: integer (nullable = true)\n",
      " |-- StandardHours: integer (nullable = true)\n",
      " |-- StockOptionLevel: integer (nullable = true)\n",
      " |-- TotalWorkingYears: integer (nullable = true)\n",
      " |-- TrainingTimesLastYear: integer (nullable = true)\n",
      " |-- WorkLifeBalance: integer (nullable = true)\n",
      " |-- YearsAtCompany: integer (nullable = true)\n",
      " |-- YearsInCurrentRole: integer (nullable = true)\n",
      " |-- YearsSinceLastPromotion: integer (nullable = true)\n",
      " |-- YearsWithCurrManager: integer (nullable = true)\n",
      "\n"
     ]
    }
   ],
   "source": [
    "\n",
    "hr_df=spark.read.csv(file_path, header=True, inferSchema=True)\n",
    "hr_df.printSchema()"
   ]
  },
  {
   "cell_type": "markdown",
   "id": "53c1e1b9-5343-4b6b-8841-3ba02be429c4",
   "metadata": {},
   "source": [
    "| 컬럼명                   | 간단 설명                                             |\n",
    "|--------------------------|------------------------------------------------------|\n",
    "| Age                      | 나이                                                 |\n",
    "| Attrition                | 이직 여부 (Yes/No)                                   |\n",
    "| BusinessTravel           | 출장 빈도 (Rarely, Frequently 등)                    |\n",
    "| DailyRate                | 일일 급여                                            |\n",
    "| Department               | 부서 (Sales, R&D 등)                                 |\n",
    "| DistanceFromHome         | 집-회사 거리(마일)                                   |\n",
    "| Education                | 교육 수준(1~5 단계)                                  |\n",
    "| EducationField           | 전공 분야 (Life Sciences 등)                         |\n",
    "| EmployeeCount            | 직원 수(항상 1, 의미 없음)                          |\n",
    "| EmployeeNumber           | 직원 고유번호(식별자)                                |\n",
    "| EnvironmentSatisfaction  | 근무 환경 만족도(1~4)                                |\n",
    "| Gender                   | 성별                                                |\n",
    "| HourlyRate               | 시급                                                |\n",
    "| JobInvolvement           | 직무 몰입도(1~4)                                    |\n",
    "| JobLevel                 | 직급(1~5)                                           |\n",
    "| JobRole                  | 직무명(연구원, 영업, 관리자 등)                     |\n",
    "| JobSatisfaction          | 직무 만족도(1~4)                                    |\n",
    "| MaritalStatus            | 결혼 상태(기혼/미혼/이혼 등)                        |\n",
    "| MonthlyIncome            | 월급                                                |\n",
    "| MonthlyRate              | 월 급여율(내부 계산용)                              |\n",
    "| NumCompaniesWorked       | 이직 전 근무 회사 수                                 |\n",
    "| Over18                   | 18세 이상 여부(항상 Y, 의미 없음)                   |\n",
    "| OverTime                 | 초과근무(야근) 여부(Yes/No)                         |\n",
    "| PercentSalaryHike        | 급여 인상률(%)                                       |\n",
    "| PerformanceRating        | 근무 성과평가(1~4, 거의 다 3~4)                      |\n",
    "| RelationshipSatisfaction | 대인 관계 만족도(1~4)                                |\n",
    "| StandardHours            | 표준 근무시간(항상 80, 의미 없음)                   |\n",
    "| StockOptionLevel         | 스톡옵션 지급수준(0~3)                               |\n",
    "| TotalWorkingYears        | 총 근무 경력(년)                                     |\n",
    "| TrainingTimesLastYear    | 1년간 교육 이수 횟수                                 |\n",
    "| WorkLifeBalance          | 일과 삶 균형(1~4)                                    |\n",
    "| YearsAtCompany           | 현 회사 근무 연수(년)                                |\n",
    "| YearsInCurrentRole       | 현 직무 연수(년)                                     |\n",
    "| YearsSinceLastPromotion  | 최근 승진 이후 연수(년)                              |\n",
    "| YearsWithCurrManager     | 현재 상사와 함께한 연수(년)                          |\n"
   ]
  },
  {
   "cell_type": "markdown",
   "id": "9c958412-2a53-4eb5-a611-97b87c69fd86",
   "metadata": {},
   "source": [
    "## 전처리 전 체크"
   ]
  },
  {
   "cell_type": "code",
   "execution_count": 5,
   "id": "7253b2fb-04cc-458d-86f1-60424970f70e",
   "metadata": {},
   "outputs": [
    {
     "name": "stdout",
     "output_type": "stream",
     "text": [
      "Row count: 1470, Column count: 35\n"
     ]
    }
   ],
   "source": [
    "# 행/열 수 확인\n",
    "print(f\"Row count: {hr_df.count()}, Column count: {len(hr_df.columns)}\")"
   ]
  },
  {
   "cell_type": "code",
   "execution_count": 6,
   "id": "f379f830-7b5d-48a9-9e0b-b64b023d77a3",
   "metadata": {},
   "outputs": [
    {
     "data": {
      "text/html": [
       "<div>\n",
       "<style scoped>\n",
       "    .dataframe tbody tr th:only-of-type {\n",
       "        vertical-align: middle;\n",
       "    }\n",
       "\n",
       "    .dataframe tbody tr th {\n",
       "        vertical-align: top;\n",
       "    }\n",
       "\n",
       "    .dataframe thead th {\n",
       "        text-align: right;\n",
       "    }\n",
       "</style>\n",
       "<table border=\"1\" class=\"dataframe\">\n",
       "  <thead>\n",
       "    <tr style=\"text-align: right;\">\n",
       "      <th></th>\n",
       "      <th>summary</th>\n",
       "      <th>Age</th>\n",
       "      <th>Attrition</th>\n",
       "      <th>BusinessTravel</th>\n",
       "      <th>DailyRate</th>\n",
       "      <th>Department</th>\n",
       "      <th>DistanceFromHome</th>\n",
       "      <th>Education</th>\n",
       "      <th>EducationField</th>\n",
       "      <th>EmployeeCount</th>\n",
       "      <th>...</th>\n",
       "      <th>RelationshipSatisfaction</th>\n",
       "      <th>StandardHours</th>\n",
       "      <th>StockOptionLevel</th>\n",
       "      <th>TotalWorkingYears</th>\n",
       "      <th>TrainingTimesLastYear</th>\n",
       "      <th>WorkLifeBalance</th>\n",
       "      <th>YearsAtCompany</th>\n",
       "      <th>YearsInCurrentRole</th>\n",
       "      <th>YearsSinceLastPromotion</th>\n",
       "      <th>YearsWithCurrManager</th>\n",
       "    </tr>\n",
       "  </thead>\n",
       "  <tbody>\n",
       "    <tr>\n",
       "      <th>0</th>\n",
       "      <td>count</td>\n",
       "      <td>1470</td>\n",
       "      <td>1470</td>\n",
       "      <td>1470</td>\n",
       "      <td>1470</td>\n",
       "      <td>1470</td>\n",
       "      <td>1470</td>\n",
       "      <td>1470</td>\n",
       "      <td>1470</td>\n",
       "      <td>1470</td>\n",
       "      <td>...</td>\n",
       "      <td>1470</td>\n",
       "      <td>1470</td>\n",
       "      <td>1470</td>\n",
       "      <td>1470</td>\n",
       "      <td>1470</td>\n",
       "      <td>1470</td>\n",
       "      <td>1470</td>\n",
       "      <td>1470</td>\n",
       "      <td>1470</td>\n",
       "      <td>1470</td>\n",
       "    </tr>\n",
       "    <tr>\n",
       "      <th>1</th>\n",
       "      <td>mean</td>\n",
       "      <td>36.923809523809524</td>\n",
       "      <td>None</td>\n",
       "      <td>None</td>\n",
       "      <td>802.4857142857143</td>\n",
       "      <td>None</td>\n",
       "      <td>9.19251700680272</td>\n",
       "      <td>2.912925170068027</td>\n",
       "      <td>None</td>\n",
       "      <td>1.0</td>\n",
       "      <td>...</td>\n",
       "      <td>2.7122448979591836</td>\n",
       "      <td>80.0</td>\n",
       "      <td>0.7938775510204081</td>\n",
       "      <td>11.279591836734694</td>\n",
       "      <td>2.7993197278911564</td>\n",
       "      <td>2.7612244897959184</td>\n",
       "      <td>7.0081632653061225</td>\n",
       "      <td>4.229251700680272</td>\n",
       "      <td>2.1877551020408164</td>\n",
       "      <td>4.12312925170068</td>\n",
       "    </tr>\n",
       "    <tr>\n",
       "      <th>2</th>\n",
       "      <td>stddev</td>\n",
       "      <td>9.135373489136729</td>\n",
       "      <td>None</td>\n",
       "      <td>None</td>\n",
       "      <td>403.50909994352804</td>\n",
       "      <td>None</td>\n",
       "      <td>8.10686443566608</td>\n",
       "      <td>1.0241649445978718</td>\n",
       "      <td>None</td>\n",
       "      <td>0.0</td>\n",
       "      <td>...</td>\n",
       "      <td>1.0812088864403517</td>\n",
       "      <td>0.0</td>\n",
       "      <td>0.8520766679308381</td>\n",
       "      <td>7.780781675514995</td>\n",
       "      <td>1.2892706207958466</td>\n",
       "      <td>0.7064758297141507</td>\n",
       "      <td>6.126525152403571</td>\n",
       "      <td>3.623137034670627</td>\n",
       "      <td>3.2224302791379693</td>\n",
       "      <td>3.5681361205404363</td>\n",
       "    </tr>\n",
       "    <tr>\n",
       "      <th>3</th>\n",
       "      <td>min</td>\n",
       "      <td>18</td>\n",
       "      <td>No</td>\n",
       "      <td>Non-Travel</td>\n",
       "      <td>102</td>\n",
       "      <td>Human Resources</td>\n",
       "      <td>1</td>\n",
       "      <td>1</td>\n",
       "      <td>Human Resources</td>\n",
       "      <td>1</td>\n",
       "      <td>...</td>\n",
       "      <td>1</td>\n",
       "      <td>80</td>\n",
       "      <td>0</td>\n",
       "      <td>0</td>\n",
       "      <td>0</td>\n",
       "      <td>1</td>\n",
       "      <td>0</td>\n",
       "      <td>0</td>\n",
       "      <td>0</td>\n",
       "      <td>0</td>\n",
       "    </tr>\n",
       "    <tr>\n",
       "      <th>4</th>\n",
       "      <td>max</td>\n",
       "      <td>60</td>\n",
       "      <td>Yes</td>\n",
       "      <td>Travel_Rarely</td>\n",
       "      <td>1499</td>\n",
       "      <td>Sales</td>\n",
       "      <td>29</td>\n",
       "      <td>5</td>\n",
       "      <td>Technical Degree</td>\n",
       "      <td>1</td>\n",
       "      <td>...</td>\n",
       "      <td>4</td>\n",
       "      <td>80</td>\n",
       "      <td>3</td>\n",
       "      <td>40</td>\n",
       "      <td>6</td>\n",
       "      <td>4</td>\n",
       "      <td>40</td>\n",
       "      <td>18</td>\n",
       "      <td>15</td>\n",
       "      <td>17</td>\n",
       "    </tr>\n",
       "  </tbody>\n",
       "</table>\n",
       "<p>5 rows × 36 columns</p>\n",
       "</div>"
      ],
      "text/plain": [
       "  summary                 Age Attrition BusinessTravel           DailyRate  \\\n",
       "0   count                1470      1470           1470                1470   \n",
       "1    mean  36.923809523809524      None           None   802.4857142857143   \n",
       "2  stddev   9.135373489136729      None           None  403.50909994352804   \n",
       "3     min                  18        No     Non-Travel                 102   \n",
       "4     max                  60       Yes  Travel_Rarely                1499   \n",
       "\n",
       "        Department  DistanceFromHome           Education    EducationField  \\\n",
       "0             1470              1470                1470              1470   \n",
       "1             None  9.19251700680272   2.912925170068027              None   \n",
       "2             None  8.10686443566608  1.0241649445978718              None   \n",
       "3  Human Resources                 1                   1   Human Resources   \n",
       "4            Sales                29                   5  Technical Degree   \n",
       "\n",
       "  EmployeeCount  ... RelationshipSatisfaction StandardHours  \\\n",
       "0          1470  ...                     1470          1470   \n",
       "1           1.0  ...       2.7122448979591836          80.0   \n",
       "2           0.0  ...       1.0812088864403517           0.0   \n",
       "3             1  ...                        1            80   \n",
       "4             1  ...                        4            80   \n",
       "\n",
       "     StockOptionLevel   TotalWorkingYears TrainingTimesLastYear  \\\n",
       "0                1470                1470                  1470   \n",
       "1  0.7938775510204081  11.279591836734694    2.7993197278911564   \n",
       "2  0.8520766679308381   7.780781675514995    1.2892706207958466   \n",
       "3                   0                   0                     0   \n",
       "4                   3                  40                     6   \n",
       "\n",
       "      WorkLifeBalance      YearsAtCompany YearsInCurrentRole  \\\n",
       "0                1470                1470               1470   \n",
       "1  2.7612244897959184  7.0081632653061225  4.229251700680272   \n",
       "2  0.7064758297141507   6.126525152403571  3.623137034670627   \n",
       "3                   1                   0                  0   \n",
       "4                   4                  40                 18   \n",
       "\n",
       "  YearsSinceLastPromotion YearsWithCurrManager  \n",
       "0                    1470                 1470  \n",
       "1      2.1877551020408164     4.12312925170068  \n",
       "2      3.2224302791379693   3.5681361205404363  \n",
       "3                       0                    0  \n",
       "4                      15                   17  \n",
       "\n",
       "[5 rows x 36 columns]"
      ]
     },
     "metadata": {},
     "output_type": "display_data"
    }
   ],
   "source": [
    "# PySpark → Pandas 변환\n",
    "desc_pd = hr_df.describe().toPandas()\n",
    "display(desc_pd)  # Jupyter 환경이면 표로 보여줌"
   ]
  },
  {
   "cell_type": "code",
   "execution_count": 7,
   "id": "c15a78a6-2281-495b-8f28-f2e24dab8a65",
   "metadata": {},
   "outputs": [
    {
     "name": "stdout",
     "output_type": "stream",
     "text": [
      "['Attrition', 'BusinessTravel', 'Department', 'EducationField', 'Gender', 'JobRole', 'MaritalStatus', 'Over18', 'OverTime']\n"
     ]
    }
   ],
   "source": [
    "# 데이터 타입이 문자열(StringType)인 컬럼만 추출\n",
    "\n",
    "from pyspark.sql.types import StringType\n",
    "\n",
    "cat_cols = [f.name for f in hr_df.schema.fields if isinstance(f.dataType, StringType)]\n",
    "print(cat_cols)"
   ]
  },
  {
   "cell_type": "markdown",
   "id": "ecb87562-7a6e-4d3c-9e04-9a260a86c474",
   "metadata": {},
   "source": [
    "| 구분                    | 컬럼명                                                      | 간단 설명                                 |\r\n",
    "|-------------------------|-------------------------------------------------------------|-------------------------------------------|\r\n",
    "| **전처리(인코딩) 대상** | Department, JobRole, Gender, OverTime, MaritalStatus,        | 부서, 직무, 성별, 야근, 결혼상태,         |\r\n",
    "|                         | EducationField, BusinessTravel                              | 전공, 출장 변수         |"
   ]
  },
  {
   "cell_type": "markdown",
   "id": "4e522f45-0d2d-48ba-85f1-c09ae3c2cf1a",
   "metadata": {},
   "source": [
    "## 필수 컬럼 추출(SQL 쿼리)"
   ]
  },
  {
   "cell_type": "code",
   "execution_count": 8,
   "id": "9969a326-48bd-46ee-8824-396b6bb47d3a",
   "metadata": {},
   "outputs": [
    {
     "name": "stdout",
     "output_type": "stream",
     "text": [
      "+---+---------+----------------+----------+--------+-------------+-----------+------------------+-----------------+-----------------+---------------------+--------------+------------------+-----------------------+--------------------+------+-------------+--------------------+--------------------+--------+--------------+-----------------+---------+\n",
      "|Age|DailyRate|DistanceFromHome|HourlyRate|JobLevel|MonthlyIncome|MonthlyRate|NumCompaniesWorked|PercentSalaryHike|TotalWorkingYears|TrainingTimesLastYear|YearsAtCompany|YearsInCurrentRole|YearsSinceLastPromotion|YearsWithCurrManager|Gender|MaritalStatus|          Department|             JobRole|OverTime|EducationField|   BusinessTravel|Attrition|\n",
      "+---+---------+----------------+----------+--------+-------------+-----------+------------------+-----------------+-----------------+---------------------+--------------+------------------+-----------------------+--------------------+------+-------------+--------------------+--------------------+--------+--------------+-----------------+---------+\n",
      "| 41|     1102|               1|        94|       2|         5993|      19479|                 8|               11|                8|                    0|             6|                 4|                      0|                   5|Female|       Single|               Sales|     Sales Executive|     Yes| Life Sciences|    Travel_Rarely|      Yes|\n",
      "| 49|      279|               8|        61|       2|         5130|      24907|                 1|               23|               10|                    3|            10|                 7|                      1|                   7|  Male|      Married|Research & Develo...|  Research Scientist|      No| Life Sciences|Travel_Frequently|       No|\n",
      "| 37|     1373|               2|        92|       1|         2090|       2396|                 6|               15|                7|                    3|             0|                 0|                      0|                   0|  Male|       Single|Research & Develo...|Laboratory Techni...|     Yes|         Other|    Travel_Rarely|      Yes|\n",
      "| 33|     1392|               3|        56|       1|         2909|      23159|                 1|               11|                8|                    3|             8|                 7|                      3|                   0|Female|      Married|Research & Develo...|  Research Scientist|     Yes| Life Sciences|Travel_Frequently|       No|\n",
      "| 27|      591|               2|        40|       1|         3468|      16632|                 9|               12|                6|                    3|             2|                 2|                      2|                   2|  Male|      Married|Research & Develo...|Laboratory Techni...|      No|       Medical|    Travel_Rarely|       No|\n",
      "+---+---------+----------------+----------+--------+-------------+-----------+------------------+-----------------+-----------------+---------------------+--------------+------------------+-----------------------+--------------------+------+-------------+--------------------+--------------------+--------+--------------+-----------------+---------+\n",
      "only showing top 5 rows\n",
      "\n"
     ]
    }
   ],
   "source": [
    "hr_df.createOrReplaceTempView('hr_data')\n",
    "\n",
    "query = \"\"\"\n",
    "SELECT \n",
    "    Age,\n",
    "    DailyRate,\n",
    "    DistanceFromHome,\n",
    "    HourlyRate,\n",
    "    JobLevel,\n",
    "    MonthlyIncome,\n",
    "    MonthlyRate,\n",
    "    NumCompaniesWorked,\n",
    "    PercentSalaryHike,\n",
    "    TotalWorkingYears,\n",
    "    TrainingTimesLastYear,\n",
    "    YearsAtCompany,\n",
    "    YearsInCurrentRole,\n",
    "    YearsSinceLastPromotion,\n",
    "    YearsWithCurrManager,\n",
    "    Gender,\n",
    "    MaritalStatus,\n",
    "    Department,\n",
    "    JobRole,\n",
    "    OverTime,\n",
    "    EducationField,\n",
    "    BusinessTravel,\n",
    "    Attrition\n",
    "FROM hr_data\n",
    " \n",
    " WHERE Age > 18\n",
    "  AND MonthlyIncome > 0\n",
    "  AND YearsAtCompany >= 0\n",
    "  AND TotalWorkingYears >= 0\n",
    "  AND Attrition IN ('Yes', 'No')\n",
    "  AND Age IS NOT NULL\n",
    "  AND MonthlyIncome IS NOT NULL\n",
    "  AND YearsAtCompany IS NOT NULL\n",
    "  AND TotalWorkingYears IS NOT NULL\n",
    "\"\"\"\n",
    "\n",
    "filtered_hr_df = spark.sql(query)\n",
    "filtered_hr_df.show(5)"
   ]
  },
  {
   "cell_type": "markdown",
   "id": "9594437b-2471-4a5d-87db-36a6f9b29ec7",
   "metadata": {},
   "source": [
    "## 전처리"
   ]
  },
  {
   "cell_type": "code",
   "execution_count": 9,
   "id": "51426773-b762-44d2-bf64-d47965d88a10",
   "metadata": {},
   "outputs": [],
   "source": [
    "# 2. 수치형(연속형) 변수 리스트 (Imputer, 스케일링 등 전처리용)\n",
    "num_features = [\n",
    "    'Age',\n",
    "    'DailyRate',\n",
    "    'DistanceFromHome',\n",
    "    'HourlyRate',\n",
    "    'JobLevel',\n",
    "    'MonthlyIncome',\n",
    "    'MonthlyRate',\n",
    "    'NumCompaniesWorked',\n",
    "    'PercentSalaryHike',\n",
    "    'TotalWorkingYears',\n",
    "    'TrainingTimesLastYear',\n",
    "    'YearsAtCompany',\n",
    "    'YearsInCurrentRole',\n",
    "    'YearsSinceLastPromotion',\n",
    "    'YearsWithCurrManager'\n",
    "]\n",
    "\n",
    "# 3. 범주형(카테고리) 변수 리스트 (인코딩용)\n",
    "cat_features = [\n",
    "    'Gender',\n",
    "    'MaritalStatus',\n",
    "    'Department',\n",
    "    'JobRole',\n",
    "    'OverTime',\n",
    "    'EducationField',\n",
    "    'BusinessTravel'\n",
    "]\n",
    "\n",
    "# 4. 타깃 변수\n",
    "target_col = 'Attrition'"
   ]
  },
  {
   "cell_type": "code",
   "execution_count": 10,
   "id": "32f6dcf6-fb2e-4b29-aa25-18319c9a5029",
   "metadata": {},
   "outputs": [
    {
     "name": "stdout",
     "output_type": "stream",
     "text": [
      "결측치가 1개 이상 있는 컬럼: []\n"
     ]
    }
   ],
   "source": [
    "from pyspark.sql.functions import col, sum, when\n",
    "\n",
    "# 컬럼별 결측치 개수 딕셔너리로 추출\n",
    "null_counts = {\n",
    "    c: filtered_hr_df.filter(col(c).isNull()).count()\n",
    "    for c in filtered_hr_df.columns\n",
    "}\n",
    "\n",
    "# 결측치가 1개 이상인 컬럼만 추출\n",
    "null_cols = [col for col, cnt in null_counts.items() if cnt > 0]\n",
    "print(f\"결측치가 1개 이상 있는 컬럼: {null_cols}\")\n"
   ]
  },
  {
   "cell_type": "markdown",
   "id": "7372a681-8f24-4d6c-a090-363e71e8f90c",
   "metadata": {},
   "source": [
    "## 범주형 변수 인코딩"
   ]
  },
  {
   "cell_type": "code",
   "execution_count": 11,
   "id": "69666dcd-e6d2-4994-88b5-371643c1a0ed",
   "metadata": {},
   "outputs": [],
   "source": [
    "from pyspark.ml.feature import StringIndexer, OneHotEncoder\n",
    "\n",
    "#1. 범주형 변수 리스트 한번 더 지정\n",
    "cat_features = [\n",
    "    'Gender',\n",
    "    'MaritalStatus',\n",
    "    'Department',\n",
    "    'JobRole',\n",
    "    'OverTime',\n",
    "    'EducationField',\n",
    "    'BusinessTravel'\n",
    "]\n",
    "\n",
    "#2. 인코더 스테이지 리스트 생성\n",
    "stages= []\n",
    "\n",
    "# 2-1. StringIndexer (문자->숫자)\n",
    "for col_name in cat_features:\n",
    "    indexer=StringIndexer(\n",
    "        inputCol=col_name,\n",
    "        outputCol=col_name+ \"_idx\",\n",
    "        handleInvalid='skip' #결측, 미지정값도 인코딩\n",
    "    )\n",
    "    stages.append(indexer)\n",
    "\n",
    "#2-2. 원핫인코딩(라벨->벡터)\n",
    "onehot_encoder=OneHotEncoder(\n",
    "    inputCols=[col+\"_idx\" for col in cat_features],\n",
    "    outputCols=[col + \"onehot\" for col in cat_features]\n",
    "\n",
    ")\n",
    "stages.append(onehot_encoder)\n",
    "\n"
   ]
  },
  {
   "cell_type": "markdown",
   "id": "caba65ec-a77c-4fea-a912-c4d6d3e3b470",
   "metadata": {},
   "source": [
    "## 파이프 라인 구축"
   ]
  },
  {
   "cell_type": "code",
   "execution_count": 12,
   "id": "c6ad36d0-18b9-4697-a791-86d38a184200",
   "metadata": {
    "scrolled": true
   },
   "outputs": [
    {
     "name": "stdout",
     "output_type": "stream",
     "text": [
      "+-------------+-------------------+----------------+-------------+--------------+--------------------+--------------------+\n",
      "|Genderonehot |MaritalStatusonehot|Departmentonehot|JobRoleonehot|OverTimeonehot|EducationFieldonehot|BusinessTravelonehot|\n",
      "+-------------+-------------------+----------------+-------------+--------------+--------------------+--------------------+\n",
      "|(1,[],[])    |(2,[1],[1.0])      |(2,[1],[1.0])   |(8,[0],[1.0])|(1,[],[])     |(5,[0],[1.0])       |(2,[0],[1.0])       |\n",
      "|(1,[0],[1.0])|(2,[0],[1.0])      |(2,[0],[1.0])   |(8,[1],[1.0])|(1,[0],[1.0]) |(5,[0],[1.0])       |(2,[1],[1.0])       |\n",
      "|(1,[0],[1.0])|(2,[1],[1.0])      |(2,[0],[1.0])   |(8,[2],[1.0])|(1,[],[])     |(5,[4],[1.0])       |(2,[0],[1.0])       |\n",
      "+-------------+-------------------+----------------+-------------+--------------+--------------------+--------------------+\n",
      "only showing top 3 rows\n",
      "\n"
     ]
    }
   ],
   "source": [
    "# 파이프라인 생성 및 변환\n",
    "from pyspark.ml import Pipeline\n",
    "\n",
    "pipeline = Pipeline(stages=stages)\n",
    "onehot_model = pipeline.fit(filtered_hr_df)  \n",
    "encoded_df = onehot_model.transform(filtered_hr_df)  \n",
    "\n",
    "# 3. 결과 확인 (벡터 컬럼 일부)\n",
    "onehot_cols = [\n",
    "    \"Genderonehot\", \"MaritalStatusonehot\", \"Departmentonehot\",\n",
    "    \"JobRoleonehot\", \"OverTimeonehot\", \"EducationFieldonehot\", \"BusinessTravelonehot\"\n",
    "]\n",
    "encoded_df.select(onehot_cols).show(3, truncate=False)"
   ]
  },
  {
   "cell_type": "code",
   "execution_count": 13,
   "id": "879e950c-6ee1-4189-8f35-34a47dea6210",
   "metadata": {},
   "outputs": [
    {
     "name": "stdout",
     "output_type": "stream",
     "text": [
      "+----------------------------------------------------------------------------------------------------------------------------------------------------------------------+\n",
      "|feature_vector                                                                                                                                                        |\n",
      "+----------------------------------------------------------------------------------------------------------------------------------------------------------------------+\n",
      "|(36,[0,1,2,3,4,5,6,7,8,9,11,12,14,17,19,20,29,34],[41.0,1102.0,1.0,94.0,2.0,5993.0,19479.0,8.0,11.0,8.0,6.0,4.0,5.0,1.0,1.0,1.0,1.0,1.0])                             |\n",
      "|(36,[0,1,2,3,4,5,6,7,8,9,10,11,12,13,14,15,16,18,21,28,29,35],[49.0,279.0,8.0,61.0,2.0,5130.0,24907.0,1.0,23.0,10.0,3.0,10.0,7.0,1.0,7.0,1.0,1.0,1.0,1.0,1.0,1.0,1.0])|\n",
      "|(36,[0,1,2,3,4,5,6,7,8,9,10,15,17,18,22,33,34],[37.0,1373.0,2.0,92.0,1.0,2090.0,2396.0,6.0,15.0,7.0,3.0,1.0,1.0,1.0,1.0,1.0,1.0])                                     |\n",
      "+----------------------------------------------------------------------------------------------------------------------------------------------------------------------+\n",
      "only showing top 3 rows\n",
      "\n",
      "root\n",
      " |-- Age: integer (nullable = true)\n",
      " |-- DailyRate: integer (nullable = true)\n",
      " |-- DistanceFromHome: integer (nullable = true)\n",
      " |-- HourlyRate: integer (nullable = true)\n",
      " |-- JobLevel: integer (nullable = true)\n",
      " |-- MonthlyIncome: integer (nullable = true)\n",
      " |-- MonthlyRate: integer (nullable = true)\n",
      " |-- NumCompaniesWorked: integer (nullable = true)\n",
      " |-- PercentSalaryHike: integer (nullable = true)\n",
      " |-- TotalWorkingYears: integer (nullable = true)\n",
      " |-- TrainingTimesLastYear: integer (nullable = true)\n",
      " |-- YearsAtCompany: integer (nullable = true)\n",
      " |-- YearsInCurrentRole: integer (nullable = true)\n",
      " |-- YearsSinceLastPromotion: integer (nullable = true)\n",
      " |-- YearsWithCurrManager: integer (nullable = true)\n",
      " |-- Gender: string (nullable = true)\n",
      " |-- MaritalStatus: string (nullable = true)\n",
      " |-- Department: string (nullable = true)\n",
      " |-- JobRole: string (nullable = true)\n",
      " |-- OverTime: string (nullable = true)\n",
      " |-- EducationField: string (nullable = true)\n",
      " |-- BusinessTravel: string (nullable = true)\n",
      " |-- Attrition: string (nullable = true)\n",
      " |-- Gender_idx: double (nullable = false)\n",
      " |-- MaritalStatus_idx: double (nullable = false)\n",
      " |-- Department_idx: double (nullable = false)\n",
      " |-- JobRole_idx: double (nullable = false)\n",
      " |-- OverTime_idx: double (nullable = false)\n",
      " |-- EducationField_idx: double (nullable = false)\n",
      " |-- BusinessTravel_idx: double (nullable = false)\n",
      " |-- Genderonehot: vector (nullable = true)\n",
      " |-- MaritalStatusonehot: vector (nullable = true)\n",
      " |-- Departmentonehot: vector (nullable = true)\n",
      " |-- JobRoleonehot: vector (nullable = true)\n",
      " |-- OverTimeonehot: vector (nullable = true)\n",
      " |-- EducationFieldonehot: vector (nullable = true)\n",
      " |-- BusinessTravelonehot: vector (nullable = true)\n",
      " |-- feature_vector: vector (nullable = true)\n",
      "\n"
     ]
    }
   ],
   "source": [
    "from pyspark.ml.feature import VectorAssembler\n",
    "\n",
    "#1. 수치형 피쳐 + 원한인코딩 컬럼명 합치기\n",
    "assembler_input= num_features+ onehot_cols\n",
    "\n",
    "#2. VectorAssembler로 feature_vector 생성\n",
    "assembler= VectorAssembler(\n",
    "    inputCols=assembler_input,\n",
    "    outputCol=\"feature_vector\"\n",
    ")\n",
    "\n",
    "final_df=assembler.transform(encoded_df)\n",
    "\n",
    "#3. 결과 구조 확인\n",
    "final_df.select(\"feature_vector\").show(3, truncate=False)\n",
    "final_df.printSchema()"
   ]
  },
  {
   "cell_type": "markdown",
   "id": "23e59b12-9824-4320-9a78-b5122f97f28b",
   "metadata": {},
   "source": [
    "## 타깃 변수(Attrition) 인코딩"
   ]
  },
  {
   "cell_type": "markdown",
   "id": "6f5128f4-83c1-4448-8db5-202ef4fdd3c9",
   "metadata": {},
   "source": [
    "#### 1. 3개의 클래스로 다중분류로 인식되는걸 조심하기\n",
    "#### 2. 클래수 개수만큼 벡터가 만들어지는거 유의하기"
   ]
  },
  {
   "cell_type": "code",
   "execution_count": 14,
   "id": "31c0d350-7dcd-47b6-ab81-a5c56817f93c",
   "metadata": {},
   "outputs": [
    {
     "name": "stdout",
     "output_type": "stream",
     "text": [
      "+---------+-----+\n",
      "|Attrition|label|\n",
      "+---------+-----+\n",
      "|      Yes|  1.0|\n",
      "|       No|  0.0|\n",
      "|      Yes|  1.0|\n",
      "|       No|  0.0|\n",
      "|       No|  0.0|\n",
      "+---------+-----+\n",
      "only showing top 5 rows\n",
      "\n"
     ]
    }
   ],
   "source": [
    "from pyspark.ml.feature import StringIndexer\n",
    "\n",
    "label_indexer = StringIndexer(\n",
    "    inputCol=\"Attrition\", \n",
    "    outputCol=\"label\", \n",
    "    handleInvalid=\"skip\"\n",
    ")\n",
    "final_df_with_label = label_indexer.fit(final_df).transform(final_df)\n",
    "\n",
    "#label에서 null/NaN/이상값 완전 제거\n",
    "final_df_with_label = final_df_with_label.filter(\"label in (0, 1)\")\n",
    "final_df_with_label = final_df_with_label.filter(\"label is not null\")\n",
    "\n",
    "# label 컬럼(이진값) 생성 확인\n",
    "final_df_with_label.select(\"Attrition\", \"label\").show(5)"
   ]
  },
  {
   "cell_type": "code",
   "execution_count": 15,
   "id": "0cdc0310-df87-4a96-8899-3611c6a13e29",
   "metadata": {},
   "outputs": [
    {
     "name": "stdout",
     "output_type": "stream",
     "text": [
      "+-----+\n",
      "|label|\n",
      "+-----+\n",
      "|  0.0|\n",
      "|  1.0|\n",
      "+-----+\n",
      "\n"
     ]
    }
   ],
   "source": [
    "final_df_with_label.select(\"label\").distinct().show()"
   ]
  },
  {
   "cell_type": "markdown",
   "id": "4b54a6cb-d887-4935-899a-e58cca6c0345",
   "metadata": {},
   "source": [
    "## 학습/테스트 데이터 분할"
   ]
  },
  {
   "cell_type": "code",
   "execution_count": 16,
   "id": "f3036914-3530-4c0a-9633-4ae7c079a5c8",
   "metadata": {},
   "outputs": [
    {
     "name": "stdout",
     "output_type": "stream",
     "text": [
      "Train size: 1209\n",
      "Test size: 253\n"
     ]
    }
   ],
   "source": [
    "train_df, test_df = final_df_with_label.randomSplit([0.8, 0.2], seed=42)\n",
    "print(\"Train size:\", train_df.count())\n",
    "print(\"Test size:\", test_df.count())"
   ]
  },
  {
   "cell_type": "markdown",
   "id": "5095fb48-adee-4daf-9a34-2acd38a29363",
   "metadata": {},
   "source": [
    "## 모델 객체 생성 및 학습"
   ]
  },
  {
   "cell_type": "code",
   "execution_count": 17,
   "id": "948a7eb0-1c1b-4006-bf74-75981b6927ed",
   "metadata": {},
   "outputs": [],
   "source": [
    "from pyspark.ml.classification import RandomForestClassifier\n",
    "from pyspark.ml.evaluation import BinaryClassificationEvaluator\n",
    "\n",
    "rf = RandomForestClassifier(\n",
    "    featuresCol=\"feature_vector\", \n",
    "    labelCol=\"label\",\n",
    "    predictionCol=\"prediction\",\n",
    "    probabilityCol=\"probability\",\n",
    "    seed=42\n",
    ")\n",
    "\n",
    "rf_model = rf.fit(train_df)"
   ]
  },
  {
   "cell_type": "markdown",
   "id": "4468aa90-70a7-422f-aed8-4e42c4b2bf9f",
   "metadata": {},
   "source": [
    "## 예측 및 결과 확인"
   ]
  },
  {
   "cell_type": "code",
   "execution_count": 21,
   "id": "c69730a4-5458-4d2c-bd21-170ed745f54c",
   "metadata": {},
   "outputs": [],
   "source": [
    "from pyspark.ml.feature import OneHotEncoderModel\n",
    "\n",
    "# 올바르게 파이프라인 모델에서 OneHotEncoderModel 추출\n",
    "ohe_models = [s for s in onehot_model.stages if isinstance(s, OneHotEncoderModel)]\n",
    "category_sizes = []\n",
    "for ohe_model in ohe_models:\n",
    "    category_sizes += ohe_model.categorySizes\n",
    "\n",
    "feature_names = []\n",
    "feature_names += num_features  # ex: ['Age', ...]\n",
    "for col, n in zip(cat_features, category_sizes):\n",
    "    for i in range(n-1):\n",
    "        feature_names.append(f\"{col}_onehot_{i}\")\n",
    "\n",
    "importances = rf_model.featureImportances.toArray()\n",
    "assert len(feature_names) == len(importances)\n",
    "\n"
   ]
  },
  {
   "cell_type": "code",
   "execution_count": 23,
   "id": "93198538-ef9e-4218-a917-61da94ec6799",
   "metadata": {},
   "outputs": [
    {
     "name": "stdout",
     "output_type": "stream",
     "text": [
      "+---------+-----+----------+----------------------------------------+\n",
      "|Attrition|label|prediction|probability                             |\n",
      "+---------+-----+----------+----------------------------------------+\n",
      "|Yes      |1.0  |1.0       |[0.42381792507495175,0.5761820749250484]|\n",
      "|Yes      |1.0  |1.0       |[0.490022072823983,0.509977927176017]   |\n",
      "|No       |0.0  |0.0       |[0.503393552337559,0.49660644766244105] |\n",
      "|Yes      |1.0  |0.0       |[0.5515562321730886,0.4484437678269114] |\n",
      "|Yes      |1.0  |0.0       |[0.5621894328294144,0.4378105671705856] |\n",
      "|No       |0.0  |0.0       |[0.5241986829667853,0.47580131703321477]|\n",
      "|No       |0.0  |0.0       |[0.7609113555232065,0.23908864447679337]|\n",
      "|Yes      |1.0  |1.0       |[0.4118411419387512,0.5881588580612488] |\n",
      "|Yes      |1.0  |0.0       |[0.5498105159205136,0.4501894840794864] |\n",
      "|No       |0.0  |0.0       |[0.8986399034813225,0.10136009651867754]|\n",
      "+---------+-----+----------+----------------------------------------+\n",
      "only showing top 10 rows\n",
      "\n"
     ]
    }
   ],
   "source": [
    "predictions = rf_model.transform(test_df)\n",
    "predictions.select(\"Attrition\", \"label\", \"prediction\", \"probability\").show(10, truncate=False)"
   ]
  },
  {
   "cell_type": "markdown",
   "id": "9b588604-6223-470e-bade-25e2ee5b9a5a",
   "metadata": {},
   "source": [
    "## 평가지표(정확도, ROC-AUC)"
   ]
  },
  {
   "cell_type": "code",
   "execution_count": null,
   "id": "03c013d0-4be4-46ac-8b02-5570a4991245",
   "metadata": {},
   "outputs": [],
   "source": []
  },
  {
   "cell_type": "code",
   "execution_count": 24,
   "id": "52ab1f5c-261e-4cea-9b90-fb4bf3ce85da",
   "metadata": {},
   "outputs": [
    {
     "name": "stdout",
     "output_type": "stream",
     "text": [
      "ROC-AUC: 0.7077\n",
      "Accuracy: 0.8379\n"
     ]
    }
   ],
   "source": [
    "evaluator = BinaryClassificationEvaluator(\n",
    "    labelCol=\"label\", \n",
    "    rawPredictionCol=\"probability\",  # probability or rawPrediction\n",
    "    metricName=\"areaUnderROC\"\n",
    ")\n",
    "\n",
    "roc_auc = evaluator.evaluate(predictions)\n",
    "print(f\"ROC-AUC: {roc_auc:.4f}\")\n",
    "\n",
    "# 정확도\n",
    "accuracy = predictions.filter(\"label = prediction\").count() / predictions.count()\n",
    "print(f\"Accuracy: {accuracy:.4f}\")"
   ]
  },
  {
   "cell_type": "code",
   "execution_count": 20,
   "id": "b9fbf4fc-9422-413e-ad72-52a70dbe8cb9",
   "metadata": {},
   "outputs": [
    {
     "name": "stdout",
     "output_type": "stream",
     "text": [
      "Train labels: [0.0, 1.0]\n",
      "Test labels: [0.0, 1.0]\n"
     ]
    }
   ],
   "source": [
    "#print(\"Train labels:\", train_df.select(\"label\").distinct().rdd.flatMap(lambda x: x).collect())\n",
    "#print(\"Test labels:\", test_df.select(\"label\").distinct().rdd.flatMap(lambda x: x).collect())"
   ]
  },
  {
   "cell_type": "markdown",
   "id": "2247cca3-d978-4fdf-9cea-6c5fe0d9dc41",
   "metadata": {},
   "source": [
    "## 시각화"
   ]
  },
  {
   "cell_type": "code",
   "execution_count": 32,
   "id": "9cde3fe2-b171-4d06-9bca-c23554e85b9b",
   "metadata": {},
   "outputs": [
    {
     "data": {
      "image/png": "[encoded data removed]",
      "text/plain": [
       "<Figure size 1200x700 with 1 Axes>"
      ]
     },
     "metadata": {},
     "output_type": "display_data"
    }
   ],
   "source": [
    "import matplotlib.pyplot as plt\n",
    "import numpy as np\n",
    "\n",
    "# feature_names, importances는 앞서 구한 값 사용\n",
    "indices = np.argsort(importances)[::-1][:20]  # Top 20\n",
    "\n",
    "plt.figure(figsize=(12, 7))\n",
    "plt.barh(range(20), importances[indices][::-1])\n",
    "plt.yticks(range(20), [feature_names[i] for i in indices][::-1], fontsize=12)\n",
    "plt.xlabel(\"Feature Importance\", fontsize=12)\n",
    "plt.title(\"Top Predictors of Employee Attrition(Top 20)\", fontsize=15) #주요 퇴사 예측 변수\n",
    "plt.tight_layout()\n",
    "plt.show()"
   ]
  },
  {
   "cell_type": "code",
   "execution_count": 34,
   "id": "9bcc44aa-25d5-4ac5-a039-f5d9e86a921a",
   "metadata": {},
   "outputs": [
    {
     "data": {
      "image/png": "[encoded data removed]",
      "text/plain": [
       "<Figure size 640x480 with 2 Axes>"
      ]
     },
     "metadata": {},
     "output_type": "display_data"
    }
   ],
   "source": [
    "from pyspark.ml.evaluation import BinaryClassificationEvaluator\n",
    "from pyspark.ml.functions import vector_to_array\n",
    "\n",
    "# 예측\n",
    "predictions = rf_model.transform(test_df)\n",
    "# Pandas로 변환\n",
    "y_true = predictions.select(\"label\").toPandas()\n",
    "y_pred = predictions.select(\"prediction\").toPandas()\n",
    "\n",
    "from sklearn.metrics import confusion_matrix, ConfusionMatrixDisplay\n",
    "\n",
    "cm = confusion_matrix(y_true, y_pred)\n",
    "disp = ConfusionMatrixDisplay(confusion_matrix=cm, display_labels=[\"Employed\", \"Attrition\"])\n",
    "disp.plot(cmap=plt.cm.Blues)\n",
    "plt.title(\"Confusion Matrix for Attrition Prediction\")\n",
    "plt.show()"
   ]
  },
  {
   "cell_type": "code",
   "execution_count": 33,
   "id": "c69ed77d-1786-4d5f-a7b9-37c7d1407083",
   "metadata": {},
   "outputs": [
    {
     "data": {
      "image/png": "[encoded data removed]",
      "text/plain": [
       "<Figure size 700x500 with 1 Axes>"
      ]
     },
     "metadata": {},
     "output_type": "display_data"
    }
   ],
   "source": [
    "import matplotlib.pyplot as plt\n",
    "from sklearn.metrics import roc_curve, roc_auc_score\n",
    "\n",
    "# 예측 확률(퇴사일 확률)\n",
    "y_score = np.array(predictions.select(\"probability\").rdd.map(lambda x: x[0][1]).collect())\n",
    "\n",
    "fpr, tpr, thresholds = roc_curve(y_true, y_score)\n",
    "auc = roc_auc_score(y_true, y_score)\n",
    "\n",
    "plt.figure(figsize=(7,5))\n",
    "plt.plot(fpr, tpr, label=f\"AUC = {auc:.3f}\")\n",
    "plt.plot([0,1],[0,1],'k--',alpha=0.5)\n",
    "plt.xlabel(\"False Positive Rate\")\n",
    "plt.ylabel(\"True Positive Rate\")\n",
    "plt.title(\"ROC Curve (Employee Attrition Prediction Model)\") #퇴사 예측 모델\n",
    "plt.legend()\n",
    "plt.tight_layout()\n",
    "plt.show()"
   ]
  },
  {
   "cell_type": "markdown",
   "id": "c89d2811-4ca2-40a2-a1b3-f83516093d5d",
   "metadata": {},
   "source": [
    "## 하이퍼파라미터"
   ]
  },
  {
   "cell_type": "markdown",
   "id": "65c76822-d1a4-4072-aca5-c86063d3dd61",
   "metadata": {},
   "source": [
    "## 1. GBTClassifier 모델 학습"
   ]
  },
  {
   "cell_type": "code",
   "execution_count": 46,
   "id": "1e423165-ce87-42ff-9091-2ebdc3463029",
   "metadata": {
    "scrolled": true
   },
   "outputs": [
    {
     "name": "stdout",
     "output_type": "stream",
     "text": [
      "튜닝된 GBTClassifier ROC-AUC: 0.702\n",
      "Best Params: {Param(parent='GBTClassifier_b839020b4408', name='cacheNodeIds', doc='If false, the algorithm will pass trees to executors to match instances with nodes. If true, the algorithm will cache node IDs for each instance. Caching can speed up training of deeper trees. Users can set how often should the cache be checkpointed or disable it by setting checkpointInterval.'): False, Param(parent='GBTClassifier_b839020b4408', name='checkpointInterval', doc='set checkpoint interval (>= 1) or disable checkpoint (-1). E.g. 10 means that the cache will get checkpointed every 10 iterations. Note: this setting will be ignored if the checkpoint directory is not set in the SparkContext.'): 10, Param(parent='GBTClassifier_b839020b4408', name='featureSubsetStrategy', doc=\"The number of features to consider for splits at each tree node. Supported options: 'auto' (choose automatically for task: If numTrees == 1, set to 'all'. If numTrees > 1 (forest), set to 'sqrt' for classification and to 'onethird' for regression), 'all' (use all features), 'onethird' (use 1/3 of the features), 'sqrt' (use sqrt(number of features)), 'log2' (use log2(number of features)), 'n' (when n is in the range (0, 1.0], use n * number of features. When n is in the range (1, number of features), use n features). default = 'auto'\"): 'all', Param(parent='GBTClassifier_b839020b4408', name='featuresCol', doc='features column name.'): 'feature_vector', Param(parent='GBTClassifier_b839020b4408', name='impurity', doc='Criterion used for information gain calculation (case-insensitive). Supported options: variance'): 'variance', Param(parent='GBTClassifier_b839020b4408', name='labelCol', doc='label column name.'): 'label', Param(parent='GBTClassifier_b839020b4408', name='leafCol', doc='Leaf indices column name. Predicted leaf index of each instance in each tree by preorder.'): '', Param(parent='GBTClassifier_b839020b4408', name='lossType', doc='Loss function which GBT tries to minimize (case-insensitive). Supported options: logistic'): 'logistic', Param(parent='GBTClassifier_b839020b4408', name='maxBins', doc='Max number of bins for discretizing continuous features.  Must be >=2 and >= number of categories for any categorical feature.'): 32, Param(parent='GBTClassifier_b839020b4408', name='maxDepth', doc='Maximum depth of the tree. (>= 0) E.g., depth 0 means 1 leaf node; depth 1 means 1 internal node + 2 leaf nodes. Must be in range [0, 30].'): 3, Param(parent='GBTClassifier_b839020b4408', name='maxIter', doc='max number of iterations (>= 0).'): 70, Param(parent='GBTClassifier_b839020b4408', name='maxMemoryInMB', doc='Maximum memory in MB allocated to histogram aggregation. If too small, then 1 node will be split per iteration, and its aggregates may exceed this size.'): 256, Param(parent='GBTClassifier_b839020b4408', name='minInfoGain', doc='Minimum information gain for a split to be considered at a tree node.'): 0.0, Param(parent='GBTClassifier_b839020b4408', name='minInstancesPerNode', doc='Minimum number of instances each child must have after split. If a split causes the left or right child to have fewer than minInstancesPerNode, the split will be discarded as invalid. Should be >= 1.'): 1, Param(parent='GBTClassifier_b839020b4408', name='minWeightFractionPerNode', doc='Minimum fraction of the weighted sample count that each child must have after split. If a split causes the fraction of the total weight in the left or right child to be less than minWeightFractionPerNode, the split will be discarded as invalid. Should be in interval [0.0, 0.5).'): 0.0, Param(parent='GBTClassifier_b839020b4408', name='predictionCol', doc='prediction column name.'): 'prediction', Param(parent='GBTClassifier_b839020b4408', name='probabilityCol', doc='Column name for predicted class conditional probabilities. Note: Not all models output well-calibrated probability estimates! These probabilities should be treated as confidences, not precise probabilities.'): 'probability', Param(parent='GBTClassifier_b839020b4408', name='rawPredictionCol', doc='raw prediction (a.k.a. confidence) column name.'): 'rawPrediction', Param(parent='GBTClassifier_b839020b4408', name='seed', doc='random seed.'): 42, Param(parent='GBTClassifier_b839020b4408', name='stepSize', doc='Step size (a.k.a. learning rate) in interval (0, 1] for shrinking the contribution of each estimator.'): 0.05, Param(parent='GBTClassifier_b839020b4408', name='subsamplingRate', doc='Fraction of the training data used for learning each decision tree, in range (0, 1].'): 1.0, Param(parent='GBTClassifier_b839020b4408', name='validationTol', doc='Threshold for stopping early when fit with validation is used. If the error rate on the validation input changes by less than the validationTol, then learning will stop early (before `maxIter`). This parameter is ignored when fit without validation is used.'): 0.01}\n"
     ]
    }
   ],
   "source": [
    "from pyspark.ml.classification import GBTClassifier\n",
    "from pyspark.ml.tuning import ParamGridBuilder, CrossValidator\n",
    "from pyspark.ml.evaluation import BinaryClassificationEvaluator\n",
    "\n",
    "# 1. 모델 객체 생성\n",
    "gbt = GBTClassifier(\n",
    "    featuresCol=\"feature_vector\",\n",
    "    labelCol=\"label\",\n",
    "    predictionCol=\"prediction\",\n",
    "    seed=42\n",
    ")\n",
    "\n",
    "# 2. 파라미터 그리드 설정\n",
    "paramGrid = (\n",
    "    ParamGridBuilder()\n",
    "        .addGrid(gbt.maxIter, [30, 50, 70])       # 트리 개수\n",
    "        .addGrid(gbt.maxDepth, [3, 5, 7])         # 트리 깊이\n",
    "        .addGrid(gbt.stepSize, [0.05, 0.1, 0.2])  # 학습률\n",
    "        .build()\n",
    ")\n",
    "\n",
    "# 3. 평가 지표\n",
    "evaluator = BinaryClassificationEvaluator(\n",
    "    labelCol=\"label\",\n",
    "    rawPredictionCol=\"rawPrediction\",\n",
    "    metricName=\"areaUnderROC\"\n",
    ")\n",
    "\n",
    "# 4. 교차검증 세팅\n",
    "cv = CrossValidator(\n",
    "    estimator=gbt,\n",
    "    estimatorParamMaps=paramGrid,\n",
    "    evaluator=evaluator,\n",
    "    numFolds=3,\n",
    "    parallelism=2\n",
    ")\n",
    "\n",
    "# 5. 교차검증 학습\n",
    "cvModel = cv.fit(train_df)\n",
    "\n",
    "# 6. 최적 모델로 테스트 예측\n",
    "bestModel = cvModel.bestModel\n",
    "predictions = bestModel.transform(test_df)\n",
    "\n",
    "# 7. 성능 출력\n",
    "auc = evaluator.evaluate(predictions)\n",
    "print(f\"튜닝된 GBTClassifier ROC-AUC: {auc:.3f}\")\n",
    "\n",
    "# 8. 최적 파라미터 확인\n",
    "print(\"Best Params:\", bestModel.extractParamMap())\n"
   ]
  },
  {
   "cell_type": "code",
   "execution_count": 47,
   "id": "580992c5-4f39-4bd6-8a2b-e4a166ef7a5c",
   "metadata": {},
   "outputs": [
    {
     "name": "stdout",
     "output_type": "stream",
     "text": [
      "정확도(Accuracy): 0.842\n"
     ]
    }
   ],
   "source": [
    "from pyspark.ml.evaluation import MulticlassClassificationEvaluator\n",
    "\n",
    "# 정확도 계산\n",
    "evaluator_acc = MulticlassClassificationEvaluator(\n",
    "    labelCol=\"label\",\n",
    "    predictionCol=\"prediction\",\n",
    "    metricName=\"accuracy\"\n",
    ")\n",
    "\n",
    "accuracy = evaluator_acc.evaluate(predictions)  # predictions: 예측 결과 DataFrame\n",
    "print(f\"정확도(Accuracy): {accuracy:.3f}\")"
   ]
  },
  {
   "cell_type": "code",
   "execution_count": 51,
   "id": "8bcc8a48-7ce3-4c4d-b5ed-6612fbc199f7",
   "metadata": {},
   "outputs": [
    {
     "data": {
      "image/png": "[encoded data removed]",
      "text/plain": [
       "<Figure size 640x480 with 2 Axes>"
      ]
     },
     "metadata": {},
     "output_type": "display_data"
    }
   ],
   "source": [
    "import warnings\n",
    "warnings.filterwarnings('ignore')\n",
    "\n",
    "# 예측 결과 DataFrame에서 실제값, 예측값 추출\n",
    "y_true = predictions.select(\"label\").toPandas()\n",
    "y_pred = predictions.select(\"prediction\").toPandas()\n",
    "\n",
    "from sklearn.metrics import confusion_matrix, ConfusionMatrixDisplay\n",
    "\n",
    "# 혼동행렬 계산\n",
    "cm = confusion_matrix(y_true, y_pred)\n",
    "\n",
    "# 한글 라벨 지정(예: 0=재직, 1=퇴사)\n",
    "disp = ConfusionMatrixDisplay(\n",
    "    confusion_matrix=cm,\n",
    "    display_labels=[\"Employed\", \"Attrition\"]  # 또는 [\"Employed\", \"Attrition\"]\n",
    ")\n",
    "\n",
    "# 시각화 출력\n",
    "import matplotlib.pyplot as plt\n",
    "disp.plot(cmap=plt.cm.Blues)\n",
    "plt.title(\"Confusion Matrix for Attrition Prediction\")\n",
    "plt.show()"
   ]
  }
 ],
 "metadata": {
  "kernelspec": {
   "display_name": "Python 3 (ipykernel)",
   "language": "python",
   "name": "python3"
  },
  "language_info": {
   "codemirror_mode": {
    "name": "ipython",
    "version": 3
   },
   "file_extension": ".py",
   "mimetype": "text/x-python",
   "name": "python",
   "nbconvert_exporter": "python",
   "pygments_lexer": "ipython3",
   "version": "3.11.6"
  }
 },
 "nbformat": 4,
 "nbformat_minor": 5
}
