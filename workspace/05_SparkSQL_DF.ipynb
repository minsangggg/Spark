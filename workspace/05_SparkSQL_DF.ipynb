{
 "cells": [
  {
   "cell_type": "code",
   "execution_count": 1,
   "id": "254218cb-edd4-474b-b5df-9b19b8665c7f",
   "metadata": {},
   "outputs": [],
   "source": [
    "from pyspark import SparkConf, SparkContext\n",
    "conf = SparkConf().setMaster(\"local\").setAppName(\"spark_sql_basic2\")\n",
    "sc   = SparkContext(conf=conf)"
   ]
  },
  {
   "cell_type": "code",
   "execution_count": 2,
   "id": "b8b6c34d-d621-44d8-aec3-19b83cbab684",
   "metadata": {},
   "outputs": [],
   "source": [
    "# RDD만을 이용한 데이터 추출"
   ]
  },
  {
   "cell_type": "code",
   "execution_count": 3,
   "id": "495b1cee-8f8b-4e63-87e6-981f03dd5fc9",
   "metadata": {},
   "outputs": [],
   "source": [
    "movies_rdd = sc.parallelize([\n",
    "    (1, (\"어벤져스\", \"마블\")),\n",
    "    (2, (\"슈퍼맨\", \"DC\")),\n",
    "    (3, (\"배트맨\", \"DC\")),\n",
    "    (4, (\"겨울왕국\", \"디즈니\")),\n",
    "    (5, (\"아이언맨\", \"마블\"))\n",
    "])\n",
    "\n",
    "\n",
    "attendances_rdd = sc.parallelize([\n",
    "    (1, (13934592, \"KR\")),\n",
    "    (2, (2182227,\"KR\")),\n",
    "    (3, (4226242, \"KR\")),\n",
    "    (4, (10303058, \"KR\")),\n",
    "    (5, (4300365, \"KR\"))\n",
    "])"
   ]
  },
  {
   "cell_type": "code",
   "execution_count": 4,
   "id": "2f026f9b-26d5-4441-9457-f6b8ebe2bc07",
   "metadata": {},
   "outputs": [],
   "source": [
    "# 마블 영화 중 관객 수가 500만 이상인 영화를 가져오기"
   ]
  },
  {
   "cell_type": "code",
   "execution_count": 5,
   "id": "dc95ecbe-755c-489b-b997-441f30ff567b",
   "metadata": {},
   "outputs": [
    {
     "data": {
      "text/plain": [
       "[(1, (('어벤져스', '마블'), (13934592, 'KR')))]"
      ]
     },
     "execution_count": 5,
     "metadata": {},
     "output_type": "execute_result"
    }
   ],
   "source": [
    "# CASE1. join 먼저, filter 나중에\n",
    "movie_att = movies_rdd.join(attendances_rdd)\n",
    "movie_att.filter(\n",
    "    lambda x : x[1][0][1] == \"마블\" and x[1][1][0] > 5000000\n",
    ").collect()"
   ]
  },
  {
   "cell_type": "code",
   "execution_count": 6,
   "id": "53efa259-67be-4264-b466-d98cb850e721",
   "metadata": {},
   "outputs": [
    {
     "data": {
      "text/plain": [
       "[(1, (('어벤져스', '마블'), (13934592, 'KR')))]"
      ]
     },
     "execution_count": 6,
     "metadata": {},
     "output_type": "execute_result"
    }
   ],
   "source": [
    "# CASE 2. filter 먼저, join 나중에\n",
    "filtered_movies = movies_rdd.filter(lambda x : x[1][1] == '마블')\n",
    "filtered_att = attendances_rdd.filter(lambda x : x[1][0] > 5000000)\n",
    "\n",
    "filtered_movies.join(filtered_att).collect()"
   ]
  },
  {
   "cell_type": "code",
   "execution_count": 7,
   "id": "bfc64b60-f44b-4d28-8da4-76ec0de1b767",
   "metadata": {},
   "outputs": [],
   "source": [
    "from pyspark import SparkConf, SparkContext\n",
    "from pyspark.sql import SparkSession\n",
    "# 현재 실행 중인 SparkSession 가져오기\n",
    "spark = SparkSession.builder.getOrCreate()\n",
    "sc = spark.sparkContext"
   ]
  },
  {
   "cell_type": "code",
   "execution_count": 8,
   "id": "e95fbc8a-b0b7-46e0-99fc-265fa94c302c",
   "metadata": {},
   "outputs": [],
   "source": [
    "spark.stop()"
   ]
  },
  {
   "cell_type": "code",
   "execution_count": 9,
   "id": "1375836c-4003-4311-8b0f-3e45fb823f86",
   "metadata": {},
   "outputs": [],
   "source": [
    "# Spark SQL 사용해 보기"
   ]
  },
  {
   "cell_type": "code",
   "execution_count": 10,
   "id": "95160a5f-20a0-4b2e-bef4-9e72f3d46323",
   "metadata": {},
   "outputs": [],
   "source": [
    "from pyspark.sql import SparkSession\n",
    "spark = SparkSession.builder.master(\"local\").appName(\"spark-sql\").getOrCreate()"
   ]
  },
  {
   "cell_type": "code",
   "execution_count": 11,
   "id": "f57e5e2b-c2c7-4e2a-b7e7-b2ef78162ad1",
   "metadata": {},
   "outputs": [],
   "source": [
    "# 컬럼 추가\n",
    "movies = [\n",
    "    (1, \"어벤져스\", \"마블\", 2012, 4, 26),\n",
    "    (2, \"슈퍼맨\", \"DC\", 2013, 6, 13),\n",
    "    (3, \"배트맨\", \"DC\", 2008, 8, 6),\n",
    "    (4, \"겨울왕국\", \"디즈니\", 2014, 1, 16),\n",
    "    (5, \"아이언맨\", \"마블\", 2008, 4, 30)\n",
    "]"
   ]
  },
  {
   "cell_type": "code",
   "execution_count": 12,
   "id": "3c70100f-efa4-49a5-bf80-af24c10bbca4",
   "metadata": {},
   "outputs": [],
   "source": [
    "#스키마를 알아야 한다.\n",
    "movie_schema = [\"id\", \"name\", \"company\", \"year\", \"month\", \"day\"]"
   ]
  },
  {
   "cell_type": "code",
   "execution_count": 13,
   "id": "66e6b8b6-4fa3-4413-b387-abd9a40feb6a",
   "metadata": {},
   "outputs": [],
   "source": [
    "# 2. 데이터 프레임 만들기"
   ]
  },
  {
   "cell_type": "code",
   "execution_count": 14,
   "id": "531baa13-2c24-4f4a-9cfa-de85c3d60053",
   "metadata": {},
   "outputs": [],
   "source": [
    "df = spark.createDataFrame(data=movies, schema=movie_schema)"
   ]
  },
  {
   "cell_type": "code",
   "execution_count": 15,
   "id": "ed33e390-0075-4840-a604-c773f5d0e403",
   "metadata": {},
   "outputs": [
    {
     "data": {
      "text/plain": [
       "[('id', 'bigint'),\n",
       " ('name', 'string'),\n",
       " ('company', 'string'),\n",
       " ('year', 'bigint'),\n",
       " ('month', 'bigint'),\n",
       " ('day', 'bigint')]"
      ]
     },
     "execution_count": 15,
     "metadata": {},
     "output_type": "execute_result"
    }
   ],
   "source": [
    "df.dtypes"
   ]
  },
  {
   "cell_type": "code",
   "execution_count": 16,
   "id": "5de1d0fa-188b-4c05-82fc-9828ed905abe",
   "metadata": {},
   "outputs": [
    {
     "name": "stdout",
     "output_type": "stream",
     "text": [
      "+---+--------+-------+----+-----+---+\n",
      "| id|    name|company|year|month|day|\n",
      "+---+--------+-------+----+-----+---+\n",
      "|  1|어벤져스|   마블|2012|    4| 26|\n",
      "|  2|  슈퍼맨|     DC|2013|    6| 13|\n",
      "|  3|  배트맨|     DC|2008|    8|  6|\n",
      "|  4|겨울왕국| 디즈니|2014|    1| 16|\n",
      "|  5|아이언맨|   마블|2008|    4| 30|\n",
      "+---+--------+-------+----+-----+---+\n",
      "\n",
      "None\n"
     ]
    }
   ],
   "source": [
    "print(df.show())"
   ]
  },
  {
   "cell_type": "code",
   "execution_count": 17,
   "id": "b9adde12-9a19-493a-8097-6d2bd574e894",
   "metadata": {},
   "outputs": [
    {
     "name": "stdout",
     "output_type": "stream",
     "text": [
      "+--------+\n",
      "|    name|\n",
      "+--------+\n",
      "|어벤져스|\n",
      "|  슈퍼맨|\n",
      "|  배트맨|\n",
      "|겨울왕국|\n",
      "|아이언맨|\n",
      "+--------+\n",
      "\n"
     ]
    }
   ],
   "source": [
    "df.select(\"name\").show()"
   ]
  },
  {
   "cell_type": "code",
   "execution_count": 18,
   "id": "c98dee62-ae40-450c-b30f-f747574cf17a",
   "metadata": {},
   "outputs": [
    {
     "name": "stdout",
     "output_type": "stream",
     "text": [
      "+-------+\n",
      "|company|\n",
      "+-------+\n",
      "|   마블|\n",
      "|     DC|\n",
      "|     DC|\n",
      "| 디즈니|\n",
      "|   마블|\n",
      "+-------+\n",
      "\n"
     ]
    }
   ],
   "source": [
    "df.select('company').show()"
   ]
  },
  {
   "cell_type": "code",
   "execution_count": 19,
   "id": "7da088e2-3b08-4b8a-970a-48ba56a96023",
   "metadata": {},
   "outputs": [
    {
     "name": "stdout",
     "output_type": "stream",
     "text": [
      "+----+-----+---+\n",
      "|year|month|day|\n",
      "+----+-----+---+\n",
      "|2012|    4| 26|\n",
      "|2013|    6| 13|\n",
      "|2008|    8|  6|\n",
      "|2014|    1| 16|\n",
      "|2008|    4| 30|\n",
      "+----+-----+---+\n",
      "\n"
     ]
    }
   ],
   "source": [
    "df.select('year','month','day').show()"
   ]
  },
  {
   "cell_type": "code",
   "execution_count": 20,
   "id": "484120bd-d044-405d-b1ff-79b2813f45a8",
   "metadata": {},
   "outputs": [
    {
     "name": "stdout",
     "output_type": "stream",
     "text": [
      "+---+--------+-------+----+-----+---+\n",
      "| id|    name|company|year|month|day|\n",
      "+---+--------+-------+----+-----+---+\n",
      "|  1|어벤져스|   마블|2012|    4| 26|\n",
      "|  2|  슈퍼맨|     DC|2013|    6| 13|\n",
      "|  4|겨울왕국| 디즈니|2014|    1| 16|\n",
      "+---+--------+-------+----+-----+---+\n",
      "\n"
     ]
    }
   ],
   "source": [
    "df.filter(df.year >= 2010).show()"
   ]
  },
  {
   "cell_type": "code",
   "execution_count": 21,
   "id": "82639266-1d5a-4b34-b471-ef316febd713",
   "metadata": {},
   "outputs": [
    {
     "name": "stdout",
     "output_type": "stream",
     "text": [
      "+---+--------+-------+----+-----+---+\n",
      "| id|    name|company|year|month|day|\n",
      "+---+--------+-------+----+-----+---+\n",
      "|  1|어벤져스|   마블|2012|    4| 26|\n",
      "+---+--------+-------+----+-----+---+\n",
      "\n"
     ]
    }
   ],
   "source": [
    "#2010년 이후 마블영화만\n",
    "df.filter((df.year>=2010) & (df.company=='마블')).show()"
   ]
  },
  {
   "cell_type": "code",
   "execution_count": null,
   "id": "3e7a514a-dc81-4103-8633-a58727fc28b7",
   "metadata": {},
   "outputs": [],
   "source": []
  },
  {
   "cell_type": "code",
   "execution_count": 26,
   "id": "0b21f185-c2e8-4f89-817a-527c22bff9e4",
   "metadata": {},
   "outputs": [],
   "source": [
    "df.createOrReplaceTempView(\"movies\")"
   ]
  },
  {
   "cell_type": "code",
   "execution_count": 23,
   "id": "9843ff4c-622b-4dbc-b54a-943c8b4225eb",
   "metadata": {},
   "outputs": [
    {
     "name": "stdout",
     "output_type": "stream",
     "text": [
      "+--------+\n",
      "|    name|\n",
      "+--------+\n",
      "|어벤져스|\n",
      "|  슈퍼맨|\n",
      "|  배트맨|\n",
      "|겨울왕국|\n",
      "|아이언맨|\n",
      "+--------+\n",
      "\n"
     ]
    }
   ],
   "source": [
    "# 영화 이름만 가져오기\n",
    "\n",
    "query = \"\"\"\n",
    "\n",
    "SELECT name\n",
    "  FROM movies\n",
    "\n",
    "\"\"\"\n",
    "spark.sql(query).show()"
   ]
  },
  {
   "cell_type": "code",
   "execution_count": 24,
   "id": "21bd6dc9-1d21-4dc3-96b5-338067f17ce1",
   "metadata": {},
   "outputs": [
    {
     "name": "stdout",
     "output_type": "stream",
     "text": [
      "+--------+\n",
      "|    name|\n",
      "+--------+\n",
      "|어벤져스|\n",
      "|  슈퍼맨|\n",
      "|겨울왕국|\n",
      "+--------+\n",
      "\n"
     ]
    }
   ],
   "source": [
    "# 2010년 이후에 개봉한 영화를 조회\n",
    "\n",
    "query = \"\"\"\n",
    "\n",
    "SELECT name\n",
    "    FROM MOVIES\n",
    "    WHERE year>=2010\n",
    "\"\"\"\n",
    "spark.sql(query).show()"
   ]
  },
  {
   "cell_type": "code",
   "execution_count": 25,
   "id": "8a634ed5-8fae-4d8b-8f49-8b70336656a1",
   "metadata": {},
   "outputs": [
    {
     "name": "stdout",
     "output_type": "stream",
     "text": [
      "+--------+-------+\n",
      "|    name|company|\n",
      "+--------+-------+\n",
      "|  배트맨|     DC|\n",
      "|아이언맨|   마블|\n",
      "+--------+-------+\n",
      "\n"
     ]
    }
   ],
   "source": [
    "# 2012년도 이전에 개봉한 영화의 이름과 회사를 출력\n",
    "query = \"\"\"\n",
    "\n",
    "SELECT name, company\n",
    "from movies\n",
    "where year<2012\n",
    "\"\"\"\n",
    "spark.sql(query).show()"
   ]
  },
  {
   "cell_type": "code",
   "execution_count": null,
   "id": "dcb3f505-a68f-4d63-bace-27c2552ca713",
   "metadata": {},
   "outputs": [],
   "source": [
    "# like 문자열 데이터에서 특정 단어나 문장을 포함한 데이터를 찾을 때\n",
    "# % 기호를 사용해서 문장이 매칭되는지 확인 가능!\n",
    "# 제목이 ~~맨으로 끝나는 데이터의 모든 정보를 조회\n",
    "query = \"\"\"\n",
    "\n",
    "\"\"\"\n",
    "spark.sql(query).show()"
   ]
  },
  {
   "cell_type": "code",
   "execution_count": 27,
   "id": "b0eea4f5-9e48-46a8-ae86-13751cb296fe",
   "metadata": {},
   "outputs": [
    {
     "name": "stdout",
     "output_type": "stream",
     "text": [
      "+--------+-----+\n",
      "|    name|month|\n",
      "+--------+-----+\n",
      "|어벤져스|    4|\n",
      "|  슈퍼맨|    6|\n",
      "|  배트맨|    8|\n",
      "|아이언맨|    4|\n",
      "+--------+-----+\n",
      "\n"
     ]
    }
   ],
   "source": [
    "# BETWEEN 특정 데이터와 데이터 사이를 조회\n",
    "\n",
    "# 개봉 월이 4 ~ 8월 사이. 4 <= 개봉월 <= 8\n",
    "\n",
    "query = \"\"\"\n",
    "\n",
    "SELECT name, month\n",
    "from movies\n",
    "where month between 4 and 8\n",
    "\"\"\"\n",
    "spark.sql(query).show()"
   ]
  },
  {
   "cell_type": "code",
   "execution_count": null,
   "id": "f3d494f1-99f1-4989-87fd-6b7352c816af",
   "metadata": {},
   "outputs": [],
   "source": []
  },
  {
   "cell_type": "markdown",
   "id": "b20b410a-2cd7-4e67-a219-1848368ce31b",
   "metadata": {},
   "source": [
    "## Join 구현하기"
   ]
  },
  {
   "cell_type": "code",
   "execution_count": 29,
   "id": "aa3ca86f-e446-4770-9de3-f3395b0052bf",
   "metadata": {},
   "outputs": [],
   "source": [
    "attendances = [\n",
    "    (1, 13934592., \"KR\"),\n",
    "    (2, 2182227.,\"KR\"),\n",
    "    (3, 4226242., \"KR\"),\n",
    "    (4, 10303058., \"KR\"),\n",
    "    (5, 4300365., \"KR\")\n",
    "]"
   ]
  },
  {
   "cell_type": "code",
   "execution_count": 30,
   "id": "72840919-bb79-499a-8686-d2c5c1a2705d",
   "metadata": {},
   "outputs": [],
   "source": [
    "# 직접 스키마 지정해 보기\n",
    "from pyspark.sql.types import StringType, FloatType\\\n",
    "    , IntegerType\\\n",
    "    , StructType, StructField"
   ]
  },
  {
   "cell_type": "code",
   "execution_count": 31,
   "id": "357568e3-eb06-4649-ba8e-72518cbb3166",
   "metadata": {},
   "outputs": [],
   "source": [
    "att_schema = StructType([ # 모든 컬럼의 타입을 통칭 - 컬럼 데이터의 집합\n",
    "    StructField(\"id\", IntegerType(), True), # StructField : 컬럼\n",
    "    StructField(\"att\", FloatType(), True),\n",
    "    StructField(\"theater_country\", StringType(), True)\n",
    "])"
   ]
  },
  {
   "cell_type": "code",
   "execution_count": 32,
   "id": "19f3b13c-986a-4473-b733-45053e6ed6df",
   "metadata": {},
   "outputs": [
    {
     "data": {
      "text/plain": [
       "[('id', 'int'), ('att', 'float'), ('theater_country', 'string')]"
      ]
     },
     "execution_count": 32,
     "metadata": {},
     "output_type": "execute_result"
    }
   ],
   "source": [
    "att_df = spark.createDataFrame(\n",
    "    data=attendances,\n",
    "    schema=att_schema\n",
    ")\n",
    "\n",
    "att_df.dtypes"
   ]
  },
  {
   "cell_type": "code",
   "execution_count": 33,
   "id": "1e1d3880-c7de-40ba-a0e9-1450ebff246b",
   "metadata": {},
   "outputs": [],
   "source": [
    "att_df.createOrReplaceTempView(\"att\")"
   ]
  },
  {
   "cell_type": "code",
   "execution_count": 35,
   "id": "3db9ef53-a296-4e75-995d-8807bf7decbd",
   "metadata": {},
   "outputs": [
    {
     "name": "stdout",
     "output_type": "stream",
     "text": [
      "+---+-----------+---------------+\n",
      "| id|        att|theater_country|\n",
      "+---+-----------+---------------+\n",
      "|  1|1.3934592E7|             KR|\n",
      "|  2|  2182227.0|             KR|\n",
      "|  3|  4226242.0|             KR|\n",
      "|  4|1.0303058E7|             KR|\n",
      "|  5|  4300365.0|             KR|\n",
      "+---+-----------+---------------+\n",
      "\n"
     ]
    }
   ],
   "source": [
    "att_df.select('*').show()"
   ]
  },
  {
   "cell_type": "code",
   "execution_count": 37,
   "id": "3817eef8-edbe-41e1-b6a9-17a869f956d3",
   "metadata": {},
   "outputs": [
    {
     "name": "stdout",
     "output_type": "stream",
     "text": [
      "+---+--------+-------+-----------+\n",
      "| id|    name|company|        att|\n",
      "+---+--------+-------+-----------+\n",
      "|  1|어벤져스|   마블|1.3934592E7|\n",
      "|  2|  슈퍼맨|     DC|  2182227.0|\n",
      "|  3|  배트맨|     DC|  4226242.0|\n",
      "|  4|겨울왕국| 디즈니|1.0303058E7|\n",
      "|  5|아이언맨|   마블|  4300365.0|\n",
      "+---+--------+-------+-----------+\n",
      "\n"
     ]
    }
   ],
   "source": [
    "#df와 join\n",
    "query='''\n",
    "select  movies.id, movies.name, movies.company, att.att\n",
    "from movies\n",
    "join att ON movies.id=att.id\n",
    "'''\n",
    "spark.sql(query).show()"
   ]
  },
  {
   "cell_type": "code",
   "execution_count": 38,
   "id": "9de2d7e0-a259-4931-83c3-15cfcec8b3e4",
   "metadata": {},
   "outputs": [],
   "source": [
    "spark.stop()"
   ]
  },
  {
   "cell_type": "markdown",
   "id": "91408a35-fe39-4b2f-aba3-bbc4f9151dbd",
   "metadata": {},
   "source": [
    "## SQL 최적화"
   ]
  },
  {
   "cell_type": "code",
   "execution_count": 43,
   "id": "2e008250-2471-4cf8-80a2-020cc8ecb4e5",
   "metadata": {},
   "outputs": [],
   "source": [
    "from pyspark.sql import SparkSession\n",
    "\n",
    "spark = SparkSession.builder.appName(\"trip_count_sql\").getOrCreate()"
   ]
  },
  {
   "cell_type": "code",
   "execution_count": 46,
   "id": "934d0b81-06bd-4561-9aef-a65c441dc14c",
   "metadata": {},
   "outputs": [],
   "source": [
    "trip_file = \"learning_spark_data/fhvhv_tripdata_2020-03.csv\""
   ]
  },
  {
   "cell_type": "code",
   "execution_count": 47,
   "id": "1a2e1187-495d-4982-b749-2de387bd614a",
   "metadata": {},
   "outputs": [],
   "source": [
    "# inferSchema : 자동으로 스키마 예측하게 하기\n",
    "data = spark.read.csv(trip_file, inferSchema=True, header=True)"
   ]
  },
  {
   "cell_type": "code",
   "execution_count": 48,
   "id": "5a0b31e5-fd0d-4be8-8b17-090409c6c524",
   "metadata": {},
   "outputs": [],
   "source": [
    "data.createOrReplaceTempView(\"mobility_data\")"
   ]
  },
  {
   "cell_type": "code",
   "execution_count": 49,
   "id": "43a2cbb4-7103-4074-972f-4a30b2ee96b7",
   "metadata": {},
   "outputs": [
    {
     "name": "stdout",
     "output_type": "stream",
     "text": [
      "+-----------------+--------------------+-------------------+-------------------+------------+------------+-------+\n",
      "|hvfhs_license_num|dispatching_base_num|    pickup_datetime|   dropoff_datetime|PULocationID|DOLocationID|SR_Flag|\n",
      "+-----------------+--------------------+-------------------+-------------------+------------+------------+-------+\n",
      "|           HV0005|              B02510|2020-03-01 00:03:40|2020-03-01 00:23:39|          81|         159|   NULL|\n",
      "|           HV0005|              B02510|2020-03-01 00:28:05|2020-03-01 00:38:57|         168|         119|   NULL|\n",
      "|           HV0003|              B02764|2020-03-01 00:03:07|2020-03-01 00:15:04|         137|         209|      1|\n",
      "|           HV0003|              B02764|2020-03-01 00:18:42|2020-03-01 00:38:42|         209|          80|   NULL|\n",
      "|           HV0003|              B02764|2020-03-01 00:44:24|2020-03-01 00:58:44|         256|         226|   NULL|\n",
      "+-----------------+--------------------+-------------------+-------------------+------------+------------+-------+\n",
      "\n"
     ]
    }
   ],
   "source": [
    "query = \"\"\"\n",
    "select *\n",
    "from mobility_data\n",
    "limit 5\n",
    "\"\"\"\n",
    "spark.sql(query).show()"
   ]
  },
  {
   "cell_type": "code",
   "execution_count": 50,
   "id": "c30f8b6d-419f-4350-b2dc-248b59426255",
   "metadata": {},
   "outputs": [
    {
     "name": "stdout",
     "output_type": "stream",
     "text": [
      "+-----------+------+\n",
      "|pickup_date| trips|\n",
      "+-----------+------+\n",
      "| 2020-03-03|697880|\n",
      "| 2020-03-02|648986|\n",
      "| 2020-03-01|784246|\n",
      "| 2020-03-06|872012|\n",
      "| 2020-03-05|731165|\n",
      "| 2020-03-04|707879|\n",
      "| 2020-03-09|628940|\n",
      "| 2020-03-08|731222|\n",
      "| 2020-03-07|886071|\n",
      "| 2020-03-10|626474|\n",
      "| 2020-03-12|643257|\n",
      "| 2020-03-11|628601|\n",
      "| 2020-03-16|391518|\n",
      "| 2020-03-13|660914|\n",
      "| 2020-03-15|448125|\n",
      "| 2020-03-14|569397|\n",
      "| 2020-03-26|141607|\n",
      "| 2020-03-25|141088|\n",
      "| 2020-03-20|261900|\n",
      "| 2020-03-24|141686|\n",
      "+-----------+------+\n",
      "only showing top 20 rows\n",
      "\n"
     ]
    }
   ],
   "source": [
    "query = \"\"\"\n",
    "\n",
    "select split(pickup_datetime, ' ')[0] as pickup_date, count(*) as trips\n",
    "from mobility_data\n",
    "\n",
    "group by pickup_date\n",
    "\"\"\"\n",
    "\n",
    "spark.sql(query).show()"
   ]
  },
  {
   "cell_type": "code",
   "execution_count": 53,
   "id": "8b30f612-2dfb-4151-a1e7-fb5561db4713",
   "metadata": {},
   "outputs": [
    {
     "name": "stdout",
     "output_type": "stream",
     "text": [
      "== Parsed Logical Plan ==\n",
      "'Aggregate ['pickup_date], ['split('pickup_datetime,  )[0] AS pickup_date#288, 'count(1) AS trips#289]\n",
      "+- 'UnresolvedRelation [mobility_data], [], false\n",
      "\n",
      "== Analyzed Logical Plan ==\n",
      "pickup_date: string, trips: bigint\n",
      "Aggregate [split(cast(pickup_datetime#215 as string),  , -1)[0]], [split(cast(pickup_datetime#215 as string),  , -1)[0] AS pickup_date#288, count(1) AS trips#289L]\n",
      "+- SubqueryAlias mobility_data\n",
      "   +- View (`mobility_data`, [hvfhs_license_num#213,dispatching_base_num#214,pickup_datetime#215,dropoff_datetime#216,PULocationID#217,DOLocationID#218,SR_Flag#219])\n",
      "      +- Relation [hvfhs_license_num#213,dispatching_base_num#214,pickup_datetime#215,dropoff_datetime#216,PULocationID#217,DOLocationID#218,SR_Flag#219] csv\n",
      "\n",
      "== Optimized Logical Plan ==\n",
      "Aggregate [_groupingexpression#293], [_groupingexpression#293 AS pickup_date#288, count(1) AS trips#289L]\n",
      "+- Project [split(cast(pickup_datetime#215 as string),  , -1)[0] AS _groupingexpression#293]\n",
      "   +- Relation [hvfhs_license_num#213,dispatching_base_num#214,pickup_datetime#215,dropoff_datetime#216,PULocationID#217,DOLocationID#218,SR_Flag#219] csv\n",
      "\n",
      "== Physical Plan ==\n",
      "AdaptiveSparkPlan isFinalPlan=false\n",
      "+- HashAggregate(keys=[_groupingexpression#293], functions=[count(1)], output=[pickup_date#288, trips#289L])\n",
      "   +- Exchange hashpartitioning(_groupingexpression#293, 200), ENSURE_REQUIREMENTS, [plan_id=387]\n",
      "      +- HashAggregate(keys=[_groupingexpression#293], functions=[partial_count(1)], output=[_groupingexpression#293, count#295L])\n",
      "         +- Project [split(cast(pickup_datetime#215 as string),  , -1)[0] AS _groupingexpression#293]\n",
      "            +- FileScan csv [pickup_datetime#215] Batched: false, DataFilters: [], Format: CSV, Location: InMemoryFileIndex(1 paths)[file:/home/jovyan/work/learning_spark_data/fhvhv_tripdata_2020-03.csv], PartitionFilters: [], PushedFilters: [], ReadSchema: struct<pickup_datetime:timestamp>\n",
      "\n"
     ]
    }
   ],
   "source": [
    "# 실행 계획 살펴보기\n",
    "spark.sql(query).explain(True)"
   ]
  },
  {
   "cell_type": "code",
   "execution_count": 54,
   "id": "b319ba77-045d-4b7a-8aaa-3ffe699b0238",
   "metadata": {},
   "outputs": [
    {
     "name": "stdout",
     "output_type": "stream",
     "text": [
      "== Parsed Logical Plan ==\n",
      "'Aggregate ['pickup_date], ['pickup_date, 'count(1) AS trips#297]\n",
      "+- 'SubqueryAlias __auto_generated_subquery_name\n",
      "   +- 'Project ['split('pickup_datetime,  )[0] AS pickup_date#296]\n",
      "      +- 'UnresolvedRelation [mobility_data], [], false\n",
      "\n",
      "== Analyzed Logical Plan ==\n",
      "pickup_date: string, trips: bigint\n",
      "Aggregate [pickup_date#296], [pickup_date#296, count(1) AS trips#297L]\n",
      "+- SubqueryAlias __auto_generated_subquery_name\n",
      "   +- Project [split(cast(pickup_datetime#215 as string),  , -1)[0] AS pickup_date#296]\n",
      "      +- SubqueryAlias mobility_data\n",
      "         +- View (`mobility_data`, [hvfhs_license_num#213,dispatching_base_num#214,pickup_datetime#215,dropoff_datetime#216,PULocationID#217,DOLocationID#218,SR_Flag#219])\n",
      "            +- Relation [hvfhs_license_num#213,dispatching_base_num#214,pickup_datetime#215,dropoff_datetime#216,PULocationID#217,DOLocationID#218,SR_Flag#219] csv\n",
      "\n",
      "== Optimized Logical Plan ==\n",
      "Aggregate [pickup_date#296], [pickup_date#296, count(1) AS trips#297L]\n",
      "+- Project [split(cast(pickup_datetime#215 as string),  , -1)[0] AS pickup_date#296]\n",
      "   +- Relation [hvfhs_license_num#213,dispatching_base_num#214,pickup_datetime#215,dropoff_datetime#216,PULocationID#217,DOLocationID#218,SR_Flag#219] csv\n",
      "\n",
      "== Physical Plan ==\n",
      "AdaptiveSparkPlan isFinalPlan=false\n",
      "+- HashAggregate(keys=[pickup_date#296], functions=[count(1)], output=[pickup_date#296, trips#297L])\n",
      "   +- Exchange hashpartitioning(pickup_date#296, 200), ENSURE_REQUIREMENTS, [plan_id=402]\n",
      "      +- HashAggregate(keys=[pickup_date#296], functions=[partial_count(1)], output=[pickup_date#296, count#302L])\n",
      "         +- Project [split(cast(pickup_datetime#215 as string),  , -1)[0] AS pickup_date#296]\n",
      "            +- FileScan csv [pickup_datetime#215] Batched: false, DataFilters: [], Format: CSV, Location: InMemoryFileIndex(1 paths)[file:/home/jovyan/work/learning_spark_data/fhvhv_tripdata_2020-03.csv], PartitionFilters: [], PushedFilters: [], ReadSchema: struct<pickup_datetime:timestamp>\n",
      "\n"
     ]
    }
   ],
   "source": [
    "# 두번째 쿼리\n",
    "spark.sql(\"\"\"select \n",
    "                pickup_date, \n",
    "                count(*) as trips\n",
    "             from ( select\n",
    "                          split(pickup_datetime, ' ')[0] as pickup_date\n",
    "                          from mobility_data )\n",
    "             group by pickup_date\"\"\").explain(True)"
   ]
  },
  {
   "cell_type": "code",
   "execution_count": null,
   "id": "a4ffabdc-38a8-43c7-9133-163151a500e0",
   "metadata": {},
   "outputs": [],
   "source": [
    "spark.stop()"
   ]
  },
  {
   "cell_type": "code",
   "execution_count": 58,
   "id": "9996d435-0f64-4e80-8c7d-e28cfacdfe7d",
   "metadata": {},
   "outputs": [],
   "source": [
    "trip_file = \"fhvhv_tripdata_2020-03.csv\"\n",
    "zone_file = \"taxi+_zone_lookup.csv\""
   ]
  },
  {
   "cell_type": "code",
   "execution_count": 59,
   "id": "c93348c6-8e41-4842-ba25-d7adde1040af",
   "metadata": {},
   "outputs": [],
   "source": [
    "from pyspark.sql import SparkSession\n",
    "\n",
    "spark = SparkSession.builder.appName(\"trip_count_sql\").getOrCreate()"
   ]
  },
  {
   "cell_type": "code",
   "execution_count": 60,
   "id": "119f71fb-d2d7-4671-a993-56267cb3d036",
   "metadata": {},
   "outputs": [],
   "source": [
    "#운행 데이터 프레임 생성, Zone 데이터프레임 생성\n",
    "trip_data = spark.read.format(\"csv\")\\\n",
    "    .option(\"header\", 'true')\\\n",
    "    .option('inferSchema', 'true')\\\n",
    "    .load('learning_spark_data/fhvhv_tripdata_2020-03.csv')\n",
    "zone_data = spark.read.format(\"csv\")\\\n",
    "    .option(\"header\", 'true')\\\n",
    "    .option('inferSchema', 'true')\\\n",
    "    .load('learning_spark_data/taxi+_zone_lookup.csv')"
   ]
  },
  {
   "cell_type": "code",
   "execution_count": 61,
   "id": "05e20a95-754f-454c-bf2b-12c2445307f1",
   "metadata": {},
   "outputs": [
    {
     "name": "stdout",
     "output_type": "stream",
     "text": [
      "root\n",
      " |-- hvfhs_license_num: string (nullable = true)\n",
      " |-- dispatching_base_num: string (nullable = true)\n",
      " |-- pickup_datetime: timestamp (nullable = true)\n",
      " |-- dropoff_datetime: timestamp (nullable = true)\n",
      " |-- PULocationID: integer (nullable = true)\n",
      " |-- DOLocationID: integer (nullable = true)\n",
      " |-- SR_Flag: integer (nullable = true)\n",
      "\n"
     ]
    }
   ],
   "source": [
    "trip_data.printSchema()"
   ]
  },
  {
   "cell_type": "markdown",
   "id": "72f4ace9-65ba-4fcd-9fd4-0d0f2c98b6b5",
   "metadata": {},
   "source": [
    "hvfhs_license_num:\t차량 플랫폼(예: Uber, Lyft 등) 별로 부여된 고유 라이선스 번호  \n",
    "dispatching_base_num:\t차량을 배차·관리하는 업체(베이스) 식별 번호    \n",
    "pickup_datetime:\t승객이 차량에 탑승한(픽업한) 날짜/시간 (timestamp)  \n",
    "dropoff_datetime:\t승객이 하차한(드롭오프) 날짜/시간 (timestamp)  \n",
    "PULocationID:\t  승차지(픽업장소)의 택시존 고유번호 (NYC 공식 zone code)  \n",
    "DOLocationID:\t  하차지(드롭오프장소)의 택시존 고유번호 (NYC 공식 zone code)  \n",
    "SR_Flag:\tShared Ride(합승) 여부 플래그 (1=합승, 0 또는 null=단독 탑승 등)  "
   ]
  },
  {
   "cell_type": "code",
   "execution_count": 62,
   "id": "82bc7301-3caf-47f4-8bc4-20be2ede2e9a",
   "metadata": {},
   "outputs": [
    {
     "name": "stdout",
     "output_type": "stream",
     "text": [
      "root\n",
      " |-- LocationID: integer (nullable = true)\n",
      " |-- Borough: string (nullable = true)\n",
      " |-- Zone: string (nullable = true)\n",
      " |-- service_zone: string (nullable = true)\n",
      "\n"
     ]
    }
   ],
   "source": [
    "zone_data.printSchema()"
   ]
  },
  {
   "cell_type": "markdown",
   "id": "73e8f369-799b-4826-8f5c-85f857aaaf18",
   "metadata": {},
   "source": [
    "LocationID:\t뉴욕시 공식 택시존 고유 번호 (승·하차 장소 매핑의 기준 컬럼)  \n",
    "Borough:  해당 zone이 속한 뉴욕시 행정구(5개구: Manhattan, Brooklyn 등)  \n",
    "Zone:\t구체적 동네/구역 이름 (예: Upper East Side, JFK Airport 등)  \n",
    "service_zone:\t서비스 구분용 구역 그룹 (예: Yellow Zone, Boro Zone 등)  "
   ]
  },
  {
   "cell_type": "code",
   "execution_count": 64,
   "id": "3cb6b8f7-c780-4c4b-901f-291d6eb9121a",
   "metadata": {},
   "outputs": [],
   "source": [
    "##  1. 승차 Location(PULocationID)별 개수 세기  \n",
    "# 2. 하차 Location(DOLocationID)별 개수 세기  \n",
    "# 3.HV0003 운송사업자의 승차 지역별 트립 건수를 집계하기.    \n",
    "# 4.가장 많은 운송사업자순으로 정렬하는 분석 쿼리  hvfhs_license_num    \n",
    "# 5.운송사별 운행 건수 비교  \n",
    "# 6. 승차 위치 Borough별 운행 건수  \n",
    "# 7. 서비스 존별 승차/하차 건수  "
   ]
  },
  {
   "cell_type": "code",
   "execution_count": 80,
   "id": "171ae956-6f61-451a-b2d1-0aaad6ee4eee",
   "metadata": {},
   "outputs": [
    {
     "name": "stdout",
     "output_type": "stream",
     "text": [
      "hvfhs_license_num: 0\n",
      "dispatching_base_num: 0\n",
      "pickup_datetime: 0\n",
      "dropoff_datetime: 0\n",
      "PULocationID: 0\n",
      "DOLocationID: 0\n",
      "SR_Flag: 12120323\n"
     ]
    }
   ],
   "source": [
    "#결측치 확인\n",
    "from pyspark.sql.functions import col\n",
    "\n",
    "for c in trip_data.columns:\n",
    "    null_cnt = trip_data.filter(col(c).isNull()).count()\n",
    "    print(f\"{c}: {null_cnt}\")"
   ]
  },
  {
   "cell_type": "code",
   "execution_count": 65,
   "id": "801c72a5-4058-4923-aa61-589bb6ab1eab",
   "metadata": {},
   "outputs": [
    {
     "name": "stdout",
     "output_type": "stream",
     "text": [
      "+------------+------+\n",
      "|PULocationID| count|\n",
      "+------------+------+\n",
      "|          61|222094|\n",
      "|          79|183821|\n",
      "|          76|168311|\n",
      "|         132|163734|\n",
      "|         138|155876|\n",
      "|          37|155388|\n",
      "|          42|143389|\n",
      "|         231|135712|\n",
      "|         234|132693|\n",
      "|         161|128751|\n",
      "|         244|126621|\n",
      "|          17|126228|\n",
      "|           7|125458|\n",
      "|          89|124289|\n",
      "|         225|124001|\n",
      "|         170|122731|\n",
      "|         230|121628|\n",
      "|         181|121576|\n",
      "|          48|120732|\n",
      "|          39|116669|\n",
      "+------------+------+\n",
      "only showing top 20 rows\n",
      "\n"
     ]
    }
   ],
   "source": [
    "#1.승차 Location(PULocationID)별 개수 세기  \n",
    "\n",
    "trip_data.groupBy('PULocationID')\\\n",
    "    .count()\\\n",
    "    .orderBy('count',ascending=False)\\\n",
    "    .show()"
   ]
  },
  {
   "cell_type": "code",
   "execution_count": 67,
   "id": "6f06cfd2-6715-4b98-abf5-153c7ade7265",
   "metadata": {},
   "outputs": [
    {
     "name": "stdout",
     "output_type": "stream",
     "text": [
      "+------------+------+\n",
      "|DOLocationID| count|\n",
      "+------------+------+\n",
      "|         265|387758|\n",
      "|          61|224476|\n",
      "|         132|216213|\n",
      "|         138|194943|\n",
      "|          76|172649|\n",
      "|          37|158832|\n",
      "|          79|147732|\n",
      "|          42|136729|\n",
      "|         225|128945|\n",
      "|          17|128152|\n",
      "|         244|127797|\n",
      "|          89|126958|\n",
      "|           7|124255|\n",
      "|         161|121771|\n",
      "|         234|118345|\n",
      "|         181|116900|\n",
      "|         231|116345|\n",
      "|          39|113966|\n",
      "|         188|113280|\n",
      "|         170|109306|\n",
      "+------------+------+\n",
      "only showing top 20 rows\n",
      "\n"
     ]
    }
   ],
   "source": [
    "# 2. 하차 Location(DOLocationID)별 개수 세기  \n",
    "trip_data.groupBy('DOLocationID')\\\n",
    "    .count()\\\n",
    "    .orderBy('count', ascending=False)\\\n",
    "    .show()"
   ]
  },
  {
   "cell_type": "code",
   "execution_count": 70,
   "id": "e6b99835-3c58-4df5-b717-53e5457f757d",
   "metadata": {},
   "outputs": [
    {
     "name": "stdout",
     "output_type": "stream",
     "text": [
      "+-----------------+------------+------+\n",
      "|hvfhs_license_num|PULocationID| count|\n",
      "+-----------------+------------+------+\n",
      "|           HV0003|          61|163091|\n",
      "|           HV0003|          76|134198|\n",
      "|           HV0003|         132|114179|\n",
      "|           HV0003|          79|112017|\n",
      "|           HV0003|          37|110150|\n",
      "|           HV0003|          42|108070|\n",
      "|           HV0003|         138|104119|\n",
      "|           HV0003|         244| 97324|\n",
      "|           HV0003|          89| 95724|\n",
      "|           HV0003|          39| 94484|\n",
      "|           HV0003|         231| 94155|\n",
      "|           HV0003|           7| 92676|\n",
      "|           HV0003|          17| 90352|\n",
      "|           HV0003|         161| 90261|\n",
      "|           HV0003|         225| 88749|\n",
      "|           HV0003|         234| 88372|\n",
      "|           HV0003|         230| 86870|\n",
      "|           HV0003|         188| 84347|\n",
      "|           HV0003|          35| 82764|\n",
      "|           HV0003|         168| 82396|\n",
      "+-----------------+------------+------+\n",
      "only showing top 20 rows\n",
      "\n"
     ]
    }
   ],
   "source": [
    "# 3.HV0003 운송사업자의 승차 지역별 트립 건수를 집계하기.    \n",
    "\n",
    "hv3_pickup_count = trip_data.filter(trip_data.hvfhs_license_num == 'HV0003') \\\n",
    "    .groupBy('hvfhs_license_num', 'PULocationID') \\\n",
    "    .count() \\\n",
    "    .orderBy('count', ascending=False)\n",
    "\n",
    "hv3_pickup_count.show()"
   ]
  },
  {
   "cell_type": "code",
   "execution_count": 72,
   "id": "f4971d3c-229f-47e7-abad-95d511c90227",
   "metadata": {},
   "outputs": [
    {
     "name": "stdout",
     "output_type": "stream",
     "text": [
      "+-----------------+-------+\n",
      "|hvfhs_license_num|  count|\n",
      "+-----------------+-------+\n",
      "|           HV0003|9836763|\n",
      "|           HV0005|3219535|\n",
      "|           HV0004| 336606|\n",
      "+-----------------+-------+\n",
      "\n"
     ]
    }
   ],
   "source": [
    "# 4.가장 많은 운송사업자순으로 정렬하는 분석 쿼리  hvfhs_license_num    \n",
    "\n",
    "trip_data.groupBy('hvfhs_license_num')\\\n",
    "    .count()\\\n",
    "    .orderBy('count',ascending=False)\\\n",
    "    .show()"
   ]
  },
  {
   "cell_type": "code",
   "execution_count": 73,
   "id": "479af161-4357-43eb-86e4-cadd6e7d36be",
   "metadata": {},
   "outputs": [
    {
     "name": "stdout",
     "output_type": "stream",
     "text": [
      "+-----------------+-------+\n",
      "|hvfhs_license_num|  count|\n",
      "+-----------------+-------+\n",
      "|           HV0003|9836763|\n",
      "|           HV0005|3219535|\n",
      "|           HV0004| 336606|\n",
      "+-----------------+-------+\n",
      "\n"
     ]
    }
   ],
   "source": [
    "# 5.운송사별 운행 건수 비교  \n",
    "\n",
    "carrier_counts = trip_data.groupBy('hvfhs_license_num') \\\n",
    "    .count() \\\n",
    "    .orderBy('count', ascending=False)\n",
    "\n",
    "carrier_counts.show()"
   ]
  },
  {
   "cell_type": "code",
   "execution_count": 77,
   "id": "24d1ffd8-3f87-44de-a311-57582eafd1a4",
   "metadata": {},
   "outputs": [
    {
     "name": "stdout",
     "output_type": "stream",
     "text": [
      "+-------------+-------+\n",
      "|      Borough|  count|\n",
      "+-------------+-------+\n",
      "|    Manhattan|4953140|\n",
      "|     Brooklyn|3735764|\n",
      "|       Queens|2437383|\n",
      "|        Bronx|2086592|\n",
      "|Staten Island| 178818|\n",
      "|      Unknown|    845|\n",
      "|          EWR|    362|\n",
      "+-------------+-------+\n",
      "\n"
     ]
    }
   ],
   "source": [
    "# 6. 승차 위치 Borough별 운행 건수  \n",
    "\n",
    "\n",
    "trip_data.join(\n",
    "    zone_data,\n",
    "    trip_data.PULocationID==zone_data.LocationID,\n",
    "    'left'\n",
    ").groupBy('Borough')\\\n",
    " .count()\\\n",
    " .orderBy('count',ascending=False)\\\n",
    " .show()"
   ]
  },
  {
   "cell_type": "code",
   "execution_count": 78,
   "id": "8156ee47-29f8-4ba1-998f-ed5e3ce86ed2",
   "metadata": {},
   "outputs": [
    {
     "name": "stdout",
     "output_type": "stream",
     "text": [
      "+------------+-------+\n",
      "|service_zone|  count|\n",
      "+------------+-------+\n",
      "|   Boro Zone|9046897|\n",
      "| Yellow Zone|4025190|\n",
      "|    Airports| 319610|\n",
      "|         N/A|    845|\n",
      "|         EWR|    362|\n",
      "+------------+-------+\n",
      "\n"
     ]
    }
   ],
   "source": [
    "# 7. 서비스 존별 승차 건수  \n",
    "\n",
    "trip_data.join(\n",
    "    zone_data,\n",
    "    trip_data.PULocationID==zone_data.LocationID,\n",
    "    'left'\n",
    ").groupBy('service_zone')\\\n",
    " .count()\\\n",
    " .orderBy('count',ascending=False)\\\n",
    " .show()"
   ]
  },
  {
   "cell_type": "code",
   "execution_count": 79,
   "id": "0a5f3aa4-be73-449b-b9be-fc9c22a0cd33",
   "metadata": {},
   "outputs": [
    {
     "name": "stdout",
     "output_type": "stream",
     "text": [
      "+------------+-------+\n",
      "|service_zone|  count|\n",
      "+------------+-------+\n",
      "|   Boro Zone|8885136|\n",
      "| Yellow Zone|3643787|\n",
      "|    Airports| 411156|\n",
      "|         N/A| 387759|\n",
      "|         EWR|  65066|\n",
      "+------------+-------+\n",
      "\n"
     ]
    }
   ],
   "source": [
    "#7. 서비스 존별 하차 건수\n",
    "\n",
    "trip_data.join(\n",
    "    zone_data,\n",
    "    trip_data.DOLocationID == zone_data.LocationID,\n",
    "    'left'\n",
    ").groupBy('service_zone') \\\n",
    " .count() \\\n",
    " .orderBy('count', ascending=False) \\\n",
    " .show()"
   ]
  },
  {
   "cell_type": "markdown",
   "id": "e356e56b-f5d9-443b-a788-ee92cf4aad13",
   "metadata": {},
   "source": [
    "## #6. 시각화 및 인사이트 도출"
   ]
  },
  {
   "cell_type": "code",
   "execution_count": 92,
   "id": "a4edcd45-1f39-469e-be07-8e7cfdd9140e",
   "metadata": {},
   "outputs": [
    {
     "name": "stdout",
     "output_type": "stream",
     "text": [
      "/usr/share/fonts/opentype/urw-base35/URWGothic-Demi.otf\n",
      "/usr/share/fonts/opentype/urw-base35/URWGothic-Book.otf\n",
      "/usr/share/fonts/opentype/urw-base35/URWGothic-DemiOblique.otf\n",
      "/usr/share/fonts/opentype/urw-base35/URWGothic-BookOblique.otf\n"
     ]
    }
   ],
   "source": [
    "import matplotlib.font_manager as fm\n",
    "for font in fm.findSystemFonts():\n",
    "    if 'Nanum' in font or 'Malgun' in font or 'Apple' in font or 'DejaVu' in font or 'Gothic' in font:\n",
    "        print(font)"
   ]
  },
  {
   "cell_type": "code",
   "execution_count": 95,
   "id": "5a90d4b1-7ee5-4aae-8110-0cd6e53cb40f",
   "metadata": {},
   "outputs": [],
   "source": [
    "import matplotlib.pyplot as plt\n",
    "\n",
    "plt.rcParams['font.family'] = 'DejaVu Sans'  \n",
    "plt.rcParams['axes.unicode_minus'] = False  # 마이너스 기호 깨짐 방지"
   ]
  },
  {
   "cell_type": "code",
   "execution_count": 97,
   "id": "6277a895-77a8-46e1-8dfd-8d4a34f80cc1",
   "metadata": {},
   "outputs": [
    {
     "data": {
      "image/png": "[encoded data removed]",
      "text/plain": [
       "<Figure size 800x500 with 1 Axes>"
      ]
     },
     "metadata": {},
     "output_type": "display_data"
    }
   ],
   "source": [
    "# 1. Spark 집계 결과를 변수에 저장\n",
    "pickup_borough_count = trip_data.join(\n",
    "    zone_data,\n",
    "    trip_data.PULocationID == zone_data.LocationID,\n",
    "    'left'\n",
    ").groupBy('Borough') \\\n",
    " .count() \\\n",
    " .orderBy('count', ascending=False)\n",
    "\n",
    "# 2. Pandas로 변환\n",
    "pd_df = pickup_borough_count.toPandas()\n",
    "\n",
    "# 3. Barplot 시각화\n",
    "import matplotlib.pyplot as plt\n",
    "\n",
    "plt.figure(figsize=(8,5))\n",
    "plt.bar(pd_df['Borough'], pd_df['count'], color='skyblue')\n",
    "plt.title(\"NYC Trip Count by Borough\")\n",
    "plt.xlabel(\"Borough\")\n",
    "plt.ylabel(\"Trip Count\")\n",
    "plt.xticks(rotation=45)\n",
    "plt.tight_layout()\n",
    "plt.show()"
   ]
  }
 ],
 "metadata": {
  "kernelspec": {
   "display_name": "Python 3 (ipykernel)",
   "language": "python",
   "name": "python3"
  },
  "language_info": {
   "codemirror_mode": {
    "name": "ipython",
    "version": 3
   },
   "file_extension": ".py",
   "mimetype": "text/x-python",
   "name": "python",
   "nbconvert_exporter": "python",
   "pygments_lexer": "ipython3",
   "version": "3.11.6"
  }
 },
 "nbformat": 4,
 "nbformat_minor": 5
}
